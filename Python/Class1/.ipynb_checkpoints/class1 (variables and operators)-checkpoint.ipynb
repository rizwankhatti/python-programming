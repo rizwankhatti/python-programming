{
 "cells": [
  {
   "cell_type": "code",
   "execution_count": 1,
   "id": "d1606287-2e9d-444f-b472-213e9437445b",
   "metadata": {},
   "outputs": [
    {
     "name": "stdout",
     "output_type": "stream",
     "text": [
      "hello world\n"
     ]
    }
   ],
   "source": [
    "\n",
    "print(\"hello world\") # this is a code cell"
   ]
  },
  {
   "cell_type": "raw",
   "id": "e932500b-537e-47ed-8892-f4e5618f381a",
   "metadata": {},
   "source": [
    "this is a raw cell and you add simple plain text here..(not excecute)"
   ]
  },
  {
   "cell_type": "markdown",
   "id": "7e7afa5a-53ce-4bca-8d7a-994e008df970",
   "metadata": {},
   "source": [
    "this is a markdown cell so we have to follow the markdown syntax..(excecute)"
   ]
  },
  {
   "cell_type": "markdown",
   "id": "4af6f6b8-c648-4a36-a653-efc82613f418",
   "metadata": {},
   "source": [
    "# this is level-1 heading\n",
    "## this is level-1 heading\n",
    "### this is level-1 heading\n",
    "#### this is level-1 heading\n",
    "##### this is level-1 heading\n",
    "###### this is level-1 heading"
   ]
  },
  {
   "cell_type": "markdown",
   "id": "a7a67341-90e3-4a81-9e75-db625fb0792a",
   "metadata": {},
   "source": [
    "#### Shortcuts for jupyter notebook"
   ]
  },
  {
   "cell_type": "markdown",
   "id": "e0c773c4-8062-468a-bafc-a0eca70831f0",
   "metadata": {},
   "source": [
    "- ESC + M (to convert cell into markdown)\n",
    "- ESC + R (to convert cell into raw)\n",
    "- ESC + Y (to convert cell into code)\n",
    "- #1....#6 (for level 1/level6 headings)\n",
    "- ESC + A (to create cell above the present cell)\n",
    "- ESC + B (to create cell below the present cell)\n",
    "- ESC + DD (to delete the cell on which you are present)\n",
    "- SHIFT + ENTER (to run the cell and goto next cell)\n",
    "- CRTL + ENTER (to run the cell and not goto next cell)\n",
    "- CRTL + SHIFT + H (to get all jupyter notebook shortcuts)\n"
   ]
  },
  {
   "cell_type": "markdown",
   "id": "42d1b52f-ec05-48c9-883f-1a81ea86fefb",
   "metadata": {},
   "source": [
    "## Variables"
   ]
  },
  {
   "cell_type": "code",
   "execution_count": 1,
   "id": "7fb1b391-9837-4c69-ac21-f63176969f3e",
   "metadata": {},
   "outputs": [],
   "source": [
    "name = \"Rizwan Rehman\""
   ]
  },
  {
   "cell_type": "code",
   "execution_count": 3,
   "id": "c5089a22-b631-440d-af72-e3ee1d086ad7",
   "metadata": {},
   "outputs": [
    {
     "data": {
      "text/plain": [
       "'Rizwan Rehman'"
      ]
     },
     "execution_count": 3,
     "metadata": {},
     "output_type": "execute_result"
    }
   ],
   "source": [
    "name # variable of type string"
   ]
  },
  {
   "cell_type": "code",
   "execution_count": 3,
   "id": "ed6d6b29-ba7f-4989-8860-2756f8d958a1",
   "metadata": {},
   "outputs": [],
   "source": [
    "age = 18 "
   ]
  },
  {
   "cell_type": "code",
   "execution_count": 4,
   "id": "0077bfde-5123-448d-b9c1-bd7076f6ac91",
   "metadata": {},
   "outputs": [
    {
     "data": {
      "text/plain": [
       "18"
      ]
     },
     "execution_count": 4,
     "metadata": {},
     "output_type": "execute_result"
    }
   ],
   "source": [
    "age # variable of type integer"
   ]
  },
  {
   "cell_type": "code",
   "execution_count": 5,
   "id": "a92efc97-e1b9-4152-adbb-cd001a0ea9e7",
   "metadata": {},
   "outputs": [],
   "source": [
    "weight = 64.5"
   ]
  },
  {
   "cell_type": "code",
   "execution_count": 6,
   "id": "c037fea4-2b08-44aa-9cf2-aedf98e0b505",
   "metadata": {},
   "outputs": [
    {
     "data": {
      "text/plain": [
       "64.5"
      ]
     },
     "execution_count": 6,
     "metadata": {},
     "output_type": "execute_result"
    }
   ],
   "source": [
    "weight # variable of type float"
   ]
  },
  {
   "cell_type": "code",
   "execution_count": 7,
   "id": "38579039-bf05-4cea-afda-aa5537bda7f4",
   "metadata": {},
   "outputs": [],
   "source": [
    "is_present = True"
   ]
  },
  {
   "cell_type": "code",
   "execution_count": 8,
   "id": "b4a655e7-24de-4942-bebb-d28dec60ef74",
   "metadata": {},
   "outputs": [
    {
     "data": {
      "text/plain": [
       "True"
      ]
     },
     "execution_count": 8,
     "metadata": {},
     "output_type": "execute_result"
    }
   ],
   "source": [
    "is_present # variable of type booleon"
   ]
  },
  {
   "cell_type": "code",
   "execution_count": 13,
   "id": "69e89b09-3d00-46bb-a29f-b0666c458dca",
   "metadata": {},
   "outputs": [
    {
     "name": "stdout",
     "output_type": "stream",
     "text": [
      "<class 'str'>\n",
      "<class 'int'>\n",
      "<class 'float'>\n",
      "<class 'bool'>\n"
     ]
    }
   ],
   "source": [
    "# additional stuff\n",
    "# 1. type() - to give you the type of the varaible\n",
    "# 2. id() - to give you the address of the varaible\n",
    "print(type(name))\n",
    "print(type(age))\n",
    "print(type(weight))\n",
    "print(type(is_present))\n"
   ]
  },
  {
   "cell_type": "code",
   "execution_count": 14,
   "id": "5fd2a194-30d6-437b-87c8-a2b765fd3e57",
   "metadata": {},
   "outputs": [
    {
     "data": {
      "text/plain": [
       "2202395083440"
      ]
     },
     "execution_count": 14,
     "metadata": {},
     "output_type": "execute_result"
    }
   ],
   "source": [
    "id(name) "
   ]
  },
  {
   "cell_type": "markdown",
   "id": "6cf5f02b-2089-4cc6-af2f-bb8227551da5",
   "metadata": {},
   "source": [
    "## OPERATORS"
   ]
  },
  {
   "cell_type": "code",
   "execution_count": 15,
   "id": "c705c42c-645e-44c4-a165-25e16e9836c9",
   "metadata": {},
   "outputs": [
    {
     "data": {
      "text/plain": [
       "5"
      ]
     },
     "execution_count": 15,
     "metadata": {},
     "output_type": "execute_result"
    }
   ],
   "source": [
    "2+3"
   ]
  },
  {
   "cell_type": "code",
   "execution_count": 16,
   "id": "2dfdf852-0252-41bc-bfb1-442ac2c4a7f7",
   "metadata": {},
   "outputs": [
    {
     "data": {
      "text/plain": [
       "1"
      ]
     },
     "execution_count": 16,
     "metadata": {},
     "output_type": "execute_result"
    }
   ],
   "source": [
    "3-2"
   ]
  },
  {
   "cell_type": "code",
   "execution_count": 17,
   "id": "5dcc9ade-273e-4990-9f82-a786a0ec0f7c",
   "metadata": {},
   "outputs": [
    {
     "data": {
      "text/plain": [
       "8"
      ]
     },
     "execution_count": 17,
     "metadata": {},
     "output_type": "execute_result"
    }
   ],
   "source": [
    "2*4"
   ]
  },
  {
   "cell_type": "code",
   "execution_count": 18,
   "id": "3c623cc9-d133-454b-b956-d97acaf7e698",
   "metadata": {},
   "outputs": [
    {
     "data": {
      "text/plain": [
       "3.0"
      ]
     },
     "execution_count": 18,
     "metadata": {},
     "output_type": "execute_result"
    }
   ],
   "source": [
    "6/2"
   ]
  },
  {
   "cell_type": "code",
   "execution_count": 19,
   "id": "f012c653-7b78-4f5c-ac27-72db0bb5572e",
   "metadata": {},
   "outputs": [
    {
     "data": {
      "text/plain": [
       "3.5"
      ]
     },
     "execution_count": 19,
     "metadata": {},
     "output_type": "execute_result"
    }
   ],
   "source": [
    "7/2"
   ]
  },
  {
   "cell_type": "code",
   "execution_count": 21,
   "id": "1f5afb84-9570-4b7c-ab68-c66afb0c89f5",
   "metadata": {},
   "outputs": [
    {
     "data": {
      "text/plain": [
       "3"
      ]
     },
     "execution_count": 21,
     "metadata": {},
     "output_type": "execute_result"
    }
   ],
   "source": [
    "7//2 # floor operator"
   ]
  },
  {
   "cell_type": "code",
   "execution_count": 22,
   "id": "7b746d79-c031-4e7f-8531-13bedd00de99",
   "metadata": {},
   "outputs": [
    {
     "data": {
      "text/plain": [
       "8"
      ]
     },
     "execution_count": 22,
     "metadata": {},
     "output_type": "execute_result"
    }
   ],
   "source": [
    "2**3 # power operator 2*2*2"
   ]
  },
  {
   "cell_type": "markdown",
   "id": "3445db02-b455-497d-aa78-8ae27a7c650d",
   "metadata": {},
   "source": [
    "## EXPRESSIONS"
   ]
  },
  {
   "cell_type": "markdown",
   "id": "405dace0-cce4-483c-bb3e-f28a4114f147",
   "metadata": {},
   "source": [
    "#### PEMDAS\n",
    "- paranthesis,\n",
    "- exponential power,\n",
    "- multiplication,\n",
    "- division,\n",
    "- addition,\n",
    "- subtraction"
   ]
  },
  {
   "cell_type": "raw",
   "id": "ad13006e-c07d-4629-bd95-899c2b75a5cd",
   "metadata": {},
   "source": [
    "= (2-3)-(4-3)-4/5\n",
    "= -1-1-4/5 --> solve p\n",
    "= -1-1-0.8 --> solve D\n",
    "= -2.8 --> solve A"
   ]
  },
  {
   "cell_type": "raw",
   "id": "c186bbb6-fe94-453b-89e3-22608f91cb6b",
   "metadata": {},
   "source": [
    "= (((4+5)**2)*4)/5+(3-2)\n",
    "= ((9**2)*4)/5+1 --> solve nested P\n",
    "= (81*4)/5+1 --> solve nested P and E\n",
    "= 324/5+1 --> solve P\n",
    "= 64.8+1 --> solve D\n",
    "= 65.8 --> solve A"
   ]
  },
  {
   "cell_type": "code",
   "execution_count": 7,
   "id": "7b995d82-3e75-4adf-b0e2-d3f97fae9788",
   "metadata": {},
   "outputs": [
    {
     "data": {
      "text/plain": [
       "-2.8"
      ]
     },
     "execution_count": 7,
     "metadata": {},
     "output_type": "execute_result"
    }
   ],
   "source": [
    "(2-3)-(4-3)-4/5"
   ]
  },
  {
   "cell_type": "code",
   "execution_count": 8,
   "id": "36b11c24-68f4-4de8-9331-f88ba5ea923f",
   "metadata": {},
   "outputs": [
    {
     "data": {
      "text/plain": [
       "65.8"
      ]
     },
     "execution_count": 8,
     "metadata": {},
     "output_type": "execute_result"
    }
   ],
   "source": [
    "(((4+5)**2)*4)/5+(3-2)"
   ]
  },
  {
   "cell_type": "markdown",
   "id": "a8a30d0a-caa5-4b07-a3b2-d4cf8dc32616",
   "metadata": {},
   "source": [
    "## Advanced Operators"
   ]
  },
  {
   "cell_type": "markdown",
   "id": "f9d7b36f-7c22-4ff2-adde-75f0cb8f733b",
   "metadata": {},
   "source": [
    "- +=\n",
    "- -=\n",
    "- /=\n",
    "- *="
   ]
  },
  {
   "cell_type": "code",
   "execution_count": 6,
   "id": "78017b08-02e9-4c34-b5a1-9d8c22e8366c",
   "metadata": {},
   "outputs": [],
   "source": [
    "num1 = 5\n",
    "num2 = 4"
   ]
  },
  {
   "cell_type": "code",
   "execution_count": 7,
   "id": "911aabe8-d145-4fcf-95b5-3ad18119b8dd",
   "metadata": {},
   "outputs": [],
   "source": [
    "num1 += num2"
   ]
  },
  {
   "cell_type": "code",
   "execution_count": 8,
   "id": "063ef540-e492-4d7e-8fd3-b815401da97f",
   "metadata": {},
   "outputs": [
    {
     "data": {
      "text/plain": [
       "9"
      ]
     },
     "execution_count": 8,
     "metadata": {},
     "output_type": "execute_result"
    }
   ],
   "source": [
    "num1"
   ]
  },
  {
   "cell_type": "code",
   "execution_count": 9,
   "id": "d0db5601-baec-4a22-974f-d52d939c8759",
   "metadata": {},
   "outputs": [
    {
     "data": {
      "text/plain": [
       "4"
      ]
     },
     "execution_count": 9,
     "metadata": {},
     "output_type": "execute_result"
    }
   ],
   "source": [
    "num2"
   ]
  },
  {
   "cell_type": "code",
   "execution_count": 10,
   "id": "23dd22de-422d-40dd-9fe0-95259fdea9be",
   "metadata": {},
   "outputs": [],
   "source": [
    "num1 -= num2"
   ]
  },
  {
   "cell_type": "code",
   "execution_count": 11,
   "id": "0d3637b7-708d-4bfd-9900-843eec270bec",
   "metadata": {},
   "outputs": [
    {
     "data": {
      "text/plain": [
       "5"
      ]
     },
     "execution_count": 11,
     "metadata": {},
     "output_type": "execute_result"
    }
   ],
   "source": [
    "num1"
   ]
  },
  {
   "cell_type": "code",
   "execution_count": 12,
   "id": "df814d3e-23bf-48e0-8646-d49f9e7a2edb",
   "metadata": {},
   "outputs": [
    {
     "data": {
      "text/plain": [
       "4"
      ]
     },
     "execution_count": 12,
     "metadata": {},
     "output_type": "execute_result"
    }
   ],
   "source": [
    "num2"
   ]
  },
  {
   "cell_type": "code",
   "execution_count": 13,
   "id": "b7113da2-8ac8-4190-948c-13b2f8d2930f",
   "metadata": {},
   "outputs": [],
   "source": [
    "num1 *= num2"
   ]
  },
  {
   "cell_type": "code",
   "execution_count": 14,
   "id": "1119c9e5-d5c9-4b0b-921c-468b1e0fdd12",
   "metadata": {},
   "outputs": [
    {
     "data": {
      "text/plain": [
       "20"
      ]
     },
     "execution_count": 14,
     "metadata": {},
     "output_type": "execute_result"
    }
   ],
   "source": [
    "num1"
   ]
  },
  {
   "cell_type": "code",
   "execution_count": 15,
   "id": "b5a9a719-f032-4fde-88ec-393669d44cf5",
   "metadata": {},
   "outputs": [
    {
     "data": {
      "text/plain": [
       "4"
      ]
     },
     "execution_count": 15,
     "metadata": {},
     "output_type": "execute_result"
    }
   ],
   "source": [
    "num2"
   ]
  },
  {
   "cell_type": "code",
   "execution_count": 16,
   "id": "16861245-c26b-4f35-a9ba-1e4335060748",
   "metadata": {},
   "outputs": [],
   "source": [
    "num1 /= num2"
   ]
  },
  {
   "cell_type": "code",
   "execution_count": 12,
   "id": "2c4da528-bebb-45a2-a1b9-05a85b9b1752",
   "metadata": {},
   "outputs": [
    {
     "data": {
      "text/plain": [
       "5.0"
      ]
     },
     "execution_count": 12,
     "metadata": {},
     "output_type": "execute_result"
    }
   ],
   "source": [
    "num1"
   ]
  },
  {
   "cell_type": "code",
   "execution_count": 17,
   "id": "c25264e5-7694-492d-87a5-fa62af08c867",
   "metadata": {},
   "outputs": [
    {
     "data": {
      "text/plain": [
       "4"
      ]
     },
     "execution_count": 17,
     "metadata": {},
     "output_type": "execute_result"
    }
   ],
   "source": [
    "num2"
   ]
  },
  {
   "cell_type": "raw",
   "id": "7fd0da90-961d-4563-aeaa-c0c2a6244ce1",
   "metadata": {},
   "source": [
    "- >\n",
    "- < \n",
    "- >=\n",
    "- <=\n",
    "- <> or != (not equals to)\n",
    "- == (equals to)"
   ]
  },
  {
   "cell_type": "code",
   "execution_count": 14,
   "id": "de5a5767-ec5c-4c53-8cb3-8ae61554dcd4",
   "metadata": {},
   "outputs": [
    {
     "data": {
      "text/plain": [
       "False"
      ]
     },
     "execution_count": 14,
     "metadata": {},
     "output_type": "execute_result"
    }
   ],
   "source": [
    "5 < 2"
   ]
  },
  {
   "cell_type": "code",
   "execution_count": 15,
   "id": "9966667c-287d-403c-b69a-01cf08bca114",
   "metadata": {},
   "outputs": [
    {
     "data": {
      "text/plain": [
       "True"
      ]
     },
     "execution_count": 15,
     "metadata": {},
     "output_type": "execute_result"
    }
   ],
   "source": [
    "5 > 2"
   ]
  },
  {
   "cell_type": "code",
   "execution_count": 16,
   "id": "6020aeed-5d2a-4e9b-820e-67eb38187c46",
   "metadata": {},
   "outputs": [
    {
     "data": {
      "text/plain": [
       "True"
      ]
     },
     "execution_count": 16,
     "metadata": {},
     "output_type": "execute_result"
    }
   ],
   "source": [
    "5 >= 5"
   ]
  },
  {
   "cell_type": "code",
   "execution_count": 17,
   "id": "234045cf-b04d-49a5-9c3a-bbcdc14566f4",
   "metadata": {},
   "outputs": [
    {
     "data": {
      "text/plain": [
       "True"
      ]
     },
     "execution_count": 17,
     "metadata": {},
     "output_type": "execute_result"
    }
   ],
   "source": [
    "5 <= 5"
   ]
  },
  {
   "cell_type": "code",
   "execution_count": 18,
   "id": "9d37f953-19a5-45b9-9ece-d81c01a14140",
   "metadata": {},
   "outputs": [
    {
     "data": {
      "text/plain": [
       "False"
      ]
     },
     "execution_count": 18,
     "metadata": {},
     "output_type": "execute_result"
    }
   ],
   "source": [
    "1 != 1"
   ]
  },
  {
   "cell_type": "code",
   "execution_count": 20,
   "id": "f95af68a-23c5-415b-8b4d-ae2df29ff707",
   "metadata": {},
   "outputs": [
    {
     "data": {
      "text/plain": [
       "True"
      ]
     },
     "execution_count": 20,
     "metadata": {},
     "output_type": "execute_result"
    }
   ],
   "source": [
    "5 == 5"
   ]
  },
  {
   "cell_type": "raw",
   "id": "35f6d3ca-7164-4b44-998b-8c93fd4d317b",
   "metadata": {},
   "source": [
    "1 <> 1 # this operatpr is been used in older verson of python"
   ]
  },
  {
   "cell_type": "code",
   "execution_count": null,
   "id": "0ee244e9-fff6-4f18-808b-ede7c722a496",
   "metadata": {},
   "outputs": [],
   "source": []
  }
 ],
 "metadata": {
  "kernelspec": {
   "display_name": "Python 3 (ipykernel)",
   "language": "python",
   "name": "python3"
  },
  "language_info": {
   "codemirror_mode": {
    "name": "ipython",
    "version": 3
   },
   "file_extension": ".py",
   "mimetype": "text/x-python",
   "name": "python",
   "nbconvert_exporter": "python",
   "pygments_lexer": "ipython3",
   "version": "3.13.5"
  }
 },
 "nbformat": 4,
 "nbformat_minor": 5
}
