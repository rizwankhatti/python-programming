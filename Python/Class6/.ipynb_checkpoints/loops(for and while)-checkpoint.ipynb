{
 "cells": [
  {
   "cell_type": "markdown",
   "id": "567ce152-f5a4-4d8f-aeaa-49b8ee4dc61a",
   "metadata": {},
   "source": [
    "### loops\n",
    "loops are used to repeat instructions"
   ]
  },
  {
   "cell_type": "raw",
   "id": "98cde54c-77ff-45a1-a16b-b4ea89fae91c",
   "metadata": {},
   "source": [
    "...SYNTAX...\n",
    "while loop\n",
    "while condition:\n",
    "    <some work>"
   ]
  },
  {
   "cell_type": "code",
   "execution_count": 2,
   "id": "e1038acc-767d-448d-a684-e82d32b96fde",
   "metadata": {},
   "outputs": [
    {
     "name": "stdout",
     "output_type": "stream",
     "text": [
      "Hello world\n",
      "Hello world\n",
      "Hello world\n",
      "Hello world\n",
      "Hello world\n"
     ]
    }
   ],
   "source": [
    "count = 1\n",
    "while count <= 5:\n",
    "    print(\"Hello world\")\n",
    "    count += 1"
   ]
  },
  {
   "cell_type": "code",
   "execution_count": 3,
   "id": "0beb6dff-5cce-4081-945f-df803e62336b",
   "metadata": {},
   "outputs": [
    {
     "name": "stdout",
     "output_type": "stream",
     "text": [
      "1\n",
      "2\n",
      "3\n",
      "4\n",
      "5\n"
     ]
    }
   ],
   "source": [
    "i = 1\n",
    "while i <= 5:\n",
    "    print(i)\n",
    "    i += 1"
   ]
  },
  {
   "cell_type": "code",
   "execution_count": 4,
   "id": "9ceda5ce-cd78-435e-b8ff-a2be523d2cd3",
   "metadata": {},
   "outputs": [
    {
     "name": "stdout",
     "output_type": "stream",
     "text": [
      "5\n",
      "4\n",
      "3\n",
      "2\n",
      "1\n"
     ]
    }
   ],
   "source": [
    "i = 5\n",
    "while i >= 1:\n",
    "    print(i)\n",
    "    i -= 1"
   ]
  },
  {
   "cell_type": "markdown",
   "id": "b035ab15-1465-4f4b-96a8-041e9417331f",
   "metadata": {},
   "source": [
    "#### PRACTICE QUESTION\n",
    "- print numbers from 1 to 100"
   ]
  },
  {
   "cell_type": "code",
   "execution_count": 5,
   "id": "cd78fe07-5b29-416b-b929-b2d4303be6cb",
   "metadata": {},
   "outputs": [
    {
     "name": "stdout",
     "output_type": "stream",
     "text": [
      "1\n",
      "2\n",
      "3\n",
      "4\n",
      "5\n",
      "6\n",
      "7\n",
      "8\n",
      "9\n",
      "10\n",
      "11\n",
      "12\n",
      "13\n",
      "14\n",
      "15\n",
      "16\n",
      "17\n",
      "18\n",
      "19\n",
      "20\n",
      "21\n",
      "22\n",
      "23\n",
      "24\n",
      "25\n",
      "26\n",
      "27\n",
      "28\n",
      "29\n",
      "30\n",
      "31\n",
      "32\n",
      "33\n",
      "34\n",
      "35\n",
      "36\n",
      "37\n",
      "38\n",
      "39\n",
      "40\n",
      "41\n",
      "42\n",
      "43\n",
      "44\n",
      "45\n",
      "46\n",
      "47\n",
      "48\n",
      "49\n",
      "50\n",
      "51\n",
      "52\n",
      "53\n",
      "54\n",
      "55\n",
      "56\n",
      "57\n",
      "58\n",
      "59\n",
      "60\n",
      "61\n",
      "62\n",
      "63\n",
      "64\n",
      "65\n",
      "66\n",
      "67\n",
      "68\n",
      "69\n",
      "70\n",
      "71\n",
      "72\n",
      "73\n",
      "74\n",
      "75\n",
      "76\n",
      "77\n",
      "78\n",
      "79\n",
      "80\n",
      "81\n",
      "82\n",
      "83\n",
      "84\n",
      "85\n",
      "86\n",
      "87\n",
      "88\n",
      "89\n",
      "90\n",
      "91\n",
      "92\n",
      "93\n",
      "94\n",
      "95\n",
      "96\n",
      "97\n",
      "98\n",
      "99\n",
      "100\n"
     ]
    }
   ],
   "source": [
    "i = 1\n",
    "while i <= 100:\n",
    "    print(i)\n",
    "    i += 1"
   ]
  },
  {
   "cell_type": "markdown",
   "id": "34729f51-9aad-45d3-947f-a05840b92bcb",
   "metadata": {},
   "source": [
    "- print numbers from 100 to 1"
   ]
  },
  {
   "cell_type": "code",
   "execution_count": 6,
   "id": "db89a4fa-aa75-4f40-9d46-d7020620e637",
   "metadata": {},
   "outputs": [
    {
     "name": "stdout",
     "output_type": "stream",
     "text": [
      "100\n",
      "99\n",
      "98\n",
      "97\n",
      "96\n",
      "95\n",
      "94\n",
      "93\n",
      "92\n",
      "91\n",
      "90\n",
      "89\n",
      "88\n",
      "87\n",
      "86\n",
      "85\n",
      "84\n",
      "83\n",
      "82\n",
      "81\n",
      "80\n",
      "79\n",
      "78\n",
      "77\n",
      "76\n",
      "75\n",
      "74\n",
      "73\n",
      "72\n",
      "71\n",
      "70\n",
      "69\n",
      "68\n",
      "67\n",
      "66\n",
      "65\n",
      "64\n",
      "63\n",
      "62\n",
      "61\n",
      "60\n",
      "59\n",
      "58\n",
      "57\n",
      "56\n",
      "55\n",
      "54\n",
      "53\n",
      "52\n",
      "51\n",
      "50\n",
      "49\n",
      "48\n",
      "47\n",
      "46\n",
      "45\n",
      "44\n",
      "43\n",
      "42\n",
      "41\n",
      "40\n",
      "39\n",
      "38\n",
      "37\n",
      "36\n",
      "35\n",
      "34\n",
      "33\n",
      "32\n",
      "31\n",
      "30\n",
      "29\n",
      "28\n",
      "27\n",
      "26\n",
      "25\n",
      "24\n",
      "23\n",
      "22\n",
      "21\n",
      "20\n",
      "19\n",
      "18\n",
      "17\n",
      "16\n",
      "15\n",
      "14\n",
      "13\n",
      "12\n",
      "11\n",
      "10\n",
      "9\n",
      "8\n",
      "7\n",
      "6\n",
      "5\n",
      "4\n",
      "3\n",
      "2\n",
      "1\n"
     ]
    }
   ],
   "source": [
    "i = 100\n",
    "while i >= 1:\n",
    "    print(i)\n",
    "    i -= 1"
   ]
  },
  {
   "cell_type": "markdown",
   "id": "0bb4816e-1227-4ff4-bc33-c7f09874c14d",
   "metadata": {},
   "source": [
    "- print the multiplicaton table of a number n."
   ]
  },
  {
   "cell_type": "code",
   "execution_count": 8,
   "id": "55059aa4-3bf4-4100-99e3-46e453f98f91",
   "metadata": {},
   "outputs": [
    {
     "name": "stdin",
     "output_type": "stream",
     "text": [
      "Enter number :  5\n"
     ]
    },
    {
     "name": "stdout",
     "output_type": "stream",
     "text": [
      "5\n",
      "10\n",
      "15\n",
      "20\n",
      "25\n",
      "30\n",
      "35\n",
      "40\n",
      "45\n",
      "50\n"
     ]
    }
   ],
   "source": [
    "n = int(input(\"Enter number : \"))\n",
    "i = 1\n",
    "while i <= 10:\n",
    "    print(n*i)\n",
    "    i += 1\n",
    "              "
   ]
  },
  {
   "cell_type": "markdown",
   "id": "28f63e62-7ab0-4a0c-a5e4-30ca082f2172",
   "metadata": {},
   "source": [
    "- print the elements of the following list using a loop "
   ]
  },
  {
   "cell_type": "code",
   "execution_count": 11,
   "id": "68ba6427-5af7-4e36-8c1e-a3bd78de5024",
   "metadata": {},
   "outputs": [
    {
     "name": "stdout",
     "output_type": "stream",
     "text": [
      "1\n",
      "4\n",
      "9\n",
      "16\n",
      "25\n",
      "36\n",
      "49\n",
      "64\n",
      "81\n",
      "100\n"
     ]
    }
   ],
   "source": [
    "nums = [1,4,9,16,25,36,49,64,81,100]\n",
    "idx = 0 \n",
    "while idx < len(nums): # 9 < 10\n",
    "    print(nums[idx]) # nums[0],nums[1]......nums[]\n",
    "    idx += 1\n"
   ]
  },
  {
   "cell_type": "markdown",
   "id": "6ce0b8d4-e276-4c0b-85eb-0b560c576bb0",
   "metadata": {},
   "source": [
    "- above code can write in other way"
   ]
  },
  {
   "cell_type": "code",
   "execution_count": 12,
   "id": "8469066c-5ddd-4e29-bd73-65d61dccfbac",
   "metadata": {},
   "outputs": [
    {
     "name": "stdout",
     "output_type": "stream",
     "text": [
      "1\n",
      "4\n",
      "9\n",
      "16\n",
      "25\n",
      "36\n",
      "49\n",
      "64\n",
      "81\n",
      "100\n"
     ]
    }
   ],
   "source": [
    "nums = [1,4,9,16,25,36,49,64,81,100]\n",
    "i = 0\n",
    "while i <= len(nums)-1:\n",
    "    print(nums[i])\n",
    "    i += 1"
   ]
  },
  {
   "cell_type": "code",
   "execution_count": 13,
   "id": "0c101dda-f968-4f3e-8fd5-3546b67474f1",
   "metadata": {},
   "outputs": [
    {
     "name": "stdout",
     "output_type": "stream",
     "text": [
      "ironman\n",
      "thor\n",
      "superman\n",
      "batman\n"
     ]
    }
   ],
   "source": [
    "heroes = [\"ironman\",\"thor\",\"superman\",\"batman\"]\n",
    "i = 0\n",
    "while i < len(heroes):\n",
    "    print(heroes[i])\n",
    "    i += 1"
   ]
  },
  {
   "cell_type": "markdown",
   "id": "94e4a47e-86eb-44e5-b391-c86bc04f936d",
   "metadata": {},
   "source": [
    "- search for a number x in this tuple using loop"
   ]
  },
  {
   "cell_type": "code",
   "execution_count": 19,
   "id": "8e42075e-92d4-4e95-8ddf-10a11d3e83f6",
   "metadata": {},
   "outputs": [
    {
     "name": "stdin",
     "output_type": "stream",
     "text": [
      "Enter  number :  64\n"
     ]
    },
    {
     "name": "stdout",
     "output_type": "stream",
     "text": [
      "nothing....\n",
      "nothing....\n",
      "nothing....\n",
      "nothing....\n",
      "nothing....\n",
      "nothing....\n",
      "nothing....\n",
      "found at index 7\n",
      "nothing....\n",
      "nothing....\n"
     ]
    }
   ],
   "source": [
    "nums = (1,4,9,16,25,36,49,64,81,100)\n",
    "\n",
    "x = int(input(\"Enter  number : \"))\n",
    "i = 0\n",
    "while i < len(nums):\n",
    "    if(nums[i] == x):\n",
    "        print(\"found at index\",i)\n",
    "    else:\n",
    "        print(\"nothing....\")\n",
    "    i += 1\n",
    "    \n",
    "    "
   ]
  },
  {
   "cell_type": "code",
   "execution_count": 21,
   "id": "f7f39d9e-c93d-4e3e-a958-03b50dbcd905",
   "metadata": {},
   "outputs": [
    {
     "name": "stdin",
     "output_type": "stream",
     "text": [
      "Enter a number :  36\n"
     ]
    },
    {
     "name": "stdout",
     "output_type": "stream",
     "text": [
      "noting....\n",
      "noting....\n",
      "noting....\n",
      "noting....\n",
      "noting....\n",
      "found at index 5\n",
      "noting....\n",
      "noting....\n",
      "noting....\n",
      "noting....\n",
      "found at index 10\n"
     ]
    }
   ],
   "source": [
    "nums = (1,4,9,16,25,36,49,64,81,100,36)\n",
    "\n",
    "x = int(input(\"Enter a number : \"))\n",
    "i = 0\n",
    "while i < len(nums):\n",
    "    if(nums[i] == x):\n",
    "        print(\"found at index\",i)\n",
    "    else:\n",
    "        print(\"noting....\")\n",
    "    i += 1"
   ]
  },
  {
   "cell_type": "markdown",
   "id": "5b701923-9deb-4547-a031-a51cc1d7fb3c",
   "metadata": {},
   "source": [
    "#### BREAK AND CONTINUE KEYWORD\n",
    "- BREAK (used to terminate the loop when encountered)\n",
    "- CONTINUE (terninates excecution in the current iteration and continues execution of the loop with the next iteration)"
   ]
  },
  {
   "cell_type": "code",
   "execution_count": 1,
   "id": "cdfd91ba-f868-4f9c-b6e1-122d3d3ada3c",
   "metadata": {},
   "outputs": [
    {
     "name": "stdin",
     "output_type": "stream",
     "text": [
      "Enter a number :  36\n"
     ]
    },
    {
     "name": "stdout",
     "output_type": "stream",
     "text": [
      "nothing....\n",
      "nothing....\n",
      "nothing....\n",
      "nothing....\n",
      "nothing....\n",
      "found at index 5\n"
     ]
    }
   ],
   "source": [
    "nums = (1,4,9,16,25,36,49,64,81,100,36,36)\n",
    "\n",
    "x = int(input(\"Enter a number : \"))\n",
    "i = 0\n",
    "while i < len(nums):\n",
    "    if(nums[i] == x):\n",
    "        print(\"found at index\",i)\n",
    "        break\n",
    "    else:\n",
    "        print(\"nothing....\")\n",
    "    i += 1"
   ]
  },
  {
   "cell_type": "code",
   "execution_count": 2,
   "id": "bb36daeb-1383-4dc7-bb2a-1ba6a1ca12f9",
   "metadata": {},
   "outputs": [
    {
     "name": "stdout",
     "output_type": "stream",
     "text": [
      "1\n",
      "2\n",
      "3\n"
     ]
    }
   ],
   "source": [
    "# BREAK KEYWORD\n",
    "i = 1\n",
    "while i <= 5:\n",
    "    print(i)\n",
    "    if(i == 3):\n",
    "        break\n",
    "    i += 1"
   ]
  },
  {
   "cell_type": "code",
   "execution_count": 3,
   "id": "d7fe75f9-b8c9-4571-b925-b76449151fc5",
   "metadata": {},
   "outputs": [
    {
     "name": "stdout",
     "output_type": "stream",
     "text": [
      "0\n",
      "1\n",
      "2\n",
      "4\n",
      "5\n"
     ]
    }
   ],
   "source": [
    "# CONTINUE KEYWORD\n",
    "i = 0\n",
    "while i <= 5:\n",
    "    if(i == 3):\n",
    "        i += 1\n",
    "        continue # skip\n",
    "    print(i)\n",
    "    i += 1"
   ]
  },
  {
   "cell_type": "code",
   "execution_count": 4,
   "id": "9f00be70-a786-487f-a215-50c045c3bf93",
   "metadata": {},
   "outputs": [
    {
     "name": "stdout",
     "output_type": "stream",
     "text": [
      "1\n",
      "3\n",
      "5\n",
      "7\n",
      "9\n"
     ]
    }
   ],
   "source": [
    "i = 1\n",
    "while i <= 10:\n",
    "    if(i % 2 == 0):\n",
    "        i += 1\n",
    "        continue # skip\n",
    "    print(i)\n",
    "    i += 1"
   ]
  },
  {
   "cell_type": "code",
   "execution_count": null,
   "id": "5b8e8b42-35f8-48c9-af68-09488077b6cf",
   "metadata": {},
   "outputs": [],
   "source": [
    "i = 1 \n",
    "while i <= 10:\n",
    "    if(i % 2 != 0):\n",
    "        i += 1\n",
    "        continue\n",
    "    print(i)\n",
    "    i += 1"
   ]
  },
  {
   "cell_type": "markdown",
   "id": "27ac40c2-84c2-4b65-8051-c3bb8dbbd1a5",
   "metadata": {},
   "source": [
    "### FOR LOOPS:\n",
    "- for loop are used for sequential traversal . for traversing list, string, tuples etc."
   ]
  },
  {
   "cell_type": "code",
   "execution_count": 1,
   "id": "35162d4b-7ef4-4fa3-8b3a-d188b2329852",
   "metadata": {},
   "outputs": [
    {
     "name": "stdout",
     "output_type": "stream",
     "text": [
      "1\n",
      "2\n",
      "3\n",
      "4\n",
      "5\n"
     ]
    }
   ],
   "source": [
    "nums = [1,2,3,4,5]\n",
    "for val in nums:\n",
    "    print(val)"
   ]
  },
  {
   "cell_type": "code",
   "execution_count": 2,
   "id": "f6c1ef93-5d8d-438c-ad64-bfbabd065fd2",
   "metadata": {},
   "outputs": [
    {
     "name": "stdout",
     "output_type": "stream",
     "text": [
      "onin\n",
      "potato\n",
      "cucumber\n",
      "ladyfinger\n",
      "brinjal\n"
     ]
    }
   ],
   "source": [
    "veggies = [\"onin\",\"potato\",\"cucumber\",\"ladyfinger\",\"brinjal\"]\n",
    "for val in veggies:\n",
    "    print(val)"
   ]
  },
  {
   "cell_type": "code",
   "execution_count": 4,
   "id": "b59124a3-372c-4afa-b5a8-998546e72abb",
   "metadata": {},
   "outputs": [
    {
     "name": "stdout",
     "output_type": "stream",
     "text": [
      "1\n",
      "4\n",
      "3\n",
      "6\n",
      "7\n",
      "8\n",
      "5\n",
      "4\n",
      "3\n"
     ]
    }
   ],
   "source": [
    "tup = (1,4,3,6,7,8,5,4,3)\n",
    "for val in tup:\n",
    "    print(val)"
   ]
  },
  {
   "cell_type": "code",
   "execution_count": 47,
   "id": "857a377c-91ce-4d35-8de5-3ac65d87b75b",
   "metadata": {},
   "outputs": [
    {
     "name": "stdout",
     "output_type": "stream",
     "text": [
      "1\n",
      "2\n",
      "3\n",
      "4\n",
      "5\n",
      "b\n",
      "a\n"
     ]
    }
   ],
   "source": [
    "set = {1,2,3,3,4,5,\"a\",\"b\"}\n",
    "for val in set:\n",
    "    print(val)"
   ]
  },
  {
   "cell_type": "code",
   "execution_count": 5,
   "id": "565dde34-e2ba-4efb-9f26-9651f35e4a19",
   "metadata": {},
   "outputs": [
    {
     "name": "stdout",
     "output_type": "stream",
     "text": [
      "c\n",
      "l\n",
      "o\n",
      "u\n",
      "d\n",
      "d\n",
      "a\n",
      "t\n",
      "a\n",
      "e\n",
      "n\n",
      "g\n",
      "i\n",
      "n\n",
      "e\n",
      "e\n",
      "r\n",
      "i\n",
      "n\n",
      "g\n"
     ]
    }
   ],
   "source": [
    "str = \"clouddataengineering\"\n",
    "for char in str:\n",
    "    print(char)"
   ]
  },
  {
   "cell_type": "code",
   "execution_count": 6,
   "id": "19a30c7b-a2c5-4c64-bbd3-3f95f4e28073",
   "metadata": {},
   "outputs": [
    {
     "name": "stdout",
     "output_type": "stream",
     "text": [
      "c\n",
      "l\n",
      "o\n",
      "u\n",
      "d\n",
      "d\n",
      "a\n",
      "t\n",
      "a\n",
      "e\n",
      "n\n",
      "g\n",
      "i\n",
      "n\n",
      "e\n",
      "e\n",
      "r\n",
      "i\n",
      "n\n",
      "g\n",
      "END\n"
     ]
    }
   ],
   "source": [
    "str = \"clouddataengineering\"\n",
    "for char in str:\n",
    "    print(char)\n",
    "else:\n",
    "    print(\"END\")"
   ]
  },
  {
   "cell_type": "code",
   "execution_count": 7,
   "id": "ce6c39c4-7bfd-42b4-a59d-b77f65f2339b",
   "metadata": {},
   "outputs": [
    {
     "name": "stdout",
     "output_type": "stream",
     "text": [
      "c\n",
      "l\n",
      "o\n",
      "u\n",
      "d\n",
      "d\n",
      "a\n",
      "t\n",
      "a\n",
      "e\n",
      "n\n",
      "g\n",
      "i\n",
      "n\n",
      "e\n",
      "e\n",
      "r\n",
      "i\n",
      "n\n",
      "g\n",
      "END\n"
     ]
    }
   ],
   "source": [
    "str = \"clouddataengineering\"\n",
    "for char in str:\n",
    "    print(char)\n",
    "\n",
    "print(\"END\")"
   ]
  },
  {
   "cell_type": "markdown",
   "id": "1054d4ca-f52c-465d-94da-1eb900debdc1",
   "metadata": {},
   "source": [
    "- else optional hai agr hum loop end hony k bad kuch print krwana chaty hain ye tub use hota hai.\n",
    "- ik sawal hai agr hum else na lagaen srf print statement likh dyn tub bhi same kaam hoga bilkul hoga.\n",
    "- is else ki need un specific cases mai pharti hai jub hum break ka keyword use krty hain jesy nichy code mai hoa hoa hai.\n"
   ]
  },
  {
   "cell_type": "code",
   "execution_count": 10,
   "id": "797d97f7-e6ef-4859-8a74-8dfcd77d6f74",
   "metadata": {},
   "outputs": [
    {
     "name": "stdout",
     "output_type": "stream",
     "text": [
      "c\n",
      "l\n",
      "o\n",
      "u\n",
      "d\n",
      "d\n",
      "a\n",
      "t found\n"
     ]
    }
   ],
   "source": [
    "str = \"clouddataengineering\"\n",
    "for char in str:\n",
    "    if(char == \"t\"):\n",
    "        print(\"t found\")\n",
    "        break\n",
    "    print(char)\n",
    "else:\n",
    "    print(\"END\")"
   ]
  },
  {
   "cell_type": "code",
   "execution_count": 17,
   "id": "0ae28c1d-0489-49ce-ac6c-c185c16d0fca",
   "metadata": {},
   "outputs": [
    {
     "name": "stdout",
     "output_type": "stream",
     "text": [
      "c\n",
      "l\n",
      "o\n",
      "u\n",
      "d\n",
      "d\n",
      "a\n",
      "t found\n",
      "END\n"
     ]
    }
   ],
   "source": [
    "str = \"clouddataengineering\"\n",
    "for char in str:\n",
    "    if(char == \"t\"):\n",
    "        print(\"t found\")\n",
    "        break\n",
    "    print(char)\n",
    "\n",
    "print(\"END\")\n",
    "    \n",
    "        "
   ]
  },
  {
   "cell_type": "markdown",
   "id": "0f24c326-4233-4e83-bc16-53649d353000",
   "metadata": {},
   "source": [
    "### range() function\n",
    "- Range functions returns a sequence of numbers, starting from 0 by default, and incrreaments by 1 (by default) and stop before a specified number.\n",
    "  \n",
    "- range(start?,stop,step?)\n",
    "\n",
    "- sequence ka matlab ik tarah sy list return kr raha hai magr wo list data type ki form mai nahi just numbers ki normal list return kr raha hai."
   ]
  },
  {
   "cell_type": "code",
   "execution_count": 18,
   "id": "112299c5-f258-4452-8f15-ea8f23b6b696",
   "metadata": {},
   "outputs": [
    {
     "name": "stdout",
     "output_type": "stream",
     "text": [
      "range(0, 5)\n"
     ]
    }
   ],
   "source": [
    "print(range(5))"
   ]
  },
  {
   "cell_type": "code",
   "execution_count": 20,
   "id": "192ab0e1-bd9e-4345-ab7a-54a32e19e5f9",
   "metadata": {},
   "outputs": [
    {
     "name": "stdout",
     "output_type": "stream",
     "text": [
      "0\n",
      "1\n",
      "2\n",
      "3\n",
      "4\n"
     ]
    }
   ],
   "source": [
    "seq = range(5)\n",
    "print(seq[0])\n",
    "print(seq[1])\n",
    "print(seq[2])\n",
    "print(seq[3])\n",
    "print(seq[4])"
   ]
  },
  {
   "cell_type": "code",
   "execution_count": 21,
   "id": "83e87d82-b385-4ebc-abd1-f3f21397087d",
   "metadata": {},
   "outputs": [
    {
     "name": "stdout",
     "output_type": "stream",
     "text": [
      "0\n",
      "1\n",
      "2\n",
      "3\n",
      "4\n"
     ]
    }
   ],
   "source": [
    "seq = range(5)\n",
    "for i in seq:\n",
    "    print(i)"
   ]
  },
  {
   "cell_type": "code",
   "execution_count": 24,
   "id": "fe8848e3-85bd-4fd7-9de0-da467cda27b4",
   "metadata": {},
   "outputs": [
    {
     "name": "stdout",
     "output_type": "stream",
     "text": [
      "0\n",
      "1\n",
      "2\n",
      "3\n",
      "4\n",
      "5\n",
      "6\n",
      "7\n",
      "8\n",
      "9\n"
     ]
    }
   ],
   "source": [
    "for i in range(10): # range(stop)\n",
    "    print(i)"
   ]
  },
  {
   "cell_type": "code",
   "execution_count": 26,
   "id": "5e445756-3da1-4a43-8840-2ffa1f580ce4",
   "metadata": {},
   "outputs": [
    {
     "name": "stdout",
     "output_type": "stream",
     "text": [
      "2\n",
      "3\n",
      "4\n",
      "5\n",
      "6\n",
      "7\n",
      "8\n",
      "9\n"
     ]
    }
   ],
   "source": [
    "for i in range(2,10): # range(start, stop)\n",
    "    print(i)"
   ]
  },
  {
   "cell_type": "code",
   "execution_count": 27,
   "id": "87e9e8c1-0452-4817-961f-9ffaa14ec3bc",
   "metadata": {},
   "outputs": [
    {
     "name": "stdout",
     "output_type": "stream",
     "text": [
      "2\n",
      "4\n",
      "6\n",
      "8\n"
     ]
    }
   ],
   "source": [
    "for i in range(2, 10, 2): # range(start, stop, step)\n",
    "    print(i)"
   ]
  },
  {
   "cell_type": "code",
   "execution_count": 28,
   "id": "c93ca14b-ec7f-4601-b403-60a68736d699",
   "metadata": {},
   "outputs": [
    {
     "name": "stdout",
     "output_type": "stream",
     "text": [
      "2\n",
      "4\n",
      "6\n",
      "8\n",
      "10\n",
      "12\n",
      "14\n",
      "16\n",
      "18\n",
      "20\n",
      "22\n",
      "24\n",
      "26\n",
      "28\n",
      "30\n",
      "32\n",
      "34\n",
      "36\n",
      "38\n",
      "40\n",
      "42\n",
      "44\n",
      "46\n",
      "48\n",
      "50\n",
      "52\n",
      "54\n",
      "56\n",
      "58\n",
      "60\n",
      "62\n",
      "64\n",
      "66\n",
      "68\n",
      "70\n",
      "72\n",
      "74\n",
      "76\n",
      "78\n",
      "80\n",
      "82\n",
      "84\n",
      "86\n",
      "88\n",
      "90\n",
      "92\n",
      "94\n",
      "96\n",
      "98\n"
     ]
    }
   ],
   "source": [
    "for i in range(2, 100, 2): # print even numbers\n",
    "    print(i)"
   ]
  },
  {
   "cell_type": "code",
   "execution_count": 29,
   "id": "f4fe5372-8c20-4731-bd80-8edc17d379fa",
   "metadata": {},
   "outputs": [
    {
     "name": "stdout",
     "output_type": "stream",
     "text": [
      "2\n",
      "4\n",
      "6\n",
      "8\n",
      "10\n",
      "12\n",
      "14\n",
      "16\n",
      "18\n",
      "20\n",
      "22\n",
      "24\n",
      "26\n",
      "28\n",
      "30\n",
      "32\n",
      "34\n",
      "36\n",
      "38\n",
      "40\n",
      "42\n",
      "44\n",
      "46\n",
      "48\n",
      "50\n",
      "52\n",
      "54\n",
      "56\n",
      "58\n",
      "60\n",
      "62\n",
      "64\n",
      "66\n",
      "68\n",
      "70\n",
      "72\n",
      "74\n",
      "76\n",
      "78\n",
      "80\n",
      "82\n",
      "84\n",
      "86\n",
      "88\n",
      "90\n",
      "92\n",
      "94\n",
      "96\n",
      "98\n",
      "100\n"
     ]
    }
   ],
   "source": [
    "for i in range(2, 101, 2):\n",
    "    print(i)"
   ]
  },
  {
   "cell_type": "code",
   "execution_count": 30,
   "id": "dd8c96cc-a57b-482a-bdc9-e253f8463334",
   "metadata": {},
   "outputs": [
    {
     "name": "stdout",
     "output_type": "stream",
     "text": [
      "1\n",
      "3\n",
      "5\n",
      "7\n",
      "9\n",
      "11\n",
      "13\n",
      "15\n",
      "17\n",
      "19\n",
      "21\n",
      "23\n",
      "25\n",
      "27\n",
      "29\n",
      "31\n",
      "33\n",
      "35\n",
      "37\n",
      "39\n",
      "41\n",
      "43\n",
      "45\n",
      "47\n",
      "49\n",
      "51\n",
      "53\n",
      "55\n",
      "57\n",
      "59\n",
      "61\n",
      "63\n",
      "65\n",
      "67\n",
      "69\n",
      "71\n",
      "73\n",
      "75\n",
      "77\n",
      "79\n",
      "81\n",
      "83\n",
      "85\n",
      "87\n",
      "89\n",
      "91\n",
      "93\n",
      "95\n",
      "97\n",
      "99\n"
     ]
    }
   ],
   "source": [
    "for i in range(1, 100, 2):\n",
    "    print(i)"
   ]
  },
  {
   "cell_type": "markdown",
   "id": "c11de5cb-fbee-440c-9fd5-57536c55f7dd",
   "metadata": {},
   "source": [
    "### PASS STATEMENT:\n",
    "- pass is a null statement that does nothing,It is used as a placeholder for future code."
   ]
  },
  {
   "cell_type": "code",
   "execution_count": 31,
   "id": "2692a02a-01ac-4fe6-a473-b13cf19f70a1",
   "metadata": {},
   "outputs": [
    {
     "ename": "IndentationError",
     "evalue": "expected an indented block after 'for' statement on line 1 (4042653797.py, line 4)",
     "output_type": "error",
     "traceback": [
      "\u001b[1;36m  Cell \u001b[1;32mIn[31], line 4\u001b[1;36m\u001b[0m\n\u001b[1;33m    print(\"some useful work\")\u001b[0m\n\u001b[1;37m    ^\u001b[0m\n\u001b[1;31mIndentationError\u001b[0m\u001b[1;31m:\u001b[0m expected an indented block after 'for' statement on line 1\n"
     ]
    }
   ],
   "source": [
    "for i in range(5):\n",
    "    # EMPTY\n",
    "\n",
    "print(\"some useful work\")"
   ]
  },
  {
   "cell_type": "code",
   "execution_count": 32,
   "id": "d70b4ca5-f893-44a3-9a21-6f9b2be6b034",
   "metadata": {},
   "outputs": [
    {
     "name": "stdout",
     "output_type": "stream",
     "text": [
      "some useful work\n"
     ]
    }
   ],
   "source": [
    "for i in range(5):\n",
    "    pass\n",
    "print(\"some useful work\")\n",
    "    "
   ]
  },
  {
   "cell_type": "raw",
   "id": "2a87d73d-9dac-4e51-90cd-2c64015eddfe",
   "metadata": {},
   "source": [
    "pass hum if k andr bhi laga sakty hain jesy\n",
    " if i  > 5:\n",
    "     pass"
   ]
  },
  {
   "cell_type": "markdown",
   "id": "9f8d47f6-fe5f-4a3a-8e89-0f94fa14a102",
   "metadata": {},
   "source": [
    "### PRACTICE QUESTION:"
   ]
  },
  {
   "cell_type": "markdown",
   "id": "6ab030b1-e674-48b6-bed5-92275435b5c1",
   "metadata": {},
   "source": [
    "- print the elements of the following list using a loop:"
   ]
  },
  {
   "cell_type": "code",
   "execution_count": 33,
   "id": "b978a627-0255-4e53-8299-bd457480569f",
   "metadata": {},
   "outputs": [
    {
     "name": "stdout",
     "output_type": "stream",
     "text": [
      "1\n",
      "4\n",
      "9\n",
      "16\n",
      "25\n",
      "36\n",
      "49\n",
      "64\n",
      "81\n",
      "100\n"
     ]
    }
   ],
   "source": [
    "nums = [1,4,9,16,25,36,49,64,81,100]\n",
    "for i in nums:\n",
    "    print(i)"
   ]
  },
  {
   "cell_type": "markdown",
   "id": "e2669e9b-c5f4-49fb-a65b-ed418bb2f338",
   "metadata": {},
   "source": [
    "- search for a number x in this tuple using loop:"
   ]
  },
  {
   "cell_type": "code",
   "execution_count": 36,
   "id": "767a001b-d944-4bf4-bf35-88cd1cb6c930",
   "metadata": {},
   "outputs": [
    {
     "name": "stdin",
     "output_type": "stream",
     "text": [
      "Enter a number :  36\n"
     ]
    },
    {
     "name": "stdout",
     "output_type": "stream",
     "text": [
      "number found at index 5\n"
     ]
    }
   ],
   "source": [
    "nums = (1,4,9,16,25,36,49,64,81,100)\n",
    "\n",
    "x = int(input(\"Enter a number : \"))\n",
    "idx = 0\n",
    "for ele in nums:\n",
    "    if(ele == x):\n",
    "        print(\"number found at index\",idx)\n",
    "    idx += 1\n",
    "\n",
    "    \n",
    "# yahan py hum index ko print nahi krwa sakty tw humy index ko initialize krwana phary ga track krny k liye\n",
    "# aur hum is index ko as such condition k andr use nahi kr rahy phir bhi hum ussy use kryn gai."
   ]
  },
  {
   "cell_type": "code",
   "execution_count": 37,
   "id": "10a1eef4-271e-4c3f-88d2-9a893c97e1cc",
   "metadata": {},
   "outputs": [
    {
     "name": "stdin",
     "output_type": "stream",
     "text": [
      "Enter a number :  49\n"
     ]
    },
    {
     "name": "stdout",
     "output_type": "stream",
     "text": [
      "number found at index 6\n"
     ]
    }
   ],
   "source": [
    "nums = (1,4,9,16,25,36,49,64,81,100,49)\n",
    "\n",
    "x = int(input(\"Enter a number : \"))\n",
    "i = 0\n",
    "for ele in nums:\n",
    "    if(ele == x):\n",
    "        print(\"number found at index\",i)\n",
    "        break\n",
    "    i += 1\n",
    "\n"
   ]
  },
  {
   "cell_type": "markdown",
   "id": "793bf5f4-b28f-43c6-af87-3f878a2709dc",
   "metadata": {},
   "source": [
    "- print the numbers from 1 to 100"
   ]
  },
  {
   "cell_type": "code",
   "execution_count": 38,
   "id": "44b9e4d1-ae02-464a-b2e8-567cc4ea69b2",
   "metadata": {},
   "outputs": [
    {
     "name": "stdout",
     "output_type": "stream",
     "text": [
      "1\n",
      "2\n",
      "3\n",
      "4\n",
      "5\n",
      "6\n",
      "7\n",
      "8\n",
      "9\n",
      "10\n",
      "11\n",
      "12\n",
      "13\n",
      "14\n",
      "15\n",
      "16\n",
      "17\n",
      "18\n",
      "19\n",
      "20\n",
      "21\n",
      "22\n",
      "23\n",
      "24\n",
      "25\n",
      "26\n",
      "27\n",
      "28\n",
      "29\n",
      "30\n",
      "31\n",
      "32\n",
      "33\n",
      "34\n",
      "35\n",
      "36\n",
      "37\n",
      "38\n",
      "39\n",
      "40\n",
      "41\n",
      "42\n",
      "43\n",
      "44\n",
      "45\n",
      "46\n",
      "47\n",
      "48\n",
      "49\n",
      "50\n",
      "51\n",
      "52\n",
      "53\n",
      "54\n",
      "55\n",
      "56\n",
      "57\n",
      "58\n",
      "59\n",
      "60\n",
      "61\n",
      "62\n",
      "63\n",
      "64\n",
      "65\n",
      "66\n",
      "67\n",
      "68\n",
      "69\n",
      "70\n",
      "71\n",
      "72\n",
      "73\n",
      "74\n",
      "75\n",
      "76\n",
      "77\n",
      "78\n",
      "79\n",
      "80\n",
      "81\n",
      "82\n",
      "83\n",
      "84\n",
      "85\n",
      "86\n",
      "87\n",
      "88\n",
      "89\n",
      "90\n",
      "91\n",
      "92\n",
      "93\n",
      "94\n",
      "95\n",
      "96\n",
      "97\n",
      "98\n",
      "99\n",
      "100\n"
     ]
    }
   ],
   "source": [
    "for i in range(1, 101):\n",
    "    print(i)"
   ]
  },
  {
   "cell_type": "markdown",
   "id": "a3399e17-6293-4762-b0f6-b65b16590b8c",
   "metadata": {},
   "source": [
    "- print the numbers from 100 to 1"
   ]
  },
  {
   "cell_type": "code",
   "execution_count": 39,
   "id": "63adeb8a-46f2-4c74-b2a1-04d3ae58bfda",
   "metadata": {},
   "outputs": [
    {
     "name": "stdout",
     "output_type": "stream",
     "text": [
      "100\n",
      "99\n",
      "98\n",
      "97\n",
      "96\n",
      "95\n",
      "94\n",
      "93\n",
      "92\n",
      "91\n",
      "90\n",
      "89\n",
      "88\n",
      "87\n",
      "86\n",
      "85\n",
      "84\n",
      "83\n",
      "82\n",
      "81\n",
      "80\n",
      "79\n",
      "78\n",
      "77\n",
      "76\n",
      "75\n",
      "74\n",
      "73\n",
      "72\n",
      "71\n",
      "70\n",
      "69\n",
      "68\n",
      "67\n",
      "66\n",
      "65\n",
      "64\n",
      "63\n",
      "62\n",
      "61\n",
      "60\n",
      "59\n",
      "58\n",
      "57\n",
      "56\n",
      "55\n",
      "54\n",
      "53\n",
      "52\n",
      "51\n",
      "50\n",
      "49\n",
      "48\n",
      "47\n",
      "46\n",
      "45\n",
      "44\n",
      "43\n",
      "42\n",
      "41\n",
      "40\n",
      "39\n",
      "38\n",
      "37\n",
      "36\n",
      "35\n",
      "34\n",
      "33\n",
      "32\n",
      "31\n",
      "30\n",
      "29\n",
      "28\n",
      "27\n",
      "26\n",
      "25\n",
      "24\n",
      "23\n",
      "22\n",
      "21\n",
      "20\n",
      "19\n",
      "18\n",
      "17\n",
      "16\n",
      "15\n",
      "14\n",
      "13\n",
      "12\n",
      "11\n",
      "10\n",
      "9\n",
      "8\n",
      "7\n",
      "6\n",
      "5\n",
      "4\n",
      "3\n",
      "2\n",
      "1\n"
     ]
    }
   ],
   "source": [
    "for i in range(100, 0, -1):\n",
    "    print(i)"
   ]
  },
  {
   "cell_type": "markdown",
   "id": "eee6f8f0-6c61-4dc2-a856-17538b12ce0b",
   "metadata": {},
   "source": [
    "- print the multiplication table of a number n."
   ]
  },
  {
   "cell_type": "code",
   "execution_count": 40,
   "id": "349d5975-87b4-4906-be27-ca34ea2c68ab",
   "metadata": {},
   "outputs": [
    {
     "name": "stdin",
     "output_type": "stream",
     "text": [
      "Enter a number :  3\n"
     ]
    },
    {
     "name": "stdout",
     "output_type": "stream",
     "text": [
      "3\n",
      "6\n",
      "9\n",
      "12\n",
      "15\n",
      "18\n",
      "21\n",
      "24\n",
      "27\n",
      "30\n"
     ]
    }
   ],
   "source": [
    "n = int(input(\"Enter a number : \"))\n",
    "i = 1\n",
    "for i in range(1, 11):\n",
    "    print(n*i)"
   ]
  },
  {
   "cell_type": "markdown",
   "id": "1511d43a-c217-40db-9485-f4d1845d68fa",
   "metadata": {},
   "source": [
    "- WAP to find the sum of first n numbers (using for) {n = natural numbers}"
   ]
  },
  {
   "cell_type": "code",
   "execution_count": 41,
   "id": "0c472b11-e380-43d9-b670-30667ade70d5",
   "metadata": {},
   "outputs": [
    {
     "name": "stdout",
     "output_type": "stream",
     "text": [
      "total sum 15\n"
     ]
    }
   ],
   "source": [
    "n = 5\n",
    "sum = 0\n",
    "for i in range(1, n+1):\n",
    "    sum += i\n",
    "print(\"total sum\",sum)"
   ]
  },
  {
   "cell_type": "markdown",
   "id": "2077684b-905b-4031-a03a-4721cd623563",
   "metadata": {},
   "source": [
    "- WAP to find the sum of first n numbers (using while) {n = natural numbers}"
   ]
  },
  {
   "cell_type": "code",
   "execution_count": 43,
   "id": "e2d828ed-bf54-4c22-a6cd-1413b8513fee",
   "metadata": {},
   "outputs": [
    {
     "name": "stdout",
     "output_type": "stream",
     "text": [
      "total sum 36\n"
     ]
    }
   ],
   "source": [
    "n = 8\n",
    "sum = 0\n",
    "i = 1\n",
    "while i <= n:\n",
    "    sum += i\n",
    "    i += 1\n",
    "print(\"total sum\",sum)"
   ]
  },
  {
   "cell_type": "markdown",
   "id": "1868f8c0-2292-4cdf-ab6d-f6085451a736",
   "metadata": {},
   "source": [
    "- WAP to find the factorial of first n numbers (using while) {n =  natural numbers}"
   ]
  },
  {
   "cell_type": "code",
   "execution_count": 44,
   "id": "a65b2461-d635-4678-8097-0447765ac8bf",
   "metadata": {},
   "outputs": [
    {
     "name": "stdout",
     "output_type": "stream",
     "text": [
      "factorial 120\n"
     ]
    }
   ],
   "source": [
    "n = 5\n",
    "fact = 1\n",
    "i = 1\n",
    "while i <= n:\n",
    "    fact *= i\n",
    "    i += 1\n",
    "print(\"factorial\",fact)"
   ]
  },
  {
   "cell_type": "markdown",
   "id": "6251792c-2ffb-4d63-ad8a-f7193eb95bc6",
   "metadata": {},
   "source": [
    "- WAP to find the factorial of first n numbers (using for) {n =  natural numbers}\n"
   ]
  },
  {
   "cell_type": "code",
   "execution_count": 45,
   "id": "fb5d84a1-034b-4a89-8178-f1e399904f57",
   "metadata": {},
   "outputs": [
    {
     "name": "stdout",
     "output_type": "stream",
     "text": [
      "factorial 120\n"
     ]
    }
   ],
   "source": [
    "n = 5\n",
    "fact = 1\n",
    "for i in range(1, n+1):\n",
    "    fact *= i\n",
    "print(\"factorial\",fact)"
   ]
  },
  {
   "cell_type": "markdown",
   "id": "ed9577c3-54d6-4698-807d-4b074899676d",
   "metadata": {},
   "source": [
    "## SMIT LOOPS CLASS:"
   ]
  },
  {
   "cell_type": "markdown",
   "id": "1d3932c5-f780-4491-bd1c-3bd2c3036309",
   "metadata": {},
   "source": [
    "- 6. WAP that prints 'Happy Birthday!' five times on screen."
   ]
  },
  {
   "cell_type": "code",
   "execution_count": 48,
   "id": "538f2578-9479-41e8-8dbc-cf5c7f301d3b",
   "metadata": {},
   "outputs": [
    {
     "name": "stdout",
     "output_type": "stream",
     "text": [
      "Happy Birthday\n",
      "Happy Birthday\n",
      "Happy Birthday\n",
      "Happy Birthday\n",
      "Happy Birthday\n"
     ]
    }
   ],
   "source": [
    "# HARD CODED:\n",
    "\n",
    "wish = [\"Happy Birthday\",\n",
    "        \"Happy Birthday\",\n",
    "        \"Happy Birthday\",\n",
    "        \"Happy Birthday\",\n",
    "        \"Happy Birthday\"]\n",
    "\n",
    "for temp in wish:\n",
    "    print(temp)"
   ]
  },
  {
   "cell_type": "code",
   "execution_count": 55,
   "id": "9e8d1db7-1ccd-4ea0-a139-4918457256f4",
   "metadata": {},
   "outputs": [
    {
     "name": "stdout",
     "output_type": "stream",
     "text": [
      "0\n",
      "1\n",
      "2\n",
      "3\n",
      "4\n"
     ]
    }
   ],
   "source": [
    "for temp in range(5):\n",
    "    print(temp)"
   ]
  },
  {
   "cell_type": "code",
   "execution_count": 56,
   "id": "0f7376d4-bfba-43a1-b127-7eb1f2fd083b",
   "metadata": {},
   "outputs": [
    {
     "name": "stdout",
     "output_type": "stream",
     "text": [
      "1\n",
      "2\n",
      "3\n",
      "4\n",
      "5\n"
     ]
    }
   ],
   "source": [
    "for temp in range(5):\n",
    "    print(temp+1)"
   ]
  },
  {
   "cell_type": "code",
   "execution_count": 49,
   "id": "b69b9db2-f517-48c9-bf59-5142a6a60cd5",
   "metadata": {},
   "outputs": [
    {
     "name": "stdout",
     "output_type": "stream",
     "text": [
      "0 Happy Birthday\n",
      "1 Happy Birthday\n",
      "2 Happy Birthday\n",
      "3 Happy Birthday\n",
      "4 Happy Birthday\n"
     ]
    }
   ],
   "source": [
    "# HARD CODED:\n",
    "for temp in range(5):\n",
    "    print(temp,\"Happy Birthday\")"
   ]
  },
  {
   "cell_type": "code",
   "execution_count": 50,
   "id": "73f30389-893d-49b9-810d-09664405c4bc",
   "metadata": {},
   "outputs": [
    {
     "name": "stdout",
     "output_type": "stream",
     "text": [
      "Happy Birthday\n",
      "Happy Birthday\n",
      "Happy Birthday\n",
      "Happy Birthday\n",
      "Happy Birthday\n"
     ]
    }
   ],
   "source": [
    "for temp in range(5):\n",
    "    print(\"Happy Birthday\")"
   ]
  },
  {
   "cell_type": "code",
   "execution_count": 52,
   "id": "0c785103-a1a7-4d14-b23a-9f9086522828",
   "metadata": {},
   "outputs": [
    {
     "name": "stdin",
     "output_type": "stream",
     "text": [
      "how many times thats you want to wish 'Happy Birthday' :  8\n"
     ]
    },
    {
     "name": "stdout",
     "output_type": "stream",
     "text": [
      "0 Happy Birthday\n",
      "1 Happy Birthday\n",
      "2 Happy Birthday\n",
      "3 Happy Birthday\n",
      "4 Happy Birthday\n",
      "5 Happy Birthday\n",
      "6 Happy Birthday\n",
      "7 Happy Birthday\n"
     ]
    }
   ],
   "source": [
    "# DYNAMIC CODED:\n",
    "\n",
    "times = int(input(\"how many times thats you want to wish 'Happy Birthday' : \"))\n",
    "for temp in range(times):\n",
    "    print(temp,\"Happy Birthday\")"
   ]
  },
  {
   "cell_type": "raw",
   "id": "6fca315a-4a5a-4b01-836e-e33fe4f3d78b",
   "metadata": {},
   "source": [
    " 7. WAP that takes a number n as input from the user and generates the first n terms of the series formed by squaring the natural numbers.\n",
    "\n",
    "sample output\n",
    "Enter a number:6\n",
    "The first 6 terms of the series are:\n",
    "1 4 9 16 25 36"
   ]
  },
  {
   "cell_type": "code",
   "execution_count": 61,
   "id": "39cec516-0d1d-4cf6-9147-71fe264365f7",
   "metadata": {},
   "outputs": [
    {
     "name": "stdin",
     "output_type": "stream",
     "text": [
      "Enter a number :  6\n"
     ]
    },
    {
     "name": "stdout",
     "output_type": "stream",
     "text": [
      "The first 6 terms of the series are: \n",
      "0\n",
      "1\n",
      "4\n",
      "9\n",
      "16\n",
      "25\n"
     ]
    }
   ],
   "source": [
    "n = int(input(\"Enter a number : \"))\n",
    "print(f\"The first {n} terms of the series are: \")\n",
    "for temp in range(n):\n",
    "    print(temp**2)"
   ]
  },
  {
   "cell_type": "code",
   "execution_count": 60,
   "id": "3d3cc499-2c26-4c26-a71c-e9d467ca4f90",
   "metadata": {},
   "outputs": [
    {
     "name": "stdin",
     "output_type": "stream",
     "text": [
      "Enter a number :  6\n"
     ]
    },
    {
     "name": "stdout",
     "output_type": "stream",
     "text": [
      "The first 6 terms of the series are: \n",
      "1\n",
      "4\n",
      "9\n",
      "16\n",
      "25\n",
      "36\n"
     ]
    }
   ],
   "source": [
    "n = int(input(\"Enter a number : \"))\n",
    "print(f\"The first {n} terms of the series are: \")\n",
    "for temp in range(n):\n",
    "    print((temp+1)**2)"
   ]
  },
  {
   "cell_type": "markdown",
   "id": "7e7d1686-5693-4686-91ed-d52cbed5908f",
   "metadata": {},
   "source": [
    "- 8. WAP that prompts the user to input a number and prints its multiplication table."
   ]
  },
  {
   "cell_type": "code",
   "execution_count": 69,
   "id": "3862acf4-c947-4ffd-895b-738cf395132f",
   "metadata": {},
   "outputs": [
    {
     "name": "stdin",
     "output_type": "stream",
     "text": [
      "Enter a number for table :  3\n",
      "how many times you want to print table :  11\n"
     ]
    },
    {
     "name": "stdout",
     "output_type": "stream",
     "text": [
      "3 * 0 = 0 \n",
      "3 * 1 = 3 \n",
      "3 * 2 = 6 \n",
      "3 * 3 = 9 \n",
      "3 * 4 = 12 \n",
      "3 * 5 = 15 \n",
      "3 * 6 = 18 \n",
      "3 * 7 = 21 \n",
      "3 * 8 = 24 \n",
      "3 * 9 = 27 \n",
      "3 * 10 = 30 \n"
     ]
    }
   ],
   "source": [
    "table = int(input(\"Enter a number for table : \"))\n",
    "times = int(input(\"how many times you want to print table : \"))\n",
    "\n",
    "for temp in range(times):\n",
    "    print(f\"{table} * {temp} = {table * temp} \")"
   ]
  },
  {
   "cell_type": "code",
   "execution_count": 68,
   "id": "10067594-cf38-4ed8-a0a9-4a258155900a",
   "metadata": {},
   "outputs": [
    {
     "name": "stdin",
     "output_type": "stream",
     "text": [
      "Enter a number for table :  3\n",
      "how many times you want to print table :  10\n"
     ]
    },
    {
     "name": "stdout",
     "output_type": "stream",
     "text": [
      "3 * 1 = 3 \n",
      "3 * 2 = 6 \n",
      "3 * 3 = 9 \n",
      "3 * 4 = 12 \n",
      "3 * 5 = 15 \n",
      "3 * 6 = 18 \n",
      "3 * 7 = 21 \n",
      "3 * 8 = 24 \n",
      "3 * 9 = 27 \n",
      "3 * 10 = 30 \n"
     ]
    }
   ],
   "source": [
    "table = int(input(\"Enter a number for table : \"))\n",
    "times = int(input(\"how many times you want to print table : \"))\n",
    "\n",
    "for temp in range(times):\n",
    "    print(f\"{table} * {temp+1} = {table * (temp+1) } \")"
   ]
  },
  {
   "cell_type": "markdown",
   "id": "344bb58b-ea61-487c-b30d-cd3b63f87709",
   "metadata": {},
   "source": [
    "TASK : print tables from 2 to 5 in such a way that every table print one time less than other"
   ]
  },
  {
   "cell_type": "code",
   "execution_count": 4,
   "id": "e7aa92ec-4627-4a98-b066-8634d5eb7af4",
   "metadata": {},
   "outputs": [
    {
     "name": "stdin",
     "output_type": "stream",
     "text": [
      "From when we want to create table :  2\n",
      "Till when we want to create table :  6\n",
      "How many times you want to print table 10\n"
     ]
    },
    {
     "name": "stdout",
     "output_type": "stream",
     "text": [
      "2 * 1 = 2\n",
      "2 * 2 = 4\n",
      "2 * 3 = 6\n",
      "2 * 4 = 8\n",
      "2 * 5 = 10\n",
      "2 * 6 = 12\n",
      "2 * 7 = 14\n",
      "2 * 8 = 16\n",
      "2 * 9 = 18\n",
      "2 * 10 = 20\n",
      "----------\n",
      "3 * 1 = 3\n",
      "3 * 2 = 6\n",
      "3 * 3 = 9\n",
      "3 * 4 = 12\n",
      "3 * 5 = 15\n",
      "3 * 6 = 18\n",
      "3 * 7 = 21\n",
      "3 * 8 = 24\n",
      "3 * 9 = 27\n",
      "----------\n",
      "4 * 1 = 4\n",
      "4 * 2 = 8\n",
      "4 * 3 = 12\n",
      "4 * 4 = 16\n",
      "4 * 5 = 20\n",
      "4 * 6 = 24\n",
      "4 * 7 = 28\n",
      "4 * 8 = 32\n",
      "----------\n",
      "5 * 1 = 5\n",
      "5 * 2 = 10\n",
      "5 * 3 = 15\n",
      "5 * 4 = 20\n",
      "5 * 5 = 25\n",
      "5 * 6 = 30\n",
      "5 * 7 = 35\n",
      "----------\n"
     ]
    }
   ],
   "source": [
    "start = int(input(\"From when we want to create table : \"))\n",
    "end = int(input(\"Till when we want to create table : \"))\n",
    "times = int(input(\"How many times you want to print table\"))\n",
    "\n",
    "for table in range(start,end):\n",
    "    for temp in range(times):\n",
    "        print(f\"{table} * {temp+1} = {table * (temp+1)}\")\n",
    "    times -= 1\n",
    "    print(f\"----------\")\n"
   ]
  },
  {
   "cell_type": "markdown",
   "id": "0321b673-a04c-4dda-afce-3bb744fdc949",
   "metadata": {},
   "source": [
    "- Above code write in another way"
   ]
  },
  {
   "cell_type": "code",
   "execution_count": 3,
   "id": "e604d474-b202-4f3b-9f1b-1aca3f706f15",
   "metadata": {},
   "outputs": [
    {
     "name": "stdout",
     "output_type": "stream",
     "text": [
      "2 * 1 = 2\n",
      "2 * 2 = 4\n",
      "2 * 3 = 6\n",
      "2 * 4 = 8\n",
      "2 * 5 = 10\n",
      "2 * 6 = 12\n",
      "2 * 7 = 14\n",
      "2 * 8 = 16\n",
      "2 * 9 = 18\n",
      "2 * 10 = 20\n",
      "--------------\n",
      "3 * 1 = 3\n",
      "3 * 2 = 6\n",
      "3 * 3 = 9\n",
      "3 * 4 = 12\n",
      "3 * 5 = 15\n",
      "3 * 6 = 18\n",
      "3 * 7 = 21\n",
      "3 * 8 = 24\n",
      "3 * 9 = 27\n",
      "--------------\n",
      "4 * 1 = 4\n",
      "4 * 2 = 8\n",
      "4 * 3 = 12\n",
      "4 * 4 = 16\n",
      "4 * 5 = 20\n",
      "4 * 6 = 24\n",
      "4 * 7 = 28\n",
      "4 * 8 = 32\n",
      "--------------\n",
      "5 * 1 = 5\n",
      "5 * 2 = 10\n",
      "5 * 3 = 15\n",
      "5 * 4 = 20\n",
      "5 * 5 = 25\n",
      "5 * 6 = 30\n",
      "5 * 7 = 35\n",
      "--------------\n"
     ]
    }
   ],
   "source": [
    "num = 11\n",
    "for x in [2,3,4,5]:\n",
    "    for y in range(1, num):\n",
    "        print(f\"{x} * {y} = {x*y}\")\n",
    "    num -= 1\n",
    "    print(f\"--------------\")"
   ]
  },
  {
   "cell_type": "code",
   "execution_count": null,
   "id": "920c4e2d-fe26-4e67-9cc2-d05aed1ae893",
   "metadata": {},
   "outputs": [],
   "source": []
  }
 ],
 "metadata": {
  "kernelspec": {
   "display_name": "Python 3 (ipykernel)",
   "language": "python",
   "name": "python3"
  },
  "language_info": {
   "codemirror_mode": {
    "name": "ipython",
    "version": 3
   },
   "file_extension": ".py",
   "mimetype": "text/x-python",
   "name": "python",
   "nbconvert_exporter": "python",
   "pygments_lexer": "ipython3",
   "version": "3.13.5"
  }
 },
 "nbformat": 4,
 "nbformat_minor": 5
}
