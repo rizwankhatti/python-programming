{
 "cells": [
  {
   "cell_type": "markdown",
   "id": "27cb14e6-1a27-4778-8f49-747711626451",
   "metadata": {},
   "source": [
    "## polymorphism : operator overloading\n",
    "- when the same operator is allowed to have different meaning according to the context"
   ]
  },
  {
   "cell_type": "markdown",
   "id": "f2b31ddf-0654-4dd2-9936-92968b587990",
   "metadata": {},
   "source": [
    "## polymorphism\n",
    "- The ability of different classes to respond to the same message (method call) in different ways. This allows for code to work with objects of various classes as if they were objects of a common superclass."
   ]
  },
  {
   "cell_type": "code",
   "execution_count": 2,
   "id": "b61f4ca3-5189-4e1e-9102-2f884f17914f",
   "metadata": {},
   "outputs": [
    {
     "name": "stdout",
     "output_type": "stream",
     "text": [
      "Woof!\n",
      "Meow!\n"
     ]
    }
   ],
   "source": [
    "class Animal:\n",
    "    def speak(self):\n",
    "        return \"Animal speaks\"\n",
    "\n",
    "class Dog(Animal):\n",
    "    def speak(self):\n",
    "        return \"Woof!\"\n",
    "\n",
    "class Cat(Animal):\n",
    "    def speak(self):\n",
    "        return \"Meow!\"\n",
    "\n",
    "# Create instances\n",
    "dog = Dog()\n",
    "cat = Cat()\n",
    "\n",
    "# Call the speak method on different objects\n",
    "print(dog.speak())  # Output: Woof!\n",
    "print(cat.speak())  # Output: Meow!"
   ]
  },
  {
   "cell_type": "markdown",
   "id": "c2a7564b-55ef-4e9b-9b8d-7cf2b1c7ecdb",
   "metadata": {},
   "source": []
  },
  {
   "cell_type": "code",
   "execution_count": null,
   "id": "99914898-af36-4ee2-8d20-bf8934fc7932",
   "metadata": {},
   "outputs": [],
   "source": []
  }
 ],
 "metadata": {
  "kernelspec": {
   "display_name": "Python 3 (ipykernel)",
   "language": "python",
   "name": "python3"
  },
  "language_info": {
   "codemirror_mode": {
    "name": "ipython",
    "version": 3
   },
   "file_extension": ".py",
   "mimetype": "text/x-python",
   "name": "python",
   "nbconvert_exporter": "python",
   "pygments_lexer": "ipython3",
   "version": "3.13.5"
  }
 },
 "nbformat": 4,
 "nbformat_minor": 5
}
