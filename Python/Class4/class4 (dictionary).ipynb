{
 "cells": [
  {
   "cell_type": "markdown",
   "id": "361d7f50-d282-41ac-8e30-8f305c8360f5",
   "metadata": {},
   "source": [
    "### Dictionary"
   ]
  },
  {
   "cell_type": "code",
   "execution_count": 24,
   "id": "6e11a2a1-0ddc-4b3a-bbdc-415f5e625a7d",
   "metadata": {},
   "outputs": [],
   "source": [
    "bio_data = {\n",
    "    \"f_name\": \"Rizwan\",\n",
    "    \"l_name\": \"Rehman\",\n",
    "    \"age\" : 21,\n",
    "    \"weight\": 65\n",
    "}"
   ]
  },
  {
   "cell_type": "code",
   "execution_count": 8,
   "id": "9853b67f-5c2b-4bdb-9f98-83cce5fd8726",
   "metadata": {},
   "outputs": [
    {
     "data": {
      "text/plain": [
       "(dict, 1781666352640)"
      ]
     },
     "execution_count": 8,
     "metadata": {},
     "output_type": "execute_result"
    }
   ],
   "source": [
    "type(bio_data),id(bio_data)"
   ]
  },
  {
   "cell_type": "code",
   "execution_count": 9,
   "id": "666f7c57-ca8d-4ebe-916d-cf8c44284265",
   "metadata": {},
   "outputs": [],
   "source": [
    "bio_data['is_present'] = True"
   ]
  },
  {
   "cell_type": "code",
   "execution_count": 10,
   "id": "d5d7997d-ef0a-462a-b760-ad99ebd465c7",
   "metadata": {},
   "outputs": [
    {
     "data": {
      "text/plain": [
       "{'f_name': 'Rizwan',\n",
       " 'l_name': 'Rehman',\n",
       " 'age': 21,\n",
       " 'weight': 65,\n",
       " 'is_present': True}"
      ]
     },
     "execution_count": 10,
     "metadata": {},
     "output_type": "execute_result"
    }
   ],
   "source": [
    "bio_data"
   ]
  },
  {
   "cell_type": "code",
   "execution_count": 11,
   "id": "7d2e42bb-4637-4713-a0af-9bb244189c72",
   "metadata": {},
   "outputs": [
    {
     "data": {
      "text/plain": [
       "True"
      ]
     },
     "execution_count": 11,
     "metadata": {},
     "output_type": "execute_result"
    }
   ],
   "source": [
    "bio_data['is_present']"
   ]
  },
  {
   "cell_type": "code",
   "execution_count": 12,
   "id": "e00a1829-f405-40e0-9b8b-2fb33beea959",
   "metadata": {},
   "outputs": [
    {
     "data": {
      "text/plain": [
       "'Rehman'"
      ]
     },
     "execution_count": 12,
     "metadata": {},
     "output_type": "execute_result"
    }
   ],
   "source": [
    "bio_data['l_name']"
   ]
  },
  {
   "cell_type": "code",
   "execution_count": 15,
   "id": "20044b13-2c0e-4d49-9065-8283f5f843fe",
   "metadata": {},
   "outputs": [
    {
     "data": {
      "text/plain": [
       "dict_keys(['f_name', 'l_name', 'age', 'weight', 'is_present'])"
      ]
     },
     "execution_count": 15,
     "metadata": {},
     "output_type": "execute_result"
    }
   ],
   "source": [
    "bio_data.keys()"
   ]
  },
  {
   "cell_type": "code",
   "execution_count": 9,
   "id": "b27e9acd-8e6b-46e8-bf17-0dc0c5c7416d",
   "metadata": {},
   "outputs": [
    {
     "data": {
      "text/plain": [
       "dict_values(['Rizwan', 'Rehman', 21, 65, True])"
      ]
     },
     "execution_count": 9,
     "metadata": {},
     "output_type": "execute_result"
    }
   ],
   "source": [
    "bio_data.values()"
   ]
  },
  {
   "cell_type": "code",
   "execution_count": 10,
   "id": "9876333c-484c-4ee1-8582-9326da0a5ee7",
   "metadata": {},
   "outputs": [
    {
     "data": {
      "text/plain": [
       "dict_items([('f_name', 'Rizwan'), ('l_name', 'Rehman'), ('age', 21), ('weight', 65), ('is_present', True)])"
      ]
     },
     "execution_count": 10,
     "metadata": {},
     "output_type": "execute_result"
    }
   ],
   "source": [
    "bio_data.items()"
   ]
  },
  {
   "cell_type": "code",
   "execution_count": 13,
   "id": "c6261028-9988-4b59-9546-9c25a421e72e",
   "metadata": {},
   "outputs": [
    {
     "data": {
      "text/plain": [
       "('Rizwan', None)"
      ]
     },
     "execution_count": 13,
     "metadata": {},
     "output_type": "execute_result"
    }
   ],
   "source": [
    "bio_data.get('f_name'),bio_data.get('cnic')"
   ]
  },
  {
   "cell_type": "code",
   "execution_count": 34,
   "id": "9e2ae9a7-d0c7-45b0-82ac-f302f539a009",
   "metadata": {},
   "outputs": [
    {
     "data": {
      "text/plain": [
       "'Invalid kay'"
      ]
     },
     "execution_count": 34,
     "metadata": {},
     "output_type": "execute_result"
    }
   ],
   "source": [
    "bio_data.get('f name','Invalid kay')\n"
   ]
  },
  {
   "cell_type": "code",
   "execution_count": 16,
   "id": "a16c11e1-cda3-44aa-9fcf-eb881b6128f7",
   "metadata": {},
   "outputs": [],
   "source": [
    "bio_data['f_name'] = 'usman'"
   ]
  },
  {
   "cell_type": "code",
   "execution_count": 20,
   "id": "2003b705-08f7-4cc4-9c67-da7238a77ce5",
   "metadata": {},
   "outputs": [
    {
     "data": {
      "text/plain": [
       "{'f_name': 'usman',\n",
       " 'l_name': 'Rehman',\n",
       " 'age': 21,\n",
       " 'weight': 65,\n",
       " 'is_present': True}"
      ]
     },
     "execution_count": 20,
     "metadata": {},
     "output_type": "execute_result"
    }
   ],
   "source": [
    "bio_data"
   ]
  },
  {
   "cell_type": "markdown",
   "id": "1bd0c898-9f66-41fd-9435-b4f46640a9dc",
   "metadata": {},
   "source": [
    "- pop()\n",
    "- popitems()\n",
    "- setdefault()\n",
    "- update()"
   ]
  },
  {
   "cell_type": "code",
   "execution_count": 25,
   "id": "ce2245f3-fbdf-45e3-9d10-712a00522815",
   "metadata": {},
   "outputs": [
    {
     "data": {
      "text/plain": [
       "'Rizwan'"
      ]
     },
     "execution_count": 25,
     "metadata": {},
     "output_type": "execute_result"
    }
   ],
   "source": [
    "bio_data.pop(\"f_name\") # accept argument ( remove specified key and return the corresponding value.)"
   ]
  },
  {
   "cell_type": "code",
   "execution_count": 23,
   "id": "9f28d09b-52bb-4ab4-9c09-59a3eca97d9e",
   "metadata": {},
   "outputs": [
    {
     "data": {
      "text/plain": [
       "{'l_name': 'Rehman', 'age': 21, 'weight': 65, 'is_present': True}"
      ]
     },
     "execution_count": 23,
     "metadata": {},
     "output_type": "execute_result"
    }
   ],
   "source": [
    "bio_data"
   ]
  },
  {
   "cell_type": "code",
   "execution_count": 28,
   "id": "8caa741b-9147-4faa-b912-3228cb7be15d",
   "metadata": {},
   "outputs": [],
   "source": [
    "dic = {\"f_name\": \"Muhammad\",\"l_name\": \"Yaseen\",\"age\": 18}"
   ]
  },
  {
   "cell_type": "code",
   "execution_count": 31,
   "id": "4ea71b8d-085b-44c2-87af-0e90fd7cc046",
   "metadata": {},
   "outputs": [
    {
     "data": {
      "text/plain": [
       "('age', 18)"
      ]
     },
     "execution_count": 31,
     "metadata": {},
     "output_type": "execute_result"
    }
   ],
   "source": [
    " dic.popitem() # Remove and return a (key, value) pair as a 2-tuple.Pairs are returned in LIFO (last-in, first-out) order.\n",
    "# Raises KeyError if the dict is empty. doesn't accept argument"
   ]
  },
  {
   "cell_type": "code",
   "execution_count": 32,
   "id": "8c78aad1-6cf3-4c63-a653-c29ef36cd6ed",
   "metadata": {},
   "outputs": [
    {
     "data": {
      "text/plain": [
       "{'f_name': 'Muhammad', 'l_name': 'Yaseen'}"
      ]
     },
     "execution_count": 32,
     "metadata": {},
     "output_type": "execute_result"
    }
   ],
   "source": [
    "dic"
   ]
  },
  {
   "cell_type": "code",
   "execution_count": 26,
   "id": "cb19b3c8-aef0-45cc-a4b8-df5ec1b78c27",
   "metadata": {},
   "outputs": [],
   "source": [
    "dic.update({\"blood group\": \"A\"})"
   ]
  },
  {
   "cell_type": "code",
   "execution_count": 27,
   "id": "393c637d-99e8-4829-b5a6-d202e4397f18",
   "metadata": {},
   "outputs": [
    {
     "data": {
      "text/plain": [
       "{'f_name': 'Muhammad', 'l_name': 'Yaseen', 'blood group': 'A'}"
      ]
     },
     "execution_count": 27,
     "metadata": {},
     "output_type": "execute_result"
    }
   ],
   "source": [
    "dic"
   ]
  },
  {
   "cell_type": "code",
   "execution_count": 35,
   "id": "e98fb270-ca6a-4793-b82e-4b5faa67d56c",
   "metadata": {},
   "outputs": [
    {
     "data": {
      "text/plain": [
       "'unknown'"
      ]
     },
     "execution_count": 35,
     "metadata": {},
     "output_type": "execute_result"
    }
   ],
   "source": [
    "dic.setdefault(\"age\",\"unknown\")"
   ]
  },
  {
   "cell_type": "code",
   "execution_count": 29,
   "id": "b519d75b-9bb9-4a39-acc1-0d397edbb604",
   "metadata": {},
   "outputs": [
    {
     "data": {
      "text/plain": [
       "'Muhammad'"
      ]
     },
     "execution_count": 29,
     "metadata": {},
     "output_type": "execute_result"
    }
   ],
   "source": [
    "dic.setdefault(\"f_name\",\"unknown\")"
   ]
  },
  {
   "cell_type": "markdown",
   "id": "81f1551c-e6f9-4038-87ae-ee7639b5ef57",
   "metadata": {},
   "source": [
    "### Dictionaries: The versatility of keys and values"
   ]
  },
  {
   "cell_type": "code",
   "execution_count": 31,
   "id": "6d4a804b-e24f-4b5c-b0ad-281ee79110e3",
   "metadata": {},
   "outputs": [],
   "source": [
    "bio_data = {\n",
    "    0 : \"Rizwan\",\n",
    "    1 : \"Rehman\",\n",
    "    2 : 21,\n",
    "    3 : 65\n",
    "}"
   ]
  },
  {
   "cell_type": "code",
   "execution_count": 32,
   "id": "670553e5-bbf5-4354-a787-98132927eda2",
   "metadata": {},
   "outputs": [
    {
     "data": {
      "text/plain": [
       "{0: 'Rizwan', 1: 'Rehman', 2: 21, 3: 65}"
      ]
     },
     "execution_count": 32,
     "metadata": {},
     "output_type": "execute_result"
    }
   ],
   "source": [
    "bio_data # but it is not a meaningfull "
   ]
  },
  {
   "cell_type": "code",
   "execution_count": 33,
   "id": "3db0e507-5502-48ae-9c24-82ea6627fd75",
   "metadata": {},
   "outputs": [
    {
     "data": {
      "text/plain": [
       "'Rizwan'"
      ]
     },
     "execution_count": 33,
     "metadata": {},
     "output_type": "execute_result"
    }
   ],
   "source": [
    "bio_data[0]"
   ]
  },
  {
   "cell_type": "code",
   "execution_count": 34,
   "id": "80a4fc3c-3387-4a60-b384-a4209f1fba38",
   "metadata": {},
   "outputs": [],
   "source": [
    "bio_data[\"is_present\"] = True"
   ]
  },
  {
   "cell_type": "code",
   "execution_count": 35,
   "id": "8965ac3e-69d1-423e-8796-9b5b74a679ab",
   "metadata": {},
   "outputs": [
    {
     "data": {
      "text/plain": [
       "{0: 'Rizwan', 1: 'Rehman', 2: 21, 3: 65, 'is_present': True}"
      ]
     },
     "execution_count": 35,
     "metadata": {},
     "output_type": "execute_result"
    }
   ],
   "source": [
    "bio_data"
   ]
  },
  {
   "cell_type": "code",
   "execution_count": 36,
   "id": "8026507c-f3bf-42e6-af0b-7bf1a6bfa498",
   "metadata": {},
   "outputs": [],
   "source": [
    "del bio_data[\"is_present\"]"
   ]
  },
  {
   "cell_type": "code",
   "execution_count": 37,
   "id": "82c17acd-3c5e-43d2-ad00-185cb09f59bb",
   "metadata": {},
   "outputs": [
    {
     "data": {
      "text/plain": [
       "{0: 'Rizwan', 1: 'Rehman', 2: 21, 3: 65}"
      ]
     },
     "execution_count": 37,
     "metadata": {},
     "output_type": "execute_result"
    }
   ],
   "source": [
    "bio_data"
   ]
  },
  {
   "cell_type": "markdown",
   "id": "19468f66-eb76-48b7-b086-1a91db44817c",
   "metadata": {},
   "source": [
    "### Dictionaries: looping through key-value pairs"
   ]
  },
  {
   "cell_type": "code",
   "execution_count": 38,
   "id": "bf71b90b-3773-46d8-8d3c-a6851aca97f0",
   "metadata": {},
   "outputs": [
    {
     "name": "stdout",
     "output_type": "stream",
     "text": [
      "0\n",
      "1\n",
      "2\n",
      "3\n"
     ]
    }
   ],
   "source": [
    "for temp in bio_data: # by default keys\n",
    "    print(temp)\n"
   ]
  },
  {
   "cell_type": "code",
   "execution_count": 40,
   "id": "29ec8ff7-2bd8-4e13-8532-2f3380a96e7f",
   "metadata": {},
   "outputs": [
    {
     "name": "stdout",
     "output_type": "stream",
     "text": [
      "Rizwan\n",
      "Rehman\n",
      "21\n",
      "65\n"
     ]
    }
   ],
   "source": [
    "for temp in bio_data.values(): # only items\n",
    "    print(temp)"
   ]
  },
  {
   "cell_type": "code",
   "execution_count": 41,
   "id": "4b2d9eab-fdf1-4ca0-aa39-e894cc964496",
   "metadata": {},
   "outputs": [
    {
     "name": "stdout",
     "output_type": "stream",
     "text": [
      "(0, 'Rizwan')\n",
      "(1, 'Rehman')\n",
      "(2, 21)\n",
      "(3, 65)\n"
     ]
    }
   ],
   "source": [
    "for temp in bio_data.items(): # by complete key-value pair\n",
    "    print(temp)"
   ]
  },
  {
   "cell_type": "code",
   "execution_count": 28,
   "id": "1928fe92-c9f2-4683-9b9c-1b3682bff909",
   "metadata": {},
   "outputs": [
    {
     "name": "stdout",
     "output_type": "stream",
     "text": [
      "f_name--->Rizwan\n",
      "l_name--->Rehman\n",
      "age--->21\n",
      "weight--->65\n"
     ]
    }
   ],
   "source": [
    "for key, value in bio_data.items():\n",
    "    print(f\"{key}--->{value}\")"
   ]
  },
  {
   "cell_type": "markdown",
   "id": "6a66de33-fef8-45d7-92bc-76f6b6585dd9",
   "metadata": {},
   "source": [
    "### LIST COMPREHENSION:"
   ]
  },
  {
   "cell_type": "markdown",
   "id": "dd97d2a8-f8a2-4499-ba49-395561d247cd",
   "metadata": {},
   "source": [
    "#### without conditions:"
   ]
  },
  {
   "cell_type": "code",
   "execution_count": 8,
   "id": "d0c99c61-ec9a-4b1e-ae6c-23b1cd9baf66",
   "metadata": {},
   "outputs": [
    {
     "data": {
      "text/plain": [
       "[0, 1, 2, 3, 4, 5, 6, 7, 8, 9]"
      ]
     },
     "execution_count": 8,
     "metadata": {},
     "output_type": "execute_result"
    }
   ],
   "source": [
    "# normal way of code:\n",
    "\n",
    "lst = []\n",
    "for temp in range(10):\n",
    "    lst.append(temp)\n",
    "lst"
   ]
  },
  {
   "cell_type": "code",
   "execution_count": 12,
   "id": "c94f5bff-051b-48a4-a81c-552b018b9d54",
   "metadata": {},
   "outputs": [
    {
     "data": {
      "text/plain": [
       "[0, 1, 2, 3, 4, 5, 6, 7, 8, 9]"
      ]
     },
     "execution_count": 12,
     "metadata": {},
     "output_type": "execute_result"
    }
   ],
   "source": [
    "# list comprehension:\n",
    "\n",
    "[temp for temp in range(10)]"
   ]
  },
  {
   "cell_type": "markdown",
   "id": "a6361dc4-ab79-4263-a068-88f4c056ba23",
   "metadata": {},
   "source": [
    "#### With conditions:"
   ]
  },
  {
   "cell_type": "code",
   "execution_count": 14,
   "id": "21afa8e9-57ee-4fdf-a1b7-f8a3ce780849",
   "metadata": {},
   "outputs": [
    {
     "data": {
      "text/plain": [
       "[0, 'odd', 2, 'odd', 4, 'odd', 6, 'odd', 8, 'odd']"
      ]
     },
     "execution_count": 14,
     "metadata": {},
     "output_type": "execute_result"
    }
   ],
   "source": [
    "# normal way of code:\n",
    "\n",
    "lst = []\n",
    "for temp in range(10):\n",
    "    if temp % 2 == 0:\n",
    "        lst.append(temp)\n",
    "    else:\n",
    "        lst.append(\"odd\")\n",
    "lst"
   ]
  },
  {
   "cell_type": "code",
   "execution_count": 15,
   "id": "a1675891-661c-4181-91c0-e7ae5ed2c170",
   "metadata": {},
   "outputs": [
    {
     "data": {
      "text/plain": [
       "[0, 'odd', 2, 'odd', 4, 'odd', 6, 'odd', 8, 'odd']"
      ]
     },
     "execution_count": 15,
     "metadata": {},
     "output_type": "execute_result"
    }
   ],
   "source": [
    "# list comprehension:\n",
    "\n",
    "[temp if temp%2 == 0 else \"odd\" for temp in range(10) ]"
   ]
  },
  {
   "cell_type": "code",
   "execution_count": 16,
   "id": "09aabd63-8eef-4371-849e-fb382f35451d",
   "metadata": {},
   "outputs": [
    {
     "data": {
      "text/plain": [
       "['even', 'odd', 'even', 'odd', 'even', 'odd', 'even', 'odd', 'even', 'odd']"
      ]
     },
     "execution_count": 16,
     "metadata": {},
     "output_type": "execute_result"
    }
   ],
   "source": [
    "# list comprehension:\n",
    "\n",
    "[\"even\" if temp%2 == 0 else \"odd\" for temp in range(10) ]"
   ]
  },
  {
   "cell_type": "markdown",
   "id": "686a6681-a72a-4946-885a-2900fa6b43b0",
   "metadata": {},
   "source": [
    "### DICTIONARY COMPREHENSION:"
   ]
  },
  {
   "cell_type": "code",
   "execution_count": 22,
   "id": "e45394ed-3c04-4ede-9f09-c2cda25947e6",
   "metadata": {},
   "outputs": [],
   "source": [
    "# normal way of code:\n",
    "\n",
    "lst1 = [\"f_name\",\"l_name\",\"age\",\"weight\"]\n",
    "lst2 = [\"Rizwan\",\"Rehman\",21,65]"
   ]
  },
  {
   "cell_type": "code",
   "execution_count": 32,
   "id": "d2923944-b38a-4d85-84d3-e75c95e3158f",
   "metadata": {},
   "outputs": [
    {
     "data": {
      "text/plain": [
       "{'f_name': 'Rizwan', 'l_name': 'Rehman', 'age': 21, 'weight': 65}"
      ]
     },
     "execution_count": 32,
     "metadata": {},
     "output_type": "execute_result"
    }
   ],
   "source": [
    "bio_data = {}\n",
    "for temp in zip(lst1,lst2):\n",
    "    bio_data[temp[0]] = temp[1]\n",
    "bio_data"
   ]
  },
  {
   "cell_type": "code",
   "execution_count": 25,
   "id": "d7c35ae4-063f-438d-8ba0-baed3c2185dd",
   "metadata": {},
   "outputs": [
    {
     "data": {
      "text/plain": [
       "{'f_name': 'Rizwan', 'l_name': 'Rehman', 'age': 21, 'weight': 65}"
      ]
     },
     "execution_count": 25,
     "metadata": {},
     "output_type": "execute_result"
    }
   ],
   "source": [
    "# dictionary comprehension:\n",
    "\n",
    "{temp[0] : temp[1] for temp in zip(lst1,lst2)}"
   ]
  },
  {
   "cell_type": "markdown",
   "id": "bb39a6db-0756-41e8-9967-ea98fa425d9a",
   "metadata": {},
   "source": [
    "#### EXAMPLES:"
   ]
  },
  {
   "cell_type": "code",
   "execution_count": 27,
   "id": "800f1b22-7b4c-45aa-815d-f94f2f1f18c8",
   "metadata": {},
   "outputs": [
    {
     "data": {
      "text/plain": [
       "[1, 9, 25, 49]"
      ]
     },
     "execution_count": 27,
     "metadata": {},
     "output_type": "execute_result"
    }
   ],
   "source": [
    "lst = [i**2 for i in range(1,8,2)]\n",
    "lst"
   ]
  },
  {
   "cell_type": "code",
   "execution_count": 5,
   "id": "06a19745-fd2a-4ea7-bcf5-654ad20b5b50",
   "metadata": {},
   "outputs": [
    {
     "data": {
      "text/plain": [
       "{0: 0, 1: 1, 2: 4, 3: 9, 4: 16}"
      ]
     },
     "execution_count": 5,
     "metadata": {},
     "output_type": "execute_result"
    }
   ],
   "source": [
    "dic = {i:i**2 for i in range(5)}\n",
    "dic"
   ]
  },
  {
   "cell_type": "code",
   "execution_count": 6,
   "id": "a521363f-d56f-48ea-a087-1e10fc00a421",
   "metadata": {},
   "outputs": [],
   "source": [
    "result = {\"rizwan\":80,\"usman\":89,\"taha\":67,\"mannan\":56}"
   ]
  },
  {
   "cell_type": "code",
   "execution_count": 8,
   "id": "218e71dc-2233-4223-aeaa-8e34bf93839e",
   "metadata": {},
   "outputs": [],
   "source": [
    "passed = {name:marks for name,marks in result.items() if marks > 70}"
   ]
  },
  {
   "cell_type": "code",
   "execution_count": 9,
   "id": "4310a5c9-cf54-4b0b-af59-d7d4c2dd3880",
   "metadata": {},
   "outputs": [
    {
     "data": {
      "text/plain": [
       "{'rizwan': 80, 'usman': 89}"
      ]
     },
     "execution_count": 9,
     "metadata": {},
     "output_type": "execute_result"
    }
   ],
   "source": [
    "passed"
   ]
  },
  {
   "cell_type": "markdown",
   "id": "07a56aab-f094-4f90-a2fe-b485ba43ef0b",
   "metadata": {},
   "source": [
    "### Creating a list of dictionaries"
   ]
  },
  {
   "cell_type": "code",
   "execution_count": 35,
   "id": "ef4d40b5-b219-4ebe-95f0-26fb5ca548a6",
   "metadata": {},
   "outputs": [],
   "source": [
    "lst_dict = [\n",
    "    {'customer id': 0,\n",
    "     'first name': 'John',\n",
    "     'last name': 'Ogden',\n",
    "     'address': '301 Arbor Rd.',\n",
    "     'phone no': '+1 412 7863 45'}\n",
    "]"
   ]
  },
  {
   "cell_type": "code",
   "execution_count": 36,
   "id": "2348da6b-ff02-4231-be99-14f46a995f1a",
   "metadata": {},
   "outputs": [],
   "source": [
    "lst_dict[0]['age'] = 21"
   ]
  },
  {
   "cell_type": "code",
   "execution_count": 37,
   "id": "3bba4e07-4b4b-4daf-a4da-97e1b425fede",
   "metadata": {},
   "outputs": [
    {
     "data": {
      "text/plain": [
       "[{'customer id': 0,\n",
       "  'first name': 'John',\n",
       "  'last name': 'Ogden',\n",
       "  'address': '301 Arbor Rd.',\n",
       "  'phone no': '+1 412 7863 45',\n",
       "  'age': 21}]"
      ]
     },
     "execution_count": 37,
     "metadata": {},
     "output_type": "execute_result"
    }
   ],
   "source": [
    "lst_dict"
   ]
  },
  {
   "cell_type": "code",
   "execution_count": 38,
   "id": "96525069-587e-4e1c-bc1d-e61bcd415eda",
   "metadata": {},
   "outputs": [
    {
     "data": {
      "text/plain": [
       "{'customer id': 0,\n",
       " 'first name': 'John',\n",
       " 'last name': 'Ogden',\n",
       " 'address': '301 Arbor Rd.',\n",
       " 'phone no': '+1 412 7863 45',\n",
       " 'age': 21}"
      ]
     },
     "execution_count": 38,
     "metadata": {},
     "output_type": "execute_result"
    }
   ],
   "source": [
    "lst_dict[0]"
   ]
  },
  {
   "cell_type": "markdown",
   "id": "64953b3a-8f45-42be-a09c-74376be9f9d0",
   "metadata": {},
   "source": [
    "Tasks: \n",
    "- Using loops add a \"age\" key in all dictionary with defualt value as None\n",
    "- Using a list to convert the customer dictionary to list of list (make sure in nexted list you have only the values NOT keys))\n",
    "- Convert this (list of dict) to (dict of dict)\n",
    "- Remove all \"customer id\" for dict of dict\n",
    "- apply comprehension methods if possible"
   ]
  },
  {
   "cell_type": "code",
   "execution_count": 23,
   "id": "6d148b5d-0cbe-42d5-aab4-a97813d2320d",
   "metadata": {},
   "outputs": [],
   "source": [
    "customers = [\n",
    "    {     \n",
    "    \"customer id\": 0,\n",
    "    \"first name\":\"John\",\n",
    "    \"last name\": \"Ogden\",\n",
    "    \"address\": \"301 Arbor Rd.\",\n",
    "     },\n",
    "     {\n",
    "     \"customer id\": 1,\n",
    "     \"first name\":\"Ann\",\n",
    "     \"last name\": \"Sattermyer\",\n",
    "     \"address\": \"PO Box 1145\",\n",
    "     },\n",
    "     {\n",
    "     \"customer id\": 2,\n",
    "    \"first name\":\"Jill\",\n",
    "    \"last name\": \"Somers\",\n",
    "    \"address\": \"3 Main St.\",\n",
    "    },\n",
    "]\n"
   ]
  },
  {
   "cell_type": "code",
   "execution_count": 24,
   "id": "1c54f3be-563a-47b0-be30-4fa8a4597257",
   "metadata": {},
   "outputs": [
    {
     "data": {
      "text/plain": [
       "[{'customer id': 0,\n",
       "  'first name': 'John',\n",
       "  'last name': 'Ogden',\n",
       "  'address': '301 Arbor Rd.',\n",
       "  'age': None},\n",
       " {'customer id': 1,\n",
       "  'first name': 'Ann',\n",
       "  'last name': 'Sattermyer',\n",
       "  'address': 'PO Box 1145',\n",
       "  'age': None},\n",
       " {'customer id': 2,\n",
       "  'first name': 'Jill',\n",
       "  'last name': 'Somers',\n",
       "  'address': '3 Main St.',\n",
       "  'age': None}]"
      ]
     },
     "execution_count": 24,
     "metadata": {},
     "output_type": "execute_result"
    }
   ],
   "source": [
    "for customer in customers:\n",
    "    customer['age'] = None\n",
    "customers"
   ]
  },
  {
   "cell_type": "code",
   "execution_count": 25,
   "id": "61c9aa0f-6b52-435d-b6f1-1a27fbc66899",
   "metadata": {},
   "outputs": [
    {
     "data": {
      "text/plain": [
       "[[0, 'John', 'Ogden', '301 Arbor Rd.', None],\n",
       " [1, 'Ann', 'Sattermyer', 'PO Box 1145', None],\n",
       " [2, 'Jill', 'Somers', '3 Main St.', None]]"
      ]
     },
     "execution_count": 25,
     "metadata": {},
     "output_type": "execute_result"
    }
   ],
   "source": [
    "list_of_list = []\n",
    "\n",
    "for customer in customers:\n",
    "    list_of_list.append(list(customer.values()))\n",
    "\n",
    "list_of_list\n"
   ]
  },
  {
   "cell_type": "code",
   "execution_count": 26,
   "id": "4927849d-05e6-4800-8c6d-b42640cb3981",
   "metadata": {},
   "outputs": [
    {
     "data": {
      "text/plain": [
       "{0: {'customer id': 0,\n",
       "  'first name': 'John',\n",
       "  'last name': 'Ogden',\n",
       "  'address': '301 Arbor Rd.',\n",
       "  'age': None},\n",
       " 1: {'customer id': 1,\n",
       "  'first name': 'Ann',\n",
       "  'last name': 'Sattermyer',\n",
       "  'address': 'PO Box 1145',\n",
       "  'age': None},\n",
       " 2: {'customer id': 2,\n",
       "  'first name': 'Jill',\n",
       "  'last name': 'Somers',\n",
       "  'address': '3 Main St.',\n",
       "  'age': None}}"
      ]
     },
     "execution_count": 26,
     "metadata": {},
     "output_type": "execute_result"
    }
   ],
   "source": [
    "dict_of_dict = {}\n",
    "for index, item in enumerate(customers):\n",
    "    dict_of_dict[index] = item\n",
    "\n",
    "dict_of_dict\n"
   ]
  },
  {
   "attachments": {
    "58a683e3-c4d8-488c-a3e6-fc6daf61d2b7.png": {
     "image/png": "[encoded data removed]"
    }
   },
   "cell_type": "markdown",
   "id": "4d4b48d2-fc40-43bf-abe4-8b67429c68c9",
   "metadata": {},
   "source": [
    "![image.png](attachment:58a683e3-c4d8-488c-a3e6-fc6daf61d2b7.png)\n"
   ]
  },
  {
   "cell_type": "raw",
   "id": "ccc75a64-3c82-4603-8125-e85c3583e3e3",
   "metadata": {},
   "source": [
    "\n",
    "fruits = [\"apple\", \"banana\", \"cherry\"]\n",
    "\n",
    "Basic usage in a for loop\n",
    "for index, fruit in enumerate(fruits):\n",
    "    print(f\"Index {index}: {fruit}\")\n",
    "\n",
    "Output:\n",
    "Index 0: apple\n",
    "Index 1: banana\n",
    "Index 2: cherry\n",
    "\n",
    "Using a custom start index\n",
    "for index, fruit in enumerate(fruits, start=1):\n",
    "    print(f\"Item number {index}: {fruit}\")\n",
    "\n",
    "Output:\n",
    "Item number 1: apple\n",
    "Item number 2: banana\n",
    "Item number 3: cherry"
   ]
  },
  {
   "cell_type": "code",
   "execution_count": 27,
   "id": "ba52b90a-e844-4fe2-b28c-f2beed2847e5",
   "metadata": {},
   "outputs": [
    {
     "data": {
      "text/plain": [
       "{0: {'first name': 'John',\n",
       "  'last name': 'Ogden',\n",
       "  'address': '301 Arbor Rd.',\n",
       "  'age': None},\n",
       " 1: {'first name': 'Ann',\n",
       "  'last name': 'Sattermyer',\n",
       "  'address': 'PO Box 1145',\n",
       "  'age': None},\n",
       " 2: {'first name': 'Jill',\n",
       "  'last name': 'Somers',\n",
       "  'address': '3 Main St.',\n",
       "  'age': None}}"
      ]
     },
     "execution_count": 27,
     "metadata": {},
     "output_type": "execute_result"
    }
   ],
   "source": [
    "dict_of_dict = {}\n",
    "for index, item in enumerate(customers):\n",
    "    popped = item.pop('customer id') # it will do hard delete on item {pop remove krta hai aur value return bhi krta hai lkn yahan value return nahi ki hard delte kiya}\n",
    "    dict_of_dict[index] = item\n",
    "    \n",
    "dict_of_dict"
   ]
  },
  {
   "cell_type": "code",
   "execution_count": 29,
   "id": "b09e49ff-582b-4d72-ac52-93b112469524",
   "metadata": {},
   "outputs": [
    {
     "name": "stdout",
     "output_type": "stream",
     "text": [
      "{'customer id': 0, 'first name': 'John', 'last name': 'Ogden', 'address': '301 Arbor Rd.', 'age': None}\n",
      "{'customer id': 1, 'first name': 'Ann', 'last name': 'Sattermyer', 'address': 'PO Box 1145', 'age': None}\n",
      "{'customer id': 2, 'first name': 'Jill', 'last name': 'Somers', 'address': '3 Main St.', 'age': None}\n"
     ]
    }
   ],
   "source": [
    "for index, item in enumerate(customers):\n",
    "    print(item)"
   ]
  },
  {
   "cell_type": "code",
   "execution_count": 30,
   "id": "87b8b257-0454-4573-8f2d-d7a4498b9a13",
   "metadata": {},
   "outputs": [
    {
     "data": {
      "text/plain": [
       "{0: {'customer id': 0,\n",
       "  'first name': 'John',\n",
       "  'last name': 'Ogden',\n",
       "  'address': '301 Arbor Rd.',\n",
       "  'age': None},\n",
       " 1: {'customer id': 1,\n",
       "  'first name': 'Ann',\n",
       "  'last name': 'Sattermyer',\n",
       "  'address': 'PO Box 1145',\n",
       "  'age': None},\n",
       " 2: {'customer id': 2,\n",
       "  'first name': 'Jill',\n",
       "  'last name': 'Somers',\n",
       "  'address': '3 Main St.',\n",
       "  'age': None}}"
      ]
     },
     "execution_count": 30,
     "metadata": {},
     "output_type": "execute_result"
    }
   ],
   "source": [
    "{customer['customer id']: customer for customer in customers}"
   ]
  },
  {
   "cell_type": "markdown",
   "id": "36e93602-bd45-4545-9045-773306f8910b",
   "metadata": {},
   "source": [
    "Tasks: \n",
    "complete all tasks by using traditional way and comprehension way:\n",
    "- Using loops add a \"age\" key in all dictionary with defualt value as None\n",
    "- Using a list to convert the customer dictionary to list of list (make sure in nexted list you have only the values NOT keys))\n",
    "- Convert this (list of dict) to (dict of dict)\n",
    "- Remove all \"customer id\" for dict of dict\n",
    "- apply comprehension methods if possible"
   ]
  },
  {
   "cell_type": "code",
   "execution_count": 2,
   "id": "2a9cae11-50da-42dc-8d74-176bf122bc4c",
   "metadata": {},
   "outputs": [],
   "source": [
    "customers = [\n",
    "    {     \n",
    "    \"customer id\": 0,\n",
    "    \"first name\":\"John\",\n",
    "    \"last name\": \"Ogden\",\n",
    "    \"address\": \"301 Arbor Rd.\",\n",
    "     },\n",
    "     {\n",
    "     \"customer id\": 1,\n",
    "     \"first name\":\"Ann\",\n",
    "     \"last name\": \"Sattermyer\",\n",
    "     \"address\": \"PO Box 1145\",\n",
    "     },\n",
    "     {\n",
    "     \"customer id\": 2,\n",
    "    \"first name\":\"Jill\",\n",
    "    \"last name\": \"Somers\",\n",
    "    \"address\": \"3 Main St.\",\n",
    "    },\n",
    "]"
   ]
  },
  {
   "cell_type": "code",
   "execution_count": 9,
   "id": "dced7f69-a20f-42f0-a27f-e8a45be1fcdb",
   "metadata": {},
   "outputs": [
    {
     "data": {
      "text/plain": [
       "[{'customer id': 0,\n",
       "  'first name': 'John',\n",
       "  'last name': 'Ogden',\n",
       "  'address': '301 Arbor Rd.',\n",
       "  'age': None},\n",
       " {'customer id': 1,\n",
       "  'first name': 'Ann',\n",
       "  'last name': 'Sattermyer',\n",
       "  'address': 'PO Box 1145',\n",
       "  'age': None},\n",
       " {'customer id': 2,\n",
       "  'first name': 'Jill',\n",
       "  'last name': 'Somers',\n",
       "  'address': '3 Main St.',\n",
       "  'age': None}]"
      ]
     },
     "execution_count": 9,
     "metadata": {},
     "output_type": "execute_result"
    }
   ],
   "source": [
    "# Task 1: Using loops add a \"age\" key in all dictionary with defualt value as None\n",
    "# Method 1\n",
    "\n",
    "list_of_dictionary_with_age = []\n",
    "\n",
    "for customer in customers:\n",
    "    # print(customer)\n",
    "    customer.setdefault(\"age\") #update the list\n",
    "    list_of_dictionary_with_age.append(customer) # that updated list add into list_of_dictionary_with_age\n",
    "\n",
    "list_of_dictionary_with_age # \n",
    "    "
   ]
  },
  {
   "cell_type": "code",
   "execution_count": 10,
   "id": "9f5cf817-6a9d-4795-ad00-293d6d06fbf5",
   "metadata": {},
   "outputs": [],
   "source": [
    "# Task 1: Using loops add a \"age\" key in all dictionary with defualt value as None\n",
    "# Method 2\n",
    "\n",
    "# dictionary parse ==> **\n",
    "# list parse ==> *\n",
    "\n",
    "list_of_dictionary_with_age = [{**customer,\"age\" : None} for customer in customers]# customers mai sy hr ik dictionary ko utha k customer k andr dhal diya ab mujhy hr ik dictionary mai new key-value pair add krna hai tw mujhy sub sy phele {**customer,\"age\" : None} banani phary gi jis k andr pichli sari ki sari dictionaries hongi sath mai double steric kiya kary ga key-value pair ki form mai sari dictionaries ko ly kr ae ga aur sath mai age ko None krdo"
   ]
  },
  {
   "cell_type": "code",
   "execution_count": 11,
   "id": "5ffbf49a-2bc9-4c81-b712-fcc28f1c1a58",
   "metadata": {},
   "outputs": [
    {
     "data": {
      "text/plain": [
       "[{'customer id': 0,\n",
       "  'first name': 'John',\n",
       "  'last name': 'Ogden',\n",
       "  'address': '301 Arbor Rd.',\n",
       "  'age': None},\n",
       " {'customer id': 1,\n",
       "  'first name': 'Ann',\n",
       "  'last name': 'Sattermyer',\n",
       "  'address': 'PO Box 1145',\n",
       "  'age': None},\n",
       " {'customer id': 2,\n",
       "  'first name': 'Jill',\n",
       "  'last name': 'Somers',\n",
       "  'address': '3 Main St.',\n",
       "  'age': None}]"
      ]
     },
     "execution_count": 11,
     "metadata": {},
     "output_type": "execute_result"
    }
   ],
   "source": [
    "list_of_dictionary_with_age"
   ]
  },
  {
   "cell_type": "code",
   "execution_count": 16,
   "id": "de0a72a8-c6e6-445b-9afb-7dbe7383e077",
   "metadata": {},
   "outputs": [
    {
     "data": {
      "text/plain": [
       "[[0, 'John', 'Ogden', '301 Arbor Rd.', None],\n",
       " [1, 'Ann', 'Sattermyer', 'PO Box 1145', None],\n",
       " [2, 'Jill', 'Somers', '3 Main St.', None]]"
      ]
     },
     "execution_count": 16,
     "metadata": {},
     "output_type": "execute_result"
    }
   ],
   "source": [
    "# Task 2: Using a list to convert the customer dictionary to list of list (make sure in nexted list you have only the values NOT keys))\n",
    "# Method 1:\n",
    "\n",
    "list_of_list = []\n",
    "for customer in customers:\n",
    "    # print(list(customer.values()))\n",
    "    list_of_list.append((list(customer.values())))\n",
    "\n",
    "list_of_list\n"
   ]
  },
  {
   "cell_type": "code",
   "execution_count": 18,
   "id": "b293737e-efaf-432a-8939-4c683c88a2cf",
   "metadata": {},
   "outputs": [
    {
     "data": {
      "text/plain": [
       "[[0, 'John', 'Ogden', '301 Arbor Rd.', None],\n",
       " [1, 'Ann', 'Sattermyer', 'PO Box 1145', None],\n",
       " [2, 'Jill', 'Somers', '3 Main St.', None]]"
      ]
     },
     "execution_count": 18,
     "metadata": {},
     "output_type": "execute_result"
    }
   ],
   "source": [
    "# Task 2: Using a list to convert the customer dictionary to list of list (make sure in nexted list you have only the values NOT keys))\n",
    "# Method 2:\n",
    "\n",
    "list_of_list = [list(customer.values()) for customer in customers]\n",
    "list_of_list"
   ]
  },
  {
   "cell_type": "code",
   "execution_count": 21,
   "id": "510da442-099d-4492-a899-5b0daecbce94",
   "metadata": {},
   "outputs": [
    {
     "data": {
      "text/plain": [
       "{0: {'customer id': 0,\n",
       "  'first name': 'John',\n",
       "  'last name': 'Ogden',\n",
       "  'address': '301 Arbor Rd.',\n",
       "  'age': None},\n",
       " 1: {'customer id': 1,\n",
       "  'first name': 'Ann',\n",
       "  'last name': 'Sattermyer',\n",
       "  'address': 'PO Box 1145',\n",
       "  'age': None},\n",
       " 2: {'customer id': 2,\n",
       "  'first name': 'Jill',\n",
       "  'last name': 'Somers',\n",
       "  'address': '3 Main St.',\n",
       "  'age': None}}"
      ]
     },
     "execution_count": 21,
     "metadata": {},
     "output_type": "execute_result"
    }
   ],
   "source": [
    "# Task 3: Convert this (list of dict) to (dict of dict)\n",
    "# Method 1:\n",
    "\n",
    "dict_of_dict = {}\n",
    "\n",
    "for customer in customers:\n",
    "    # print(customer)\n",
    "    # print(customer['customer id']) # kisi bhi dictionary mai kuch add krny k liye hamy key-value pair chaiyai hota hai tw hum ny customer id ko hi key bana liya\n",
    "    dict_of_dict[customer['customer id']] = customer # [customer['customer id']] ==> key and customer ==> value\n",
    "\n",
    "dict_of_dict    \n"
   ]
  },
  {
   "cell_type": "code",
   "execution_count": 28,
   "id": "b4a54d97-0a42-4ac5-9439-9b23e13d656d",
   "metadata": {},
   "outputs": [
    {
     "data": {
      "text/plain": [
       "{0: {'customer id': 0,\n",
       "  'first name': 'John',\n",
       "  'last name': 'Ogden',\n",
       "  'address': '301 Arbor Rd.',\n",
       "  'age': None},\n",
       " 1: {'customer id': 1,\n",
       "  'first name': 'Ann',\n",
       "  'last name': 'Sattermyer',\n",
       "  'address': 'PO Box 1145',\n",
       "  'age': None},\n",
       " 2: {'customer id': 2,\n",
       "  'first name': 'Jill',\n",
       "  'last name': 'Somers',\n",
       "  'address': '3 Main St.',\n",
       "  'age': None}}"
      ]
     },
     "execution_count": 28,
     "metadata": {},
     "output_type": "execute_result"
    }
   ],
   "source": [
    "# Task 3: Convert this (list of dict) to (dict of dict)\n",
    "# Method 2:\n",
    "\n",
    "# {{customer['customer id'] = customer } for customer in customers} # wasy technically tw asy likh jae ga code but ye excecute nahi ho raha\n",
    "\n",
    "dict_of_dict = {customer['customer id'] : customer for customer in customers}\n",
    "dict_of_dict"
   ]
  },
  {
   "cell_type": "code",
   "execution_count": 40,
   "id": "89abe571-4d36-4ea3-8396-6dd629fd10a1",
   "metadata": {},
   "outputs": [
    {
     "name": "stdout",
     "output_type": "stream",
     "text": [
      "(0, {'customer id': 0, 'first name': 'John', 'last name': 'Ogden', 'address': '301 Arbor Rd.', 'age': None})\n",
      "(1, {'customer id': 1, 'first name': 'Ann', 'last name': 'Sattermyer', 'address': 'PO Box 1145', 'age': None})\n",
      "(2, {'customer id': 2, 'first name': 'Jill', 'last name': 'Somers', 'address': '3 Main St.', 'age': None})\n"
     ]
    }
   ],
   "source": [
    "# problem identification: (unhashable)\n",
    "\n",
    "dict_of_dict = {}\n",
    "\n",
    "for customer in enumerate(customers): # enumerate method bydefaylt tuple return krta hai aur tuple kiya hai immutable tabhi hamy unhashable wali problem a rahi thi tw is problem ki waja sy hum enumerate method ko dic of dic mai use nahi kr pa rahy thy\n",
    "    print(customer)"
   ]
  },
  {
   "attachments": {
    "bd715f33-559c-4a39-ad20-ba2ed94e25ea.png": {
     "image/png": "[encoded data removed]"
    }
   },
   "cell_type": "markdown",
   "id": "de1e84d9-658c-4004-9fd8-d8648a83e8c3",
   "metadata": {},
   "source": [
    "![image.png](attachment:bd715f33-559c-4a39-ad20-ba2ed94e25ea.png)"
   ]
  },
  {
   "cell_type": "code",
   "execution_count": 41,
   "id": "7c036917-4cd4-438a-8ace-0ab95bbe5c5d",
   "metadata": {},
   "outputs": [
    {
     "name": "stdout",
     "output_type": "stream",
     "text": [
      "0 {'customer id': 0, 'first name': 'John', 'last name': 'Ogden', 'address': '301 Arbor Rd.', 'age': None}\n",
      "1 {'customer id': 1, 'first name': 'Ann', 'last name': 'Sattermyer', 'address': 'PO Box 1145', 'age': None}\n",
      "2 {'customer id': 2, 'first name': 'Jill', 'last name': 'Somers', 'address': '3 Main St.', 'age': None}\n"
     ]
    }
   ],
   "source": [
    "# problem identification: (unhashable)\n",
    "\n",
    "dict_of_dict = {}\n",
    "\n",
    "for customer in enumerate(customers): # enumerate method bydefault tuple return krta hai aur tuple kiya hai immutable tabhi hamy unhashable wali problem a rahi thi tw is problem ki waja sy hum enumerate method ko dic of dic mai use nahi kr pa rahy thy\n",
    "    print(customer[0], customer[1])"
   ]
  },
  {
   "cell_type": "code",
   "execution_count": 37,
   "id": "abff5065-b103-467b-96de-0b0a82a8226a",
   "metadata": {},
   "outputs": [
    {
     "data": {
      "text/plain": [
       "{0: {'customer id': 0,\n",
       "  'first name': 'John',\n",
       "  'last name': 'Ogden',\n",
       "  'address': '301 Arbor Rd.',\n",
       "  'age': None},\n",
       " 1: {'customer id': 1,\n",
       "  'first name': 'Ann',\n",
       "  'last name': 'Sattermyer',\n",
       "  'address': 'PO Box 1145',\n",
       "  'age': None},\n",
       " 2: {'customer id': 2,\n",
       "  'first name': 'Jill',\n",
       "  'last name': 'Somers',\n",
       "  'address': '3 Main St.',\n",
       "  'age': None}}"
      ]
     },
     "execution_count": 37,
     "metadata": {},
     "output_type": "execute_result"
    }
   ],
   "source": [
    "# problem identification: (unhashable)\n",
    "\n",
    "dict_of_dict = {}\n",
    "\n",
    "for customer in enumerate(customers): \n",
    "    dict_of_dict[customer[0]] = customer[1]\n",
    "dict_of_dict"
   ]
  },
  {
   "cell_type": "code",
   "execution_count": 39,
   "id": "bbb268a5-9e82-41c4-b832-3a25f7a97ff1",
   "metadata": {},
   "outputs": [
    {
     "data": {
      "text/plain": [
       "{0: {'customer id': 0,\n",
       "  'first name': 'John',\n",
       "  'last name': 'Ogden',\n",
       "  'address': '301 Arbor Rd.',\n",
       "  'age': None},\n",
       " 1: {'customer id': 1,\n",
       "  'first name': 'Ann',\n",
       "  'last name': 'Sattermyer',\n",
       "  'address': 'PO Box 1145',\n",
       "  'age': None},\n",
       " 2: {'customer id': 2,\n",
       "  'first name': 'Jill',\n",
       "  'last name': 'Somers',\n",
       "  'address': '3 Main St.',\n",
       "  'age': None}}"
      ]
     },
     "execution_count": 39,
     "metadata": {},
     "output_type": "execute_result"
    }
   ],
   "source": [
    "# dictionary comprehension by using enumerate method\n",
    "\n",
    "{customer[0] : customer[1] for customer in enumerate(customers)}"
   ]
  },
  {
   "cell_type": "code",
   "execution_count": null,
   "id": "b5b6f964-b0a5-4677-8a54-5f14d5b98029",
   "metadata": {},
   "outputs": [],
   "source": []
  }
 ],
 "metadata": {
  "kernelspec": {
   "display_name": "Python 3 (ipykernel)",
   "language": "python",
   "name": "python3"
  },
  "language_info": {
   "codemirror_mode": {
    "name": "ipython",
    "version": 3
   },
   "file_extension": ".py",
   "mimetype": "text/x-python",
   "name": "python",
   "nbconvert_exporter": "python",
   "pygments_lexer": "ipython3",
   "version": "3.13.5"
  }
 },
 "nbformat": 4,
 "nbformat_minor": 5
}
