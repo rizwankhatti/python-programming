{
 "cells": [
  {
   "cell_type": "markdown",
   "id": "a952d7f4-3828-4a0d-8b07-ffa79ad8f2d0",
   "metadata": {},
   "source": [
    "## OOP in python\n",
    "-  To map with real world scenarios, we started using objects in code.\n",
    "- This is called object oriented programming. "
   ]
  },
  {
   "cell_type": "markdown",
   "id": "ef872712-dd6d-46ca-b2d2-67016319801d",
   "metadata": {},
   "source": [
    "### Classes:\n",
    "- everything in python belongs to some specific **class**\n",
    "- every class can have its **object**\n",
    "- every class have its own **methods**\n",
    "\n",
    "### Class & Object in Python\n",
    " Class is a blueprint for creating objects.\n",
    " \n",
    " #### creating class\n",
    " class Student:   \n",
    "    name = “karan kumar”\n",
    " #### creating object (instance)\n",
    " s1 =  Student( )\n",
    " \n",
    " print( s1.name )\n",
    " #### Class & Instance Attributes\n",
    " Class.attr\n",
    " \n",
    " obj.attr"
   ]
  },
  {
   "cell_type": "code",
   "execution_count": 1,
   "id": "6092d249-72f7-4349-952f-c26f0ab1b76f",
   "metadata": {},
   "outputs": [],
   "source": [
    "name = \"Rizwan\""
   ]
  },
  {
   "cell_type": "code",
   "execution_count": 3,
   "id": "2082d09e-653b-4a3b-ada8-f70fd9a9d131",
   "metadata": {},
   "outputs": [
    {
     "name": "stdout",
     "output_type": "stream",
     "text": [
      "<class 'str'>\n"
     ]
    }
   ],
   "source": [
    "print(type(name))"
   ]
  },
  {
   "cell_type": "code",
   "execution_count": 4,
   "id": "375f9953-acd5-43c0-bdf2-a90439b08dbb",
   "metadata": {},
   "outputs": [],
   "source": [
    "lst = [1,2,3,4,5]"
   ]
  },
  {
   "cell_type": "code",
   "execution_count": 5,
   "id": "93959a01-a3da-4e18-8f79-ebfa938b28bd",
   "metadata": {},
   "outputs": [
    {
     "name": "stdout",
     "output_type": "stream",
     "text": [
      "<class 'list'>\n"
     ]
    }
   ],
   "source": [
    "print(type(lst))"
   ]
  },
  {
   "cell_type": "code",
   "execution_count": 10,
   "id": "122e53c2-7fb5-4712-812e-a9692d238da1",
   "metadata": {},
   "outputs": [],
   "source": [
    "dic = {\"name\":\"Rizwan\"}"
   ]
  },
  {
   "cell_type": "code",
   "execution_count": 11,
   "id": "36acd7ca-924f-41b5-a1bc-438ca714ae0b",
   "metadata": {},
   "outputs": [
    {
     "name": "stdout",
     "output_type": "stream",
     "text": [
      "<class 'dict'>\n"
     ]
    }
   ],
   "source": [
    "print(type(dic))"
   ]
  },
  {
   "cell_type": "markdown",
   "id": "883b1f96-6cfd-4a2a-8a9f-237699fc14fe",
   "metadata": {},
   "source": [
    "- Every class have two things.\n",
    "1. characteristics/properties ---> attribute\n",
    "2. behaviours/actions ----> methods\n"
   ]
  },
  {
   "cell_type": "code",
   "execution_count": 2,
   "id": "451a7dda-e8ed-4765-8be7-d4d393ad28df",
   "metadata": {},
   "outputs": [
    {
     "name": "stdout",
     "output_type": "stream",
     "text": [
      "<__main__.Student object at 0x0000017DF116C050>\n"
     ]
    }
   ],
   "source": [
    "# creating class\n",
    "\n",
    "class Student:\n",
    "    name = \"Rizwan\"\n",
    "\n",
    "# creating objects(instance)\n",
    "\n",
    "s1 = Student()\n",
    "print(s1)\n",
    "\n",
    "# nichy bata raha hai s1 ik object hai jo k create hoi hai jiska type kiya hai student  tw student class ki object create hoi hai code k andr"
   ]
  },
  {
   "cell_type": "code",
   "execution_count": 3,
   "id": "f8be7ef7-d2f7-4e16-b7df-a934c2920677",
   "metadata": {},
   "outputs": [
    {
     "name": "stdout",
     "output_type": "stream",
     "text": [
      "Rizwan\n"
     ]
    }
   ],
   "source": [
    "# creating class\n",
    "\n",
    "class Student:\n",
    "    name = \"Rizwan\"\n",
    "\n",
    "# creating objects(instance)\n",
    "\n",
    "s1 = Student()\n",
    "print(s1.name)"
   ]
  },
  {
   "cell_type": "code",
   "execution_count": 4,
   "id": "eca9ab33-5540-4018-b8d7-4794696b590c",
   "metadata": {},
   "outputs": [
    {
     "name": "stdout",
     "output_type": "stream",
     "text": [
      "Rizwan\n",
      "Rizwan\n"
     ]
    }
   ],
   "source": [
    "# creating class\n",
    "\n",
    "class Student:\n",
    "    name = \"Rizwan\"\n",
    "\n",
    "# creating objects(instance)\n",
    "\n",
    "s1 = Student()\n",
    "print(s1.name)\n",
    "\n",
    "s2 =  Student()\n",
    "print(s2.name)\n"
   ]
  },
  {
   "cell_type": "code",
   "execution_count": 6,
   "id": "ca3c7cde-c0ab-4bd4-82a5-160d428d348d",
   "metadata": {},
   "outputs": [
    {
     "name": "stdout",
     "output_type": "stream",
     "text": [
      "blue\n",
      "mercedes\n"
     ]
    }
   ],
   "source": [
    "class Car:\n",
    "    color = \"blue\"\n",
    "    brand = \"mercedes\"\n",
    "car1 = Car()\n",
    "print(car1.color)\n",
    "print(car1.brand)"
   ]
  },
  {
   "cell_type": "markdown",
   "id": "e13ec58a-b34d-4c95-9502-71e16a7277b9",
   "metadata": {},
   "source": [
    "# _ _init_ _ Function\n",
    " #### Constructor\n",
    " All classes have a function called __init__(), which is always executed when the object is being\n",
    " initiated.\n",
    " ## creating class\n",
    " class Student: \n",
    " \n",
    "      def __init__( self, fullname ):\n",
    "\n",
    " self.name =  fullname\n",
    " ## creating object\n",
    " s1 =  Student( “karan” )\n",
    "\n",
    " print( s1.name ) \n",
    "\n",
    " - The self parameter is a reference to the current\n",
    " instance of the class, and is used to access variables\n",
    " that belongs to the class."
   ]
  },
  {
   "cell_type": "code",
   "execution_count": 9,
   "id": "2cddbe39-50b9-479b-9c43-0b3d4d8012e5",
   "metadata": {},
   "outputs": [
    {
     "name": "stdout",
     "output_type": "stream",
     "text": [
      "adding new student in Database\n"
     ]
    }
   ],
   "source": [
    "class Student:\n",
    "    name = \"Rizwan\"\n",
    "    def __init__(self):\n",
    "        print(\"adding new student in Database\")\n",
    "        \n",
    "s1 = Student()"
   ]
  },
  {
   "cell_type": "code",
   "execution_count": 10,
   "id": "353d5b01-4ee2-4da4-86be-d22c83aab7b2",
   "metadata": {},
   "outputs": [
    {
     "name": "stdout",
     "output_type": "stream",
     "text": [
      "<__main__.Student object at 0x0000017DF116C050>\n",
      "adding new student in Database\n"
     ]
    }
   ],
   "source": [
    "class Student:\n",
    "    name = \"Rizwan\"\n",
    "    def __init__(self):\n",
    "        print(self)\n",
    "        print(\"adding new student in Database\")\n",
    "        \n",
    "s1 = Student()"
   ]
  },
  {
   "cell_type": "code",
   "execution_count": 13,
   "id": "f868d520-137a-4e2e-9a93-a274621abb56",
   "metadata": {},
   "outputs": [
    {
     "name": "stdout",
     "output_type": "stream",
     "text": [
      "<__main__.Student object at 0x0000017DF116D6A0>\n",
      "adding new student in Database\n",
      "<__main__.Student object at 0x0000017DF116D6A0>\n"
     ]
    }
   ],
   "source": [
    "class Student:\n",
    "    name = \"Rizwan\"\n",
    "    def __init__(self):\n",
    "        print(self)\n",
    "        print(\"adding new student in Database\")\n",
    "        \n",
    "s1 = Student()\n",
    "print(s1)\n",
    "\n",
    "# nichy pata chal raha hai k self aur s1 jo object variable hai both are same thing.Because location are same."
   ]
  },
  {
   "cell_type": "code",
   "execution_count": 15,
   "id": "c01766fe-c4bc-4de0-96d5-8636e50f25f2",
   "metadata": {},
   "outputs": [
    {
     "name": "stdout",
     "output_type": "stream",
     "text": [
      "adding new student in database\n",
      "Rizwan\n",
      "adding new student in database\n",
      "Jamshed\n"
     ]
    }
   ],
   "source": [
    "# If we want to give different names to different students, we can take multiple parameters in the constructor.But after self\n",
    "\n",
    "class Student:\n",
    "    def __init__(self,fullname):\n",
    "        self.name = fullname\n",
    "        print(\"adding new student in database\")\n",
    "        \n",
    "s1 = Student(\"Rizwan\")\n",
    "print(s1.name)\n",
    "\n",
    "s2 = Student(\"Jamshed\")\n",
    "print(s2.name)"
   ]
  },
  {
   "cell_type": "code",
   "execution_count": 16,
   "id": "e56ab41b-0880-42d5-9e0d-daf4e8a849f8",
   "metadata": {},
   "outputs": [
    {
     "name": "stdout",
     "output_type": "stream",
     "text": [
      "adding new student in database\n",
      "Rizwan 98\n",
      "adding new student in database\n",
      "Jamshed 99\n"
     ]
    }
   ],
   "source": [
    "class Student:\n",
    "    def __init__(self,name,marks):\n",
    "        self.name = name\n",
    "        self.marks = marks\n",
    "        print(\"adding new student in database\")\n",
    "        \n",
    "s1 = Student(\"Rizwan\",98)\n",
    "print(s1.name, s1.marks)\n",
    "\n",
    "s2 = Student(\"Jamshed\",99)\n",
    "print(s2.name, s2.marks)"
   ]
  },
  {
   "cell_type": "code",
   "execution_count": 1,
   "id": "d6bf9fa5-0edd-4772-9ca7-b23c86f3a75e",
   "metadata": {},
   "outputs": [
    {
     "name": "stdout",
     "output_type": "stream",
     "text": [
      "adding new student in database\n",
      "Rizwan 98\n",
      "adding new student in database\n",
      "Jamshed 99\n"
     ]
    }
   ],
   "source": [
    "class Student:\n",
    "\n",
    "    # default constructor\n",
    "    def __init__(self):\n",
    "        pass\n",
    "\n",
    "    # parameterized constructor\n",
    "    def __init__(self,name,marks):\n",
    "        self.name = name\n",
    "        self.marks = marks\n",
    "        print(\"adding new student in database\")\n",
    "        \n",
    "s1 = Student(\"Rizwan\",98)\n",
    "print(s1.name, s1.marks)\n",
    "\n",
    "s2 = Student(\"Jamshed\",99)\n",
    "print(s2.name, s2.marks)"
   ]
  },
  {
   "cell_type": "code",
   "execution_count": 3,
   "id": "ed956e05-90d1-4311-b710-405dd694216a",
   "metadata": {},
   "outputs": [
    {
     "name": "stdout",
     "output_type": "stream",
     "text": [
      "adding new student in database\n",
      "Rizwan 66\n",
      "adding new student in database\n",
      "Jamshed 77\n",
      "ABC college\n",
      "ABC college\n"
     ]
    }
   ],
   "source": [
    "class Student:\n",
    "    college_name = \"ABC college\"\n",
    "\n",
    "    \n",
    "    def __init__(self,name,marks):\n",
    "        self.name = name\n",
    "        self.marks = marks\n",
    "        print(\"adding new student in database\")\n",
    "\n",
    "s1 = Student(\"Rizwan\",66)\n",
    "print(s1.name, s1.marks)\n",
    "\n",
    "s2 = Student(\"Jamshed\",77)\n",
    "print(s2.name,s2.marks)\n",
    "\n",
    "print(s2.college_name)\n",
    "print(Student.college_name)"
   ]
  },
  {
   "cell_type": "code",
   "execution_count": 4,
   "id": "2158f715-591b-4e85-996d-7f3196f0ea8c",
   "metadata": {},
   "outputs": [
    {
     "name": "stdout",
     "output_type": "stream",
     "text": [
      "adding new student in database\n",
      "Rizwan\n"
     ]
    }
   ],
   "source": [
    "class Student:\n",
    "    college_name = \"ABC college\" # class attribute\n",
    "    name = \"anonymous\" # class attribute\n",
    "    \n",
    "    def __init__(self,name,marks):\n",
    "        self.name = name # object attribute > class attribute\n",
    "        self.marks = marks # object attribute\n",
    "        print(\"adding new student in database\")\n",
    "\n",
    "s1 = Student(\"Rizwan\",66)\n",
    "print(s1.name)\n"
   ]
  },
  {
   "cell_type": "code",
   "execution_count": 7,
   "id": "b3ac55ea-767b-4cf4-8afa-af177e332ecc",
   "metadata": {},
   "outputs": [
    {
     "name": "stdout",
     "output_type": "stream",
     "text": [
      "welcome student, Rizwan\n",
      "66\n"
     ]
    }
   ],
   "source": [
    "class Student:\n",
    "    college_name = \"ABC college\"\n",
    "\n",
    "    def __init__(self,name,marks):\n",
    "        self.name = name\n",
    "        self.marks = marks\n",
    "\n",
    "    def welcome(self):\n",
    "        print(\"welcome student,\",self.name)\n",
    "\n",
    "    def get_marks(self):\n",
    "        return self.marks\n",
    "\n",
    "s1 = Student(\"Rizwan\",66)\n",
    "s1.welcome()\n",
    "print(s1.get_marks())"
   ]
  },
  {
   "cell_type": "markdown",
   "id": "bb88381e-6665-4508-8c23-ba754af345f3",
   "metadata": {},
   "source": [
    "### let's practice\n",
    "- create student class that takes name & marks of 3 subjects as arguments in constructor.Then create a method to print the average."
   ]
  },
  {
   "cell_type": "code",
   "execution_count": 2,
   "id": "6bcc8728-e1d8-4d6c-a05c-cf91701deeb1",
   "metadata": {},
   "outputs": [
    {
     "name": "stdout",
     "output_type": "stream",
     "text": [
      "hi Rizwan your avg score is: 98.0\n",
      "hi Jamshed your avg score is: 98.0\n"
     ]
    }
   ],
   "source": [
    "class Student:\n",
    "    def __init__(self,name,marks):\n",
    "        self.name = name\n",
    "        self.marks = marks\n",
    "\n",
    "    def get_avg(self):\n",
    "        sum = 0\n",
    "        for val in self.marks:\n",
    "            sum += val\n",
    "        print(\"hi\", self.name, \"your avg score is:\", sum/3)\n",
    "        \n",
    "\n",
    "s1 = Student(\"Rizwan\", [99,98,97])\n",
    "s1.get_avg()\n",
    "\n",
    "# I can directly change the value of attribute\n",
    "\n",
    "s1.name = \"Jamshed\"\n",
    "s1.get_avg()"
   ]
  },
  {
   "cell_type": "markdown",
   "id": "a3741dff-f5a5-427b-98b8-97b171ff3296",
   "metadata": {},
   "source": [
    "eg:\n",
    "\n",
    "- Charactertics eg: color, model, make_year\n",
    "- Behviors eg: start, stop"
   ]
  },
  {
   "cell_type": "code",
   "execution_count": 34,
   "id": "17beb030-aa5c-4282-b861-bdd145ae8a7c",
   "metadata": {},
   "outputs": [],
   "source": [
    "class cars():\n",
    "    def __init__(self,color,model,make_year): # constructor\n",
    "        self.color = color\n",
    "        self.model = model\n",
    "        self.make_year = make_year\n",
    "\n",
    "    def start(self): # method\n",
    "        \"\"\"\n",
    "        start object belongs to class car\n",
    "        arg: no argument\n",
    "        retur: no return\n",
    "        \"\"\"\n",
    "        print(\"car can start.\")\n",
    "\n",
    "    def stop(self): # method\n",
    "        \"\"\"\n",
    "        stop object belongs to class car\n",
    "        arg: no argument\n",
    "        retur: no return\n",
    "        \"\"\"\n",
    "        print(\"car can stop.\")"
   ]
  },
  {
   "cell_type": "code",
   "execution_count": 35,
   "id": "ab45200f-9dd0-45e3-8b58-830b7a156df2",
   "metadata": {},
   "outputs": [],
   "source": [
    "civic = cars(\"Black\",\"Honda\",2025) # class initilization / object creation"
   ]
  },
  {
   "cell_type": "code",
   "execution_count": 36,
   "id": "9fec42c6-4abf-4b5a-966c-7fd5853b1eb8",
   "metadata": {},
   "outputs": [
    {
     "name": "stdout",
     "output_type": "stream",
     "text": [
      "<class '__main__.cars'>\n"
     ]
    }
   ],
   "source": [
    "print(type(civic))"
   ]
  },
  {
   "cell_type": "code",
   "execution_count": 37,
   "id": "081f43a4-504d-42d3-85af-a4edfc6f6e03",
   "metadata": {},
   "outputs": [
    {
     "name": "stdout",
     "output_type": "stream",
     "text": [
      "car can start.\n"
     ]
    }
   ],
   "source": [
    "civic.start() # methods calling"
   ]
  },
  {
   "cell_type": "code",
   "execution_count": 38,
   "id": "ad5145cf-1359-4e6f-a4af-4c51987f73b9",
   "metadata": {},
   "outputs": [
    {
     "name": "stdout",
     "output_type": "stream",
     "text": [
      "car can stop.\n"
     ]
    }
   ],
   "source": [
    "civic.stop()"
   ]
  },
  {
   "cell_type": "code",
   "execution_count": 39,
   "id": "976e5719-39ef-40f7-9742-986d4bf04327",
   "metadata": {},
   "outputs": [
    {
     "data": {
      "text/plain": [
       "('Black', 'Honda', 2025)"
      ]
     },
     "execution_count": 39,
     "metadata": {},
     "output_type": "execute_result"
    }
   ],
   "source": [
    "civic.color, civic.model, civic.make_year"
   ]
  },
  {
   "cell_type": "markdown",
   "id": "abfa4bde-008c-47ae-baf7-4f8f3cc63a9c",
   "metadata": {},
   "source": [
    "Task: Create a class of humans that have atleast 2 attributes and methods"
   ]
  },
  {
   "cell_type": "code",
   "execution_count": 40,
   "id": "27d11f6f-e976-4451-91e5-1b056a053631",
   "metadata": {},
   "outputs": [],
   "source": [
    "class Humans():\n",
    "    def __init__(self,name,color):\n",
    "        self.name = name\n",
    "        self.color = color\n",
    "    def walk(self):\n",
    "        \"\"\"\n",
    "        this walk function belongs to Humans class\n",
    "        args: no argumnets\n",
    "        return: no return\n",
    "        \"\"\"\n",
    "        print(f'{self.name} can walk')\n",
    "\n",
    "    def speak(self):\n",
    "        \"\"\"\n",
    "        this speak function belongs to Humans class\n",
    "        args: no argumnets\n",
    "        return: no return\n",
    "        \"\"\"\n",
    "        print(f'{self.name} can speak fluently')"
   ]
  },
  {
   "cell_type": "code",
   "execution_count": 41,
   "id": "c0898915-5232-4ce0-84b5-82f21fa27b3f",
   "metadata": {},
   "outputs": [],
   "source": [
    "obj = Humans(\"Rizwan\",\"Fair\")"
   ]
  },
  {
   "cell_type": "code",
   "execution_count": 43,
   "id": "916823fc-5e80-4047-82d5-99e1edc30400",
   "metadata": {},
   "outputs": [
    {
     "data": {
      "text/plain": [
       "('Rizwan', 'Fair')"
      ]
     },
     "execution_count": 43,
     "metadata": {},
     "output_type": "execute_result"
    }
   ],
   "source": [
    "obj.name, obj.color"
   ]
  },
  {
   "cell_type": "code",
   "execution_count": 44,
   "id": "063c0a22-a24f-40b1-a852-869a99d2f2ca",
   "metadata": {},
   "outputs": [
    {
     "name": "stdout",
     "output_type": "stream",
     "text": [
      "Rizwan can speak fluently\n"
     ]
    }
   ],
   "source": [
    "obj.speak()"
   ]
  },
  {
   "cell_type": "code",
   "execution_count": 45,
   "id": "23038993-523a-4f3c-9447-11c667aeb74e",
   "metadata": {},
   "outputs": [
    {
     "name": "stdout",
     "output_type": "stream",
     "text": [
      "Rizwan can walk\n"
     ]
    }
   ],
   "source": [
    "obj.walk()"
   ]
  },
  {
   "cell_type": "code",
   "execution_count": 6,
   "id": "37699561-4e3d-45a7-9950-ac721cd4b02c",
   "metadata": {},
   "outputs": [],
   "source": [
    "class sayllani():\n",
    "    def __init__(self, campus, staff_count, courses_count):\n",
    "        self.campus = campus\n",
    "        self.staff_count = staff_count \n",
    "        self.courses_count = courses_count\n",
    "\n",
    "    def detail(self):\n",
    "        print(f\"{self.campus} have {self.staff_count} and courses are {self.courses_count}\")\n",
    "        "
   ]
  },
  {
   "cell_type": "code",
   "execution_count": 7,
   "id": "a8508eff-e004-454e-8cb6-a8272810d0f7",
   "metadata": {},
   "outputs": [],
   "source": [
    "za = sayllani(\"ZA IT park\", 10, 5)"
   ]
  },
  {
   "cell_type": "code",
   "execution_count": 8,
   "id": "4726cb62-d965-42b4-aea2-a5bf395bab30",
   "metadata": {},
   "outputs": [
    {
     "name": "stdout",
     "output_type": "stream",
     "text": [
      "ZA IT park have 10 and courses are 5\n"
     ]
    }
   ],
   "source": [
    "za.detail()"
   ]
  },
  {
   "cell_type": "code",
   "execution_count": 2,
   "id": "9caa460d-5c8c-4fd4-9afe-8c710c151535",
   "metadata": {},
   "outputs": [],
   "source": [
    "# Now we are talking about method parameter\n",
    "\n",
    "class sayllani():\n",
    "    helpline = '0900078601' # static class variable\n",
    "    obj_count = 0 # dynamic class variable\n",
    "    \n",
    "    def __init__(self, campus, staff_count, courses_count):\n",
    "        self.campus = campus\n",
    "        self.staff_count = staff_count \n",
    "        self.courses_count = courses_count\n",
    "        sayllani.obj_count += 1\n",
    "\n",
    "    def detail(self, courses):\n",
    "        print(f\"{self.campus} have {self.staff_count} and courses are {self.courses_count}\")\n",
    "        course = map(lambda x: x, courses)\n",
    "        print(*course)\n",
    "    @staticmethod \n",
    "    def facilities():\n",
    "        print(\"medical also\")\n"
   ]
  },
  {
   "cell_type": "markdown",
   "id": "abd39fae-da5b-42da-a2b7-4830f07f63f6",
   "metadata": {},
   "source": [
    "- helpline static variable hai (sab objects k liye same).\n",
    "\n",
    "- obj_count har object banne pe +1 hota hai.\n",
    "\n",
    "- detail() method campus, staff aur courses ki detail print karta hai.\n",
    "\n",
    "- facilities() ek static method hai jo bina object banaye call hota hai."
   ]
  },
  {
   "cell_type": "code",
   "execution_count": 3,
   "id": "81de9f90-63c3-4196-8c8d-558a7f1e210d",
   "metadata": {},
   "outputs": [],
   "source": [
    "za = sayllani(\"ZA IT park\", 10, 5)"
   ]
  },
  {
   "cell_type": "code",
   "execution_count": 4,
   "id": "81a12daa-8296-49e3-90b6-b6c5df68aec5",
   "metadata": {},
   "outputs": [
    {
     "name": "stdout",
     "output_type": "stream",
     "text": [
      "ZA IT park have 10 and courses are 5\n",
      "AI DE WEB\n"
     ]
    }
   ],
   "source": [
    "za.detail([\"AI\",\"DE\",\"WEB\"])"
   ]
  },
  {
   "cell_type": "code",
   "execution_count": 5,
   "id": "dd439963-1579-4451-9942-3ed1e5b860a3",
   "metadata": {},
   "outputs": [
    {
     "data": {
      "text/plain": [
       "'0900078601'"
      ]
     },
     "execution_count": 5,
     "metadata": {},
     "output_type": "execute_result"
    }
   ],
   "source": [
    "za.helpline"
   ]
  },
  {
   "cell_type": "code",
   "execution_count": 6,
   "id": "b0c9e82a-7e66-480a-ae50-705e56a29bb8",
   "metadata": {},
   "outputs": [
    {
     "data": {
      "text/plain": [
       "1"
      ]
     },
     "execution_count": 6,
     "metadata": {},
     "output_type": "execute_result"
    }
   ],
   "source": [
    "za.obj_count"
   ]
  },
  {
   "cell_type": "code",
   "execution_count": 7,
   "id": "03c6fbe6-d556-4c6b-8f2c-3cd51f403a53",
   "metadata": {},
   "outputs": [],
   "source": [
    "bahadurabad = sayllani(\"Head Office\",11,6)"
   ]
  },
  {
   "cell_type": "code",
   "execution_count": 8,
   "id": "bfb74af8-217f-426a-aafb-3ea925ea1bdf",
   "metadata": {},
   "outputs": [
    {
     "data": {
      "text/plain": [
       "2"
      ]
     },
     "execution_count": 8,
     "metadata": {},
     "output_type": "execute_result"
    }
   ],
   "source": [
    "bahadurabad.obj_count"
   ]
  },
  {
   "cell_type": "code",
   "execution_count": 11,
   "id": "064ec19b-6474-4605-9fb0-ce6d0ac34955",
   "metadata": {},
   "outputs": [
    {
     "data": {
      "text/plain": [
       "'0900078601'"
      ]
     },
     "execution_count": 11,
     "metadata": {},
     "output_type": "execute_result"
    }
   ],
   "source": [
    "bahadurabad.helpline"
   ]
  },
  {
   "cell_type": "markdown",
   "id": "5a159e80-8fab-40f4-9896-3d81c7f6e345",
   "metadata": {},
   "source": [
    "## Static Methods\n",
    " Methods that don’t use the self parameter (work at class level)\n",
    " \n",
    " class Student: \n",
    " \n",
    "     @staticmethod ==> decorator\n",
    "     \n",
    "     def college( ):\n",
    "     \n",
    "         print( “ABC College” )\n",
    " \n",
    " *Decorators allow us to wrap another function in order to\n",
    " extend the behaviour of the wrapped function, without\n",
    " permanently modifying it\n",
    " "
   ]
  },
  {
   "cell_type": "code",
   "execution_count": 10,
   "id": "cc418a28-eafc-41a8-a275-98f4d8ab9551",
   "metadata": {},
   "outputs": [
    {
     "name": "stdout",
     "output_type": "stream",
     "text": [
      "medical also\n"
     ]
    }
   ],
   "source": [
    "# @staticmethod\n",
    "\n",
    "sayllani.facilities()"
   ]
  },
  {
   "cell_type": "markdown",
   "id": "6977d87c-6952-4cab-9985-df6c54395da0",
   "metadata": {},
   "source": [
    "TASK: Create a class of cars with atleast 3 attributes and two methods such that once method should be static. Also class should have 2 class variables and one should dynamic"
   ]
  },
  {
   "cell_type": "code",
   "execution_count": 12,
   "id": "b52e9e25-407b-4f9e-8ef9-565aef567e61",
   "metadata": {},
   "outputs": [],
   "source": [
    "class Car():\n",
    "    # Class Variables\n",
    "    chasis_no = '1234567'\n",
    "    engine_type = 'Electric'\n",
    "\n",
    "    # dynamic variable\n",
    "    mileage = 0\n",
    "    \n",
    "    # initializer\n",
    "    def __init__(self, color, car_type, model_year):\n",
    "        # class attributes\n",
    "        self.color = color\n",
    "        self.car_type = car_type\n",
    "        self.model_year = model_year\n",
    "\n",
    "    # instance method\n",
    "    def details(self):\n",
    "        print(f\" Color: {self.color}, Type: {self.car_type}, Year: {self.model_year}\")\n",
    "\n",
    "    # static method\n",
    "    @staticmethod\n",
    "    def calculate_mileage(num):\n",
    "        Car.mileage += num\n",
    "        print(f\"Your car runs {Car.mileage} km\")\n",
    "        "
   ]
  },
  {
   "cell_type": "code",
   "execution_count": 13,
   "id": "ffc260a1-17f7-4b3e-859f-9a654c63a6d2",
   "metadata": {},
   "outputs": [],
   "source": [
    "swift = Car('silver', 'Hatchback', '2020')"
   ]
  },
  {
   "cell_type": "code",
   "execution_count": 14,
   "id": "702ee63e-f0f4-4f85-846b-daeb8df33ac8",
   "metadata": {},
   "outputs": [
    {
     "name": "stdout",
     "output_type": "stream",
     "text": [
      " Color: silver, Type: Hatchback, Year: 2020\n"
     ]
    }
   ],
   "source": [
    "swift.details()"
   ]
  },
  {
   "cell_type": "code",
   "execution_count": 15,
   "id": "51c9f70c-6050-4f5b-82ec-d5087ab6748f",
   "metadata": {},
   "outputs": [
    {
     "data": {
      "text/plain": [
       "0"
      ]
     },
     "execution_count": 15,
     "metadata": {},
     "output_type": "execute_result"
    }
   ],
   "source": [
    "Car.mileage"
   ]
  },
  {
   "cell_type": "code",
   "execution_count": 16,
   "id": "e9fa8ef9-9cc5-47ae-9f62-33e0e714233c",
   "metadata": {},
   "outputs": [
    {
     "data": {
      "text/plain": [
       "'Electric'"
      ]
     },
     "execution_count": 16,
     "metadata": {},
     "output_type": "execute_result"
    }
   ],
   "source": [
    "swift.engine_type"
   ]
  },
  {
   "cell_type": "code",
   "execution_count": 17,
   "id": "38963b3d-1057-42d7-b9b4-ed051d162a1d",
   "metadata": {},
   "outputs": [
    {
     "name": "stdout",
     "output_type": "stream",
     "text": [
      "Your car runs 50 km\n"
     ]
    }
   ],
   "source": [
    "\n",
    "Car.calculate_mileage(50)"
   ]
  },
  {
   "cell_type": "code",
   "execution_count": null,
   "id": "d95f3b30-936d-409c-975b-f70f935ba762",
   "metadata": {},
   "outputs": [],
   "source": []
  }
 ],
 "metadata": {
  "kernelspec": {
   "display_name": "Python 3 (ipykernel)",
   "language": "python",
   "name": "python3"
  },
  "language_info": {
   "codemirror_mode": {
    "name": "ipython",
    "version": 3
   },
   "file_extension": ".py",
   "mimetype": "text/x-python",
   "name": "python",
   "nbconvert_exporter": "python",
   "pygments_lexer": "ipython3",
   "version": "3.13.5"
  }
 },
 "nbformat": 4,
 "nbformat_minor": 5
}
