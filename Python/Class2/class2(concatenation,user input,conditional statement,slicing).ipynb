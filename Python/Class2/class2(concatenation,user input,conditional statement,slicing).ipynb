{
 "cells": [
  {
   "cell_type": "markdown",
   "id": "2f0f5740-b847-4d5a-8c00-28ecdfa0c53b",
   "metadata": {},
   "source": [
    "## Contatenation"
   ]
  },
  {
   "cell_type": "markdown",
   "id": "32b369eb-fa75-4490-be98-819f5b2cf543",
   "metadata": {},
   "source": [
    "- METHOD 1 (using + operator)\n",
    "- METHOD 2 (using f-string)\n",
    "- METHOD 3 (using .format())"
   ]
  },
  {
   "cell_type": "code",
   "execution_count": 1,
   "id": "1368a149-a7bd-4129-a80c-a0916c4f2c78",
   "metadata": {},
   "outputs": [],
   "source": [
    "str1 = \"sunlo\"\n",
    "str2 = \"dehan sy...\""
   ]
  },
  {
   "cell_type": "code",
   "execution_count": 3,
   "id": "d8fe8338-f9e8-4b31-b679-36a7007dd69d",
   "metadata": {},
   "outputs": [
    {
     "name": "stdout",
     "output_type": "stream",
     "text": [
      "sunlo dehan sy...\n"
     ]
    }
   ],
   "source": [
    "print(str1 + ' ' + str2) # method 1"
   ]
  },
  {
   "cell_type": "code",
   "execution_count": 7,
   "id": "9f86f9ac-d1ab-4403-9b98-afe4f206385b",
   "metadata": {},
   "outputs": [
    {
     "name": "stdout",
     "output_type": "stream",
     "text": [
      "acha meri baat sunlo dehan sy... ok\n"
     ]
    }
   ],
   "source": [
    "print(f\"acha meri baat {str1} {str2} ok\") # method 2"
   ]
  },
  {
   "cell_type": "code",
   "execution_count": 9,
   "id": "b644093c-6e1e-4046-b7ff-360037d27788",
   "metadata": {},
   "outputs": [
    {
     "name": "stdout",
     "output_type": "stream",
     "text": [
      "acha meri baat sunlo dehan sy... ok\n"
     ]
    }
   ],
   "source": [
    "print(\"acha meri baat {0} {1} ok\".format(str1,str2)) # method 3"
   ]
  },
  {
   "cell_type": "markdown",
   "id": "d0584ff0-9f37-4456-96f7-2bb0103094f9",
   "metadata": {},
   "source": [
    "Q: create a string using all formating methods that print your first_name and last_name with some extra added sentence that describe you."
   ]
  },
  {
   "cell_type": "code",
   "execution_count": 11,
   "id": "cc1abc93-c63f-4ca5-852d-13019ac77db6",
   "metadata": {},
   "outputs": [],
   "source": [
    "first_name = \"rizwan\"\n",
    "last_name = \"rehman\""
   ]
  },
  {
   "cell_type": "code",
   "execution_count": 19,
   "id": "1a558a33-d735-4eac-a8f9-a03cdf7a444f",
   "metadata": {},
   "outputs": [
    {
     "name": "stdout",
     "output_type": "stream",
     "text": [
      "Hi my name is rizwan rehman that's good \n"
     ]
    }
   ],
   "source": [
    "print(\"Hi my name is \" + first_name + ' ' + last_name + \" that's good \") # method1"
   ]
  },
  {
   "cell_type": "code",
   "execution_count": 16,
   "id": "ca4e0585-da75-4502-800f-bd24b82c52d8",
   "metadata": {},
   "outputs": [
    {
     "name": "stdout",
     "output_type": "stream",
     "text": [
      " hi my name is rizwan rehman thats good\n"
     ]
    }
   ],
   "source": [
    "print(f\" hi my name is {first_name} {last_name} thats good\")"
   ]
  },
  {
   "cell_type": "code",
   "execution_count": 25,
   "id": "9526f4bf-8083-420e-857f-25304a5665cf",
   "metadata": {},
   "outputs": [
    {
     "name": "stdout",
     "output_type": "stream",
     "text": [
      "hi my name is rizwan rehman thats good\n"
     ]
    }
   ],
   "source": [
    "print(\"hi my name is {0} {1} thats good\".format(first_name,last_name))"
   ]
  },
  {
   "cell_type": "markdown",
   "id": "e5c5a528-7b9f-4e22-9c69-8abb551dc4fa",
   "metadata": {},
   "source": [
    "## USER INPUT"
   ]
  },
  {
   "cell_type": "code",
   "execution_count": 27,
   "id": "eba9b5ab-aeff-4afd-b5a0-acf3c2dd61c7",
   "metadata": {},
   "outputs": [
    {
     "name": "stdin",
     "output_type": "stream",
     "text": [
      "Enter your first name :  rizwan\n"
     ]
    }
   ],
   "source": [
    "f_name = input(\"Enter your first name : \")"
   ]
  },
  {
   "cell_type": "code",
   "execution_count": 28,
   "id": "df2c07e6-5a25-4a7b-bbc9-017d5bacd5b2",
   "metadata": {},
   "outputs": [
    {
     "data": {
      "text/plain": [
       "'rizwan'"
      ]
     },
     "execution_count": 28,
     "metadata": {},
     "output_type": "execute_result"
    }
   ],
   "source": [
    "f_name"
   ]
  },
  {
   "cell_type": "raw",
   "id": "1fa42a1f-3d6f-4136-9fc1-1bd5bbb48e91",
   "metadata": {},
   "source": [
    "Note ---> by default input() returns string type."
   ]
  },
  {
   "cell_type": "code",
   "execution_count": 31,
   "id": "2f0efe0e-1c1c-42d9-bedc-5635e0c1a572",
   "metadata": {},
   "outputs": [
    {
     "name": "stdin",
     "output_type": "stream",
     "text": [
      "Enter your first age :  21\n"
     ]
    }
   ],
   "source": [
    "age = int(input(\"Enter your first age : \"))\n"
   ]
  },
  {
   "cell_type": "code",
   "execution_count": 32,
   "id": "2e49f4b7-c6f4-46c2-992b-05613c740eba",
   "metadata": {},
   "outputs": [
    {
     "data": {
      "text/plain": [
       "21"
      ]
     },
     "execution_count": 32,
     "metadata": {},
     "output_type": "execute_result"
    }
   ],
   "source": [
    "age"
   ]
  },
  {
   "cell_type": "code",
   "execution_count": 33,
   "id": "35c35f99-d49f-4c6c-8eb1-3628ca959623",
   "metadata": {},
   "outputs": [
    {
     "name": "stdin",
     "output_type": "stream",
     "text": [
      "Enter your first name :  63.5\n"
     ]
    }
   ],
   "source": [
    "weight  = float(input(\"Enter your first name : \"))\n"
   ]
  },
  {
   "cell_type": "code",
   "execution_count": 34,
   "id": "4666d170-42bc-428a-b4b3-16f3113e49fd",
   "metadata": {},
   "outputs": [
    {
     "data": {
      "text/plain": [
       "63.5"
      ]
     },
     "execution_count": 34,
     "metadata": {},
     "output_type": "execute_result"
    }
   ],
   "source": [
    "weight"
   ]
  },
  {
   "cell_type": "code",
   "execution_count": 37,
   "id": "b14be9f6-85ff-4c3c-9ab4-d21b7a3b9f11",
   "metadata": {},
   "outputs": [
    {
     "name": "stdin",
     "output_type": "stream",
     "text": [
      "Enter your first name  shaheen\n",
      "Enter your middle name  shah\n",
      "Enter your last name afridi\n"
     ]
    }
   ],
   "source": [
    "first_name = input(\"Enter your first name \")\n",
    "middle_name = input(\"Enter your middle name \")\n",
    "last_name = input(\"Enter your last name\")\n"
   ]
  },
  {
   "cell_type": "code",
   "execution_count": 41,
   "id": "75f1bf9d-5c17-4ce8-bc36-3953be6287cb",
   "metadata": {},
   "outputs": [
    {
     "name": "stdout",
     "output_type": "stream",
     "text": [
      " hi my name is shaheen shah afridi that's good \n"
     ]
    }
   ],
   "source": [
    "print(\" hi my name is \" + first_name + ' ' + middle_name + ' ' + last_name + \" that's good \")"
   ]
  },
  {
   "cell_type": "code",
   "execution_count": 44,
   "id": "f977e3de-de13-43c0-868e-a7f81d691271",
   "metadata": {},
   "outputs": [
    {
     "name": "stdout",
     "output_type": "stream",
     "text": [
      "hi my name is shaheen shah afridi that's good\n"
     ]
    }
   ],
   "source": [
    "print(f\"hi my name is {first_name} {middle_name} {last_name} that's good\")"
   ]
  },
  {
   "cell_type": "code",
   "execution_count": 45,
   "id": "fe47d040-b922-4f55-837b-56a091937c63",
   "metadata": {},
   "outputs": [
    {
     "name": "stdout",
     "output_type": "stream",
     "text": [
      "hi my name is shaheen shah afridi that's good \n"
     ]
    }
   ],
   "source": [
    "print(\"hi my name is {0} {1} {2} that's good \".format(first_name,middle_name,last_name))"
   ]
  },
  {
   "cell_type": "markdown",
   "id": "c54d6d93-b462-4f95-bfb1-97930e723d8e",
   "metadata": {},
   "source": [
    "WAP that reads a string from keyboard and display:\n",
    "- The number of uppercase letters in the string\n",
    "- The number of lowercase letters in the string\n",
    "- The number of digits in the string\n",
    "- The number of whitespace characters in the string "
   ]
  },
  {
   "cell_type": "markdown",
   "id": "10ba3bd2-74c9-4755-9b98-8e61452d6d2f",
   "metadata": {},
   "source": [
    "## Conditional statement"
   ]
  },
  {
   "cell_type": "markdown",
   "id": "b2dd3afa-47de-4634-a4c0-2ffeb7e8d977",
   "metadata": {},
   "source": [
    "- if elif else"
   ]
  },
  {
   "cell_type": "raw",
   "id": "f6281f17-368c-4ea1-8a79-64e08e10390a",
   "metadata": {},
   "source": [
    "SYNTAX\n",
    "-------\n",
    "if<condition>:\n",
    "    <body>\n",
    "else:\n",
    "    <body>"
   ]
  },
  {
   "cell_type": "code",
   "execution_count": 50,
   "id": "a2ffb1a3-b054-4d9d-a4bf-b80fa3bf41ef",
   "metadata": {},
   "outputs": [],
   "source": [
    "eid = False"
   ]
  },
  {
   "cell_type": "code",
   "execution_count": 51,
   "id": "906e92c0-8895-4f71-9c5e-31f5d127d283",
   "metadata": {},
   "outputs": [
    {
     "name": "stdout",
     "output_type": "stream",
     "text": [
      "tomorrow is working day\n"
     ]
    }
   ],
   "source": [
    "if eid:\n",
    "    print('tomorrow is holiday')\n",
    "else:\n",
    "    print('tomorrow is working day')"
   ]
  },
  {
   "cell_type": "markdown",
   "id": "0e436b5c-9628-489c-88ea-affcfd1123e6",
   "metadata": {},
   "source": [
    "Task: make a program that tell if you are eligible for certificate or not based on pass/fail"
   ]
  },
  {
   "cell_type": "markdown",
   "id": "14f5a94f-2f77-43f7-88d1-85794254cacd",
   "metadata": {},
   "source": [
    "### if-else"
   ]
  },
  {
   "cell_type": "code",
   "execution_count": 6,
   "id": "04cce15a-fbfe-494b-8415-8e74f0a6e7fc",
   "metadata": {},
   "outputs": [],
   "source": [
    "test = True"
   ]
  },
  {
   "cell_type": "code",
   "execution_count": 8,
   "id": "8713e611-f8ef-489b-ad6f-e0785c39e519",
   "metadata": {},
   "outputs": [
    {
     "name": "stdout",
     "output_type": "stream",
     "text": [
      "passed\n"
     ]
    }
   ],
   "source": [
    "if test:\n",
    "    print(\"passed\")\n",
    "else:\n",
    "    print(\"failed\")\n",
    "    "
   ]
  },
  {
   "cell_type": "markdown",
   "id": "c3c226b1-9518-48ab-9b32-d3311917820a",
   "metadata": {},
   "source": [
    "### elif"
   ]
  },
  {
   "cell_type": "code",
   "execution_count": 4,
   "id": "f48f92c3-a245-4d9c-ba18-ea85bdef5e5e",
   "metadata": {},
   "outputs": [
    {
     "name": "stdin",
     "output_type": "stream",
     "text": [
      "Enter your marks :   56\n"
     ]
    },
    {
     "name": "stdout",
     "output_type": "stream",
     "text": [
      "your grade is C\n"
     ]
    }
   ],
   "source": [
    "marks = int(input(\"Enter your marks :  \"))\n",
    "\n",
    "if marks >= 90:\n",
    "    print(\"your grade is A+\")\n",
    "elif marks >= 80:\n",
    "    print(\"your grade is A\")\n",
    "elif marks >= 70:\n",
    "    print(\"your grade is B\")\n",
    "else:\n",
    "    print(\"your grade is C\")\n"
   ]
  },
  {
   "cell_type": "markdown",
   "id": "965b758e-caca-49e2-bbb7-e7907ee64ecb",
   "metadata": {},
   "source": [
    "### nested if else:"
   ]
  },
  {
   "cell_type": "code",
   "execution_count": 8,
   "id": "d6af9f34-48fa-462d-838e-71ead09b9148",
   "metadata": {},
   "outputs": [
    {
     "name": "stdout",
     "output_type": "stream",
     "text": [
      "shop is open,have to check for rice now\n"
     ]
    },
    {
     "name": "stdin",
     "output_type": "stream",
     "text": [
      "check for rice: False\n"
     ]
    },
    {
     "name": "stdout",
     "output_type": "stream",
     "text": [
      "buy nothing\n"
     ]
    }
   ],
   "source": [
    "shop_open = True\n",
    "if shop_open:\n",
    "    print(\"shop is open,have to check for rice now\")\n",
    "    basmatic_rice = input(\"check for rice:\")\n",
    "    if basmatic_rice == \"True\":\n",
    "        print(\"buy 1kg\")\n",
    "    else:\n",
    "        print(\"buy nothing\")\n",
    "else:\n",
    "    print(\"shop is closed\")"
   ]
  },
  {
   "cell_type": "markdown",
   "id": "40bf266f-147e-4460-a2cd-0f6a52f4f308",
   "metadata": {},
   "source": [
    "WAP to check whether a person is eligible for voting or not (accept age from user) if age is greater than 17 eligible otherwise not eligible"
   ]
  },
  {
   "cell_type": "code",
   "execution_count": 21,
   "id": "a902e8c4-265d-4f92-9826-b07bc911eed0",
   "metadata": {},
   "outputs": [
    {
     "name": "stdin",
     "output_type": "stream",
     "text": [
      "enter your age 8\n"
     ]
    },
    {
     "name": "stdout",
     "output_type": "stream",
     "text": [
      "not eligible\n"
     ]
    }
   ],
   "source": [
    "age = int(input(\"enter your age\"))\n",
    "status = 'eligible'\n",
    "if age >= 17:\n",
    "    print(\"eligible\")\n",
    "else:\n",
    "    print(\"not eligible\")\n"
   ]
  },
  {
   "cell_type": "markdown",
   "id": "4b819a33-cb8e-44f2-9881-72dffd727023",
   "metadata": {},
   "source": [
    "WAP to check whether a number entered by user is even or odd."
   ]
  },
  {
   "cell_type": "code",
   "execution_count": 23,
   "id": "61b60d8a-006e-4857-a007-616e247e428c",
   "metadata": {},
   "outputs": [
    {
     "name": "stdin",
     "output_type": "stream",
     "text": [
      "Enter a number: 79\n"
     ]
    },
    {
     "name": "stdout",
     "output_type": "stream",
     "text": [
      "79 is odd\n"
     ]
    }
   ],
   "source": [
    "num = int(input(\"Enter a number:\"))\n",
    "if num % 2 == 0:\n",
    "    print(f\"{num} is even\")\n",
    "else:\n",
    "    print(f\"{num} is odd\")"
   ]
  },
  {
   "cell_type": "markdown",
   "id": "cf041d06-55b5-4f11-bc4d-dfcfb01fae32",
   "metadata": {},
   "source": [
    "WAP to display \"hello\" if a number \n",
    "entered by user is a multiple of five,otherwise print \"bye\"."
   ]
  },
  {
   "cell_type": "code",
   "execution_count": 3,
   "id": "e1714e67-7dc9-4805-adff-88279fb793cb",
   "metadata": {},
   "outputs": [
    {
     "name": "stdin",
     "output_type": "stream",
     "text": [
      "Enter a number to check: 12\n"
     ]
    },
    {
     "name": "stdout",
     "output_type": "stream",
     "text": [
      "bye\n"
     ]
    }
   ],
   "source": [
    " num = int(input(\"Enter a number to check:\"))\n",
    "if num % 5 == 0:\n",
    "    print(\"hello\")\n",
    "else:\n",
    "    print(\"bye\")"
   ]
  },
  {
   "cell_type": "markdown",
   "id": "374f26bc-a62c-4e1b-97bc-313d2e0a6dc8",
   "metadata": {},
   "source": [
    "### operators:\n",
    "- NOT\n",
    "- AND\n",
    "- OR\n"
   ]
  },
  {
   "cell_type": "code",
   "execution_count": 5,
   "id": "dbd87cc0-ddf0-4931-8467-f478666ffa3c",
   "metadata": {},
   "outputs": [
    {
     "data": {
      "text/plain": [
       "False"
      ]
     },
     "execution_count": 5,
     "metadata": {},
     "output_type": "execute_result"
    }
   ],
   "source": [
    "not True"
   ]
  },
  {
   "cell_type": "code",
   "execution_count": 6,
   "id": "575e7d04-e9bc-4539-b570-290feb3dea9a",
   "metadata": {},
   "outputs": [
    {
     "data": {
      "text/plain": [
       "True"
      ]
     },
     "execution_count": 6,
     "metadata": {},
     "output_type": "execute_result"
    }
   ],
   "source": [
    "not False"
   ]
  },
  {
   "cell_type": "code",
   "execution_count": 7,
   "id": "e1c5f37b-41e6-4485-9fd9-556cbe752397",
   "metadata": {},
   "outputs": [
    {
     "data": {
      "text/plain": [
       "True"
      ]
     },
     "execution_count": 7,
     "metadata": {},
     "output_type": "execute_result"
    }
   ],
   "source": [
    "(7>6) and (4>3)"
   ]
  },
  {
   "cell_type": "code",
   "execution_count": 8,
   "id": "bfda6f62-5f63-44c3-9144-3b5a7199cac1",
   "metadata": {},
   "outputs": [
    {
     "data": {
      "text/plain": [
       "False"
      ]
     },
     "execution_count": 8,
     "metadata": {},
     "output_type": "execute_result"
    }
   ],
   "source": [
    "(7>6) and (3>4) # in AND both conditions should be True\n"
   ]
  },
  {
   "cell_type": "code",
   "execution_count": 9,
   "id": "35661580-29a7-46d1-9a6f-4449d45f71f0",
   "metadata": {},
   "outputs": [
    {
     "data": {
      "text/plain": [
       "True"
      ]
     },
     "execution_count": 9,
     "metadata": {},
     "output_type": "execute_result"
    }
   ],
   "source": [
    "(7>6) or (4<3) # in OR atleast one condition should be True \n"
   ]
  },
  {
   "cell_type": "markdown",
   "id": "0703f901-6e33-4278-b2c4-87edafe59726",
   "metadata": {},
   "source": [
    "\n",
    "\n",
    "A school has following rules for grading system:\n",
    "- Below 25 - F\n",
    "- 25 to 45 -E\n",
    "- 45 to 50 - D\n",
    "- 50 to 60 - C\n",
    "- 60 to 80 - B\n",
    "- Above 80 - A\n",
    "\n",
    "Ask user to enter marks and print the corresponding grade."
   ]
  },
  {
   "cell_type": "code",
   "execution_count": 24,
   "id": "ddc2f799-829f-495c-8ac0-c7f18a41622a",
   "metadata": {},
   "outputs": [
    {
     "name": "stdin",
     "output_type": "stream",
     "text": [
      "Enter your marks: 79\n"
     ]
    },
    {
     "name": "stdout",
     "output_type": "stream",
     "text": [
      "your marks is 79 and grade is B\n"
     ]
    }
   ],
   "source": [
    "marks = int(input(\"Enter your marks:\"))\n",
    "\n",
    "if marks >= 0 and marks < 25:\n",
    "    print(f\"your marks is {marks} and your grade is F \")\n",
    "elif marks >= 25 and marks < 45:\n",
    "    print(f\"your marks is {marks} and your grade is E \")\n",
    "elif marks >= 45 and marks < 50:\n",
    "    print(f\"your marks is {marks} and grade is D\")\n",
    "elif marks >= 50 and marks < 60:\n",
    "    print(f\"your marks is {marks} and grade is C\")\n",
    "elif marks >= 60 and marks < 80:\n",
    "    print(f\"your marks is {marks} and grade is B\")\n",
    "elif marks >= 80 and marks <= 100:\n",
    "    print(f\"your marks is {marks} and grade is A\")\n",
    "else:\n",
    "    print(\"Invalid input\")"
   ]
  },
  {
   "cell_type": "markdown",
   "id": "4e653136-0e52-4aab-acee-5e18bda9476a",
   "metadata": {},
   "source": [
    "### SLICING\n",
    "- +ve Slicing"
   ]
  },
  {
   "cell_type": "code",
   "execution_count": 22,
   "id": "2c8f474b-e09c-4e47-ac77-1a98c0ffd6c8",
   "metadata": {},
   "outputs": [
    {
     "data": {
      "text/plain": [
       "'Rizwan'"
      ]
     },
     "execution_count": 22,
     "metadata": {},
     "output_type": "execute_result"
    }
   ],
   "source": [
    "str = \"Rizwan Rehman\"\n",
    "str[0:6]"
   ]
  },
  {
   "cell_type": "raw",
   "id": "405e2469-f043-4e20-b09d-0375d31ef744",
   "metadata": {},
   "source": [
    "NOTE: slicing always happen from first to before the last limit"
   ]
  },
  {
   "cell_type": "code",
   "execution_count": 28,
   "id": "cd0fa8a0-4319-4baa-a01b-d904f7b390f7",
   "metadata": {},
   "outputs": [
    {
     "data": {
      "text/plain": [
       "'CDE BATCH-3'"
      ]
     },
     "execution_count": 28,
     "metadata": {},
     "output_type": "execute_result"
    }
   ],
   "source": [
    "str2 = \"This is sayllani CDE BATCH-3 class\"\n",
    "str2[17:28]"
   ]
  },
  {
   "cell_type": "code",
   "execution_count": 33,
   "id": "5fb03592-8e1a-46a5-a9ba-8f33aa63d843",
   "metadata": {},
   "outputs": [
    {
     "data": {
      "text/plain": [
       "'CDE BATCH-3'"
      ]
     },
     "execution_count": 33,
     "metadata": {},
     "output_type": "execute_result"
    }
   ],
   "source": [
    "str2[-17:-6]"
   ]
  },
  {
   "cell_type": "markdown",
   "id": "38515145-a64c-4f97-81a9-0fdcecfd4686",
   "metadata": {},
   "source": [
    "### methods of String"
   ]
  },
  {
   "cell_type": "code",
   "execution_count": 36,
   "id": "8922b53e-8f6a-46e6-992a-120891d5559c",
   "metadata": {},
   "outputs": [
    {
     "data": {
      "text/plain": [
       "2"
      ]
     },
     "execution_count": 36,
     "metadata": {},
     "output_type": "execute_result"
    }
   ],
   "source": [
    "# string.count(value,start,end)\n",
    "\"rizwanrehman\".count('r')"
   ]
  },
  {
   "cell_type": "code",
   "execution_count": 37,
   "id": "80bb7414-521d-4c1f-b185-6c27ae6564a8",
   "metadata": {},
   "outputs": [
    {
     "data": {
      "text/plain": [
       "'rizwan'"
      ]
     },
     "execution_count": 37,
     "metadata": {},
     "output_type": "execute_result"
    }
   ],
   "source": [
    "\"{0}\".format(\"rizwan\")"
   ]
  },
  {
   "cell_type": "code",
   "execution_count": 38,
   "id": "83e3dae5-d0e8-4510-ac3d-dfa99a3d5c6b",
   "metadata": {},
   "outputs": [
    {
     "data": {
      "text/plain": [
       "'RIZWAN'"
      ]
     },
     "execution_count": 38,
     "metadata": {},
     "output_type": "execute_result"
    }
   ],
   "source": [
    "\"rizwan\".upper()"
   ]
  },
  {
   "cell_type": "code",
   "execution_count": 39,
   "id": "19875786-2a33-4a7e-aa69-49320da0392a",
   "metadata": {},
   "outputs": [
    {
     "data": {
      "text/plain": [
       "'rizwan'"
      ]
     },
     "execution_count": 39,
     "metadata": {},
     "output_type": "execute_result"
    }
   ],
   "source": [
    "\"rizwan\".lower()"
   ]
  },
  {
   "cell_type": "code",
   "execution_count": 3,
   "id": "36f0e535-14fa-437e-bed9-bd1781297f13",
   "metadata": {},
   "outputs": [
    {
     "data": {
      "text/plain": [
       "'Rizwan'"
      ]
     },
     "execution_count": 3,
     "metadata": {},
     "output_type": "execute_result"
    }
   ],
   "source": [
    "\"rizwan\".capitalize()"
   ]
  },
  {
   "cell_type": "code",
   "execution_count": 4,
   "id": "c47f36c5-1826-4954-858e-59c2866fdb5e",
   "metadata": {},
   "outputs": [
    {
     "data": {
      "text/plain": [
       "'Rizwan'"
      ]
     },
     "execution_count": 4,
     "metadata": {},
     "output_type": "execute_result"
    }
   ],
   "source": [
    "\"rizwan\".title()"
   ]
  },
  {
   "cell_type": "code",
   "execution_count": null,
   "id": "21e49591-4035-45f4-998d-47dbd4790da2",
   "metadata": {},
   "outputs": [],
   "source": [
    "text = \"hello world\"\n",
    "text.endswith(\"world\")"
   ]
  },
  {
   "cell_type": "code",
   "execution_count": 46,
   "id": "50cc06eb-f868-4c9f-840b-13b4f3d614a2",
   "metadata": {},
   "outputs": [
    {
     "data": {
      "text/plain": [
       "False"
      ]
     },
     "execution_count": 46,
     "metadata": {},
     "output_type": "execute_result"
    }
   ],
   "source": [
    "text.endswith(\"planet\")"
   ]
  },
  {
   "cell_type": "code",
   "execution_count": 47,
   "id": "30b1596b-a5db-4641-bc1e-bd8e3577c3ec",
   "metadata": {},
   "outputs": [
    {
     "data": {
      "text/plain": [
       "False"
      ]
     },
     "execution_count": 47,
     "metadata": {},
     "output_type": "execute_result"
    }
   ],
   "source": [
    "text.endswith(\"World\")"
   ]
  },
  {
   "cell_type": "code",
   "execution_count": 53,
   "id": "463f65cf-ce3d-4f01-b0fd-d3b7ab6c5ec1",
   "metadata": {},
   "outputs": [],
   "source": [
    "txt = \"hello rizwan\""
   ]
  },
  {
   "cell_type": "code",
   "execution_count": 55,
   "id": "1f56a9a9-8deb-45aa-aba1-2fc713ddd4dc",
   "metadata": {},
   "outputs": [
    {
     "data": {
      "text/plain": [
       "'hello taha'"
      ]
     },
     "execution_count": 55,
     "metadata": {},
     "output_type": "execute_result"
    }
   ],
   "source": [
    "txt.replace('rizwan','taha')"
   ]
  },
  {
   "cell_type": "code",
   "execution_count": null,
   "id": "88e4bc54-b19a-429a-9d03-a52b1f7c37f5",
   "metadata": {},
   "outputs": [],
   "source": []
  }
 ],
 "metadata": {
  "kernelspec": {
   "display_name": "Python 3 (ipykernel)",
   "language": "python",
   "name": "python3"
  },
  "language_info": {
   "codemirror_mode": {
    "name": "ipython",
    "version": 3
   },
   "file_extension": ".py",
   "mimetype": "text/x-python",
   "name": "python",
   "nbconvert_exporter": "python",
   "pygments_lexer": "ipython3",
   "version": "3.13.5"
  }
 },
 "nbformat": 4,
 "nbformat_minor": 5
}
