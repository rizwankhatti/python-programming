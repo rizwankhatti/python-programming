{
 "cells": [
  {
   "cell_type": "markdown",
   "id": "d00f329b-5328-4447-9a57-5f7c0375f679",
   "metadata": {},
   "source": [
    "### LIST:"
   ]
  },
  {
   "cell_type": "code",
   "execution_count": 2,
   "id": "3c002579-2d07-4591-bfca-adabb6430b36",
   "metadata": {},
   "outputs": [],
   "source": [
    "city_0 = \"Atlanta\"\n",
    "city_1 = \"Baltimore\"\n",
    "city_2 = \"Chicago\"\n",
    "city_3 = \"Denver\"\n",
    "city_4 = \"Los Angeles\"\n",
    "city_5 = \"Seattle\""
   ]
  },
  {
   "cell_type": "code",
   "execution_count": 3,
   "id": "fa41471b-050b-424f-8de7-f635d97f80db",
   "metadata": {},
   "outputs": [
    {
     "data": {
      "text/plain": [
       "(2610165978608, 2610165972464)"
      ]
     },
     "execution_count": 3,
     "metadata": {},
     "output_type": "execute_result"
    }
   ],
   "source": [
    "id(city_0),id(city_1)"
   ]
  },
  {
   "cell_type": "markdown",
   "id": "24aa5740-d781-42e9-817b-7eec43276889",
   "metadata": {},
   "source": [
    "- managing collection of values\n",
    "- slower\n",
    "- Solution: Data Structure for collection of values: List"
   ]
  },
  {
   "cell_type": "code",
   "execution_count": 1,
   "id": "14b270d6-93ce-41c0-85cc-a751f8be2fad",
   "metadata": {},
   "outputs": [
    {
     "name": "stdout",
     "output_type": "stream",
     "text": [
      "<class 'list'> 1475529864128\n"
     ]
    }
   ],
   "source": [
    "cities = [\"Atlanta\",\"Baltimore\",\"Chicago\",\"Denver\",\"Los Angeles\",\"Seattle\"]\n",
    "print(type(cities),id(cities))"
   ]
  },
  {
   "cell_type": "code",
   "execution_count": 2,
   "id": "e5e87049-9525-44e4-95fc-16ccf0dbfbaf",
   "metadata": {},
   "outputs": [],
   "source": [
    "cities.append(\"karachi\")"
   ]
  },
  {
   "cell_type": "code",
   "execution_count": 3,
   "id": "99b309e3-8d2a-4bb0-b777-e1b77812825c",
   "metadata": {},
   "outputs": [
    {
     "data": {
      "text/plain": [
       "['Atlanta',\n",
       " 'Baltimore',\n",
       " 'Chicago',\n",
       " 'Denver',\n",
       " 'Los Angeles',\n",
       " 'Seattle',\n",
       " 'karachi']"
      ]
     },
     "execution_count": 3,
     "metadata": {},
     "output_type": "execute_result"
    }
   ],
   "source": [
    "cities"
   ]
  },
  {
   "cell_type": "code",
   "execution_count": 5,
   "id": "bbe34a2f-29f5-4269-bba4-f760dc4c9439",
   "metadata": {},
   "outputs": [
    {
     "data": {
      "text/plain": [
       "1"
      ]
     },
     "execution_count": 5,
     "metadata": {},
     "output_type": "execute_result"
    }
   ],
   "source": [
    "cities.count(\"Chicago\")"
   ]
  },
  {
   "cell_type": "code",
   "execution_count": 3,
   "id": "106b8f11-f215-4262-93f3-e5156fcea121",
   "metadata": {},
   "outputs": [],
   "source": [
    "cities.extend([\"Quetta\",\"Peshawar\"])"
   ]
  },
  {
   "cell_type": "code",
   "execution_count": 7,
   "id": "abc861fa-685e-4005-9446-d1d41194163d",
   "metadata": {},
   "outputs": [
    {
     "data": {
      "text/plain": [
       "['Atlanta',\n",
       " 'Baltimore',\n",
       " 'Chicago',\n",
       " 'Denver',\n",
       " 'Los Angeles',\n",
       " 'Seattle',\n",
       " 'karachi',\n",
       " 'Quetta',\n",
       " 'Peshawar']"
      ]
     },
     "execution_count": 7,
     "metadata": {},
     "output_type": "execute_result"
    }
   ],
   "source": [
    "cities"
   ]
  },
  {
   "cell_type": "code",
   "execution_count": 8,
   "id": "7f1a1046-2695-41b3-8262-a828b6a6e1fa",
   "metadata": {},
   "outputs": [],
   "source": [
    "cities.insert(1,\"Islamabad\")"
   ]
  },
  {
   "cell_type": "code",
   "execution_count": 9,
   "id": "556109e2-6553-4789-b8ec-9f2dd224df3e",
   "metadata": {},
   "outputs": [
    {
     "data": {
      "text/plain": [
       "['Atlanta',\n",
       " 'Islamabad',\n",
       " 'Baltimore',\n",
       " 'Chicago',\n",
       " 'Denver',\n",
       " 'Los Angeles',\n",
       " 'Seattle',\n",
       " 'karachi',\n",
       " 'Quetta',\n",
       " 'Peshawar']"
      ]
     },
     "execution_count": 9,
     "metadata": {},
     "output_type": "execute_result"
    }
   ],
   "source": [
    "cities"
   ]
  },
  {
   "cell_type": "code",
   "execution_count": 10,
   "id": "b5164cad-09e9-45d7-ad41-6c6285515cf4",
   "metadata": {},
   "outputs": [
    {
     "data": {
      "text/plain": [
       "5"
      ]
     },
     "execution_count": 10,
     "metadata": {},
     "output_type": "execute_result"
    }
   ],
   "source": [
    "cities.index(\"Los Angeles\") "
   ]
  },
  {
   "cell_type": "code",
   "execution_count": 12,
   "id": "828cbd53-5d83-422f-acaf-7c3861ad8413",
   "metadata": {},
   "outputs": [
    {
     "data": {
      "text/plain": [
       "'karachi'"
      ]
     },
     "execution_count": 12,
     "metadata": {},
     "output_type": "execute_result"
    }
   ],
   "source": [
    "cities.pop(7)"
   ]
  },
  {
   "cell_type": "code",
   "execution_count": 13,
   "id": "efa3dd86-3648-47ba-a485-0f3faa1b47cb",
   "metadata": {},
   "outputs": [
    {
     "data": {
      "text/plain": [
       "['Atlanta',\n",
       " 'Islamabad',\n",
       " 'Baltimore',\n",
       " 'Chicago',\n",
       " 'Denver',\n",
       " 'Los Angeles',\n",
       " 'Seattle',\n",
       " 'Quetta',\n",
       " 'Peshawar']"
      ]
     },
     "execution_count": 13,
     "metadata": {},
     "output_type": "execute_result"
    }
   ],
   "source": [
    "cities"
   ]
  },
  {
   "cell_type": "code",
   "execution_count": 14,
   "id": "34d0dad2-e1c3-43cd-8234-7596392c14d3",
   "metadata": {},
   "outputs": [
    {
     "data": {
      "text/plain": [
       "'Peshawar'"
      ]
     },
     "execution_count": 14,
     "metadata": {},
     "output_type": "execute_result"
    }
   ],
   "source": [
    "cities.pop() # Remove and return item at index (default last)."
   ]
  },
  {
   "cell_type": "code",
   "execution_count": 15,
   "id": "80579a61-8a81-49c8-a1f5-ad5cf49d388a",
   "metadata": {},
   "outputs": [
    {
     "data": {
      "text/plain": [
       "['Atlanta',\n",
       " 'Islamabad',\n",
       " 'Baltimore',\n",
       " 'Chicago',\n",
       " 'Denver',\n",
       " 'Los Angeles',\n",
       " 'Seattle',\n",
       " 'Quetta']"
      ]
     },
     "execution_count": 15,
     "metadata": {},
     "output_type": "execute_result"
    }
   ],
   "source": [
    "cities"
   ]
  },
  {
   "cell_type": "code",
   "execution_count": 21,
   "id": "b5005d98-f57b-4fdc-abba-8695ba5ed066",
   "metadata": {},
   "outputs": [],
   "source": [
    "cities.append(\"Islamabad\")"
   ]
  },
  {
   "cell_type": "code",
   "execution_count": 22,
   "id": "c42cbf54-f4d5-401f-b470-ebd26867ed93",
   "metadata": {},
   "outputs": [
    {
     "data": {
      "text/plain": [
       "['Atlanta',\n",
       " 'Islamabad',\n",
       " 'Baltimore',\n",
       " 'Chicago',\n",
       " 'Denver',\n",
       " 'Los Angeles',\n",
       " 'Seattle',\n",
       " 'Quetta',\n",
       " 'Islamabad',\n",
       " 'Islamabad',\n",
       " 'Islamabad',\n",
       " 'Islamabad',\n",
       " 'Islamabad']"
      ]
     },
     "execution_count": 22,
     "metadata": {},
     "output_type": "execute_result"
    }
   ],
   "source": [
    "cities"
   ]
  },
  {
   "cell_type": "code",
   "execution_count": 23,
   "id": "463872ef-2938-46ee-961f-b33c39d483ab",
   "metadata": {},
   "outputs": [],
   "source": [
    "cities.remove(\"Islamabad\") # Remove first occurrence of value."
   ]
  },
  {
   "cell_type": "code",
   "execution_count": 24,
   "id": "69dbb689-36ff-46ea-82d4-e197f9c25ea6",
   "metadata": {},
   "outputs": [
    {
     "data": {
      "text/plain": [
       "['Atlanta',\n",
       " 'Baltimore',\n",
       " 'Chicago',\n",
       " 'Denver',\n",
       " 'Los Angeles',\n",
       " 'Seattle',\n",
       " 'Quetta',\n",
       " 'Islamabad',\n",
       " 'Islamabad',\n",
       " 'Islamabad',\n",
       " 'Islamabad',\n",
       " 'Islamabad']"
      ]
     },
     "execution_count": 24,
     "metadata": {},
     "output_type": "execute_result"
    }
   ],
   "source": [
    "cities"
   ]
  },
  {
   "cell_type": "code",
   "execution_count": 25,
   "id": "55590d1c-19d6-4dd1-bfeb-033086c90a1a",
   "metadata": {},
   "outputs": [],
   "source": [
    "cities.reverse()"
   ]
  },
  {
   "cell_type": "code",
   "execution_count": 26,
   "id": "392bd970-e996-48ba-8f19-fbd22578d73b",
   "metadata": {},
   "outputs": [
    {
     "data": {
      "text/plain": [
       "['Islamabad',\n",
       " 'Islamabad',\n",
       " 'Islamabad',\n",
       " 'Islamabad',\n",
       " 'Islamabad',\n",
       " 'Quetta',\n",
       " 'Seattle',\n",
       " 'Los Angeles',\n",
       " 'Denver',\n",
       " 'Chicago',\n",
       " 'Baltimore',\n",
       " 'Atlanta']"
      ]
     },
     "execution_count": 26,
     "metadata": {},
     "output_type": "execute_result"
    }
   ],
   "source": [
    "cities"
   ]
  },
  {
   "cell_type": "code",
   "execution_count": 27,
   "id": "a276a32f-9110-4658-9d8d-a3ed4cefc589",
   "metadata": {},
   "outputs": [],
   "source": [
    "cities.sort()"
   ]
  },
  {
   "cell_type": "code",
   "execution_count": 28,
   "id": "2f6f9209-af00-4cd3-a280-5e4affc6f866",
   "metadata": {},
   "outputs": [
    {
     "data": {
      "text/plain": [
       "['Atlanta',\n",
       " 'Baltimore',\n",
       " 'Chicago',\n",
       " 'Denver',\n",
       " 'Islamabad',\n",
       " 'Islamabad',\n",
       " 'Islamabad',\n",
       " 'Islamabad',\n",
       " 'Islamabad',\n",
       " 'Los Angeles',\n",
       " 'Quetta',\n",
       " 'Seattle']"
      ]
     },
     "execution_count": 28,
     "metadata": {},
     "output_type": "execute_result"
    }
   ],
   "source": [
    "cities"
   ]
  },
  {
   "cell_type": "code",
   "execution_count": 29,
   "id": "41f58d24-18e5-4504-ae84-f0c61e99aea4",
   "metadata": {},
   "outputs": [],
   "source": [
    "cities.sort(reverse=True)"
   ]
  },
  {
   "cell_type": "code",
   "execution_count": 30,
   "id": "5fe3e3ac-a7a5-452d-8cf2-a55ae9d6cb74",
   "metadata": {},
   "outputs": [
    {
     "data": {
      "text/plain": [
       "['Seattle',\n",
       " 'Quetta',\n",
       " 'Los Angeles',\n",
       " 'Islamabad',\n",
       " 'Islamabad',\n",
       " 'Islamabad',\n",
       " 'Islamabad',\n",
       " 'Islamabad',\n",
       " 'Denver',\n",
       " 'Chicago',\n",
       " 'Baltimore',\n",
       " 'Atlanta']"
      ]
     },
     "execution_count": 30,
     "metadata": {},
     "output_type": "execute_result"
    }
   ],
   "source": [
    "cities"
   ]
  },
  {
   "cell_type": "code",
   "execution_count": 31,
   "id": "4ffce35b-0314-442c-a454-b87292fa158a",
   "metadata": {},
   "outputs": [],
   "source": [
    "cities.clear() # Remove all items from list."
   ]
  },
  {
   "cell_type": "code",
   "execution_count": 32,
   "id": "f6dc3244-b1dc-4214-97c5-dd79eb257922",
   "metadata": {},
   "outputs": [
    {
     "data": {
      "text/plain": [
       "[]"
      ]
     },
     "execution_count": 32,
     "metadata": {},
     "output_type": "execute_result"
    }
   ],
   "source": [
    "cities"
   ]
  },
  {
   "cell_type": "code",
   "execution_count": null,
   "id": "096ebf45-6539-4c6d-9807-62e6ffa5831e",
   "metadata": {},
   "outputs": [],
   "source": [
    "cities.copy() # Return a shallow copy of the list."
   ]
  },
  {
   "cell_type": "code",
   "execution_count": 6,
   "id": "c1aaf651-5bd8-4656-b80d-eca62fb40dc2",
   "metadata": {},
   "outputs": [],
   "source": [
    "names = [\"rizwan\",\"taha\",\"Usman\"]"
   ]
  },
  {
   "cell_type": "code",
   "execution_count": 7,
   "id": "bf610a62-7ebd-4018-b9ba-2a93d8e29746",
   "metadata": {},
   "outputs": [],
   "source": [
    "del names[0]"
   ]
  },
  {
   "cell_type": "code",
   "execution_count": 8,
   "id": "80651c03-3bac-46f4-bfc2-57c15817abb9",
   "metadata": {},
   "outputs": [
    {
     "data": {
      "text/plain": [
       "['taha', 'Usman']"
      ]
     },
     "execution_count": 8,
     "metadata": {},
     "output_type": "execute_result"
    }
   ],
   "source": [
    "names"
   ]
  },
  {
   "cell_type": "code",
   "execution_count": 9,
   "id": "10e95f83-f694-4738-b1b7-74309d222b45",
   "metadata": {},
   "outputs": [],
   "source": [
    "bio_data = [\"Rizwan\",21,21.5,True]"
   ]
  },
  {
   "cell_type": "code",
   "execution_count": 10,
   "id": "fa1c195a-ee82-4c48-bb3c-dd53f920b374",
   "metadata": {},
   "outputs": [
    {
     "data": {
      "text/plain": [
       "['Rizwan', 21, 21.5, True]"
      ]
     },
     "execution_count": 10,
     "metadata": {},
     "output_type": "execute_result"
    }
   ],
   "source": [
    "bio_data"
   ]
  },
  {
   "cell_type": "code",
   "execution_count": 11,
   "id": "ff8e0d13-5478-4887-88a1-1a3cfae2d56f",
   "metadata": {},
   "outputs": [
    {
     "data": {
      "text/plain": [
       "4"
      ]
     },
     "execution_count": 11,
     "metadata": {},
     "output_type": "execute_result"
    }
   ],
   "source": [
    "len(bio_data)"
   ]
  },
  {
   "cell_type": "code",
   "execution_count": 23,
   "id": "cfbdfe3c-2aea-4c2c-84a0-b38145105fe2",
   "metadata": {},
   "outputs": [
    {
     "data": {
      "text/plain": [
       "['Rizwan', 21, 21.5, True, 'Rizwan', 'Rizwan', 'Rizwan', 'Rizwan']"
      ]
     },
     "execution_count": 23,
     "metadata": {},
     "output_type": "execute_result"
    }
   ],
   "source": [
    "bio_data.append('Rizwan')\n",
    "bio_data"
   ]
  },
  {
   "cell_type": "code",
   "execution_count": 24,
   "id": "c0c09305-8501-40b4-b4c8-1e3f8bcb48fb",
   "metadata": {},
   "outputs": [
    {
     "data": {
      "text/plain": [
       "['Rizwan', 21, 21.5, True]"
      ]
     },
     "execution_count": 24,
     "metadata": {},
     "output_type": "execute_result"
    }
   ],
   "source": [
    "del bio_data[4:]\n",
    "bio_data"
   ]
  },
  {
   "cell_type": "markdown",
   "id": "f356d55e-bbf3-433f-b842-811cafc8c41d",
   "metadata": {},
   "source": [
    "### TUPLES\n",
    "- immutable sequence of values"
   ]
  },
  {
   "cell_type": "code",
   "execution_count": 12,
   "id": "01813612-4d42-4c63-bd79-2d4f370e9f5b",
   "metadata": {},
   "outputs": [],
   "source": [
    "bio_data_t = tuple(bio_data)"
   ]
  },
  {
   "cell_type": "code",
   "execution_count": 13,
   "id": "d75e409b-7a00-4c40-910e-e1d91addf506",
   "metadata": {},
   "outputs": [
    {
     "data": {
      "text/plain": [
       "('Rizwan', 21, 21.5, True)"
      ]
     },
     "execution_count": 13,
     "metadata": {},
     "output_type": "execute_result"
    }
   ],
   "source": [
    "bio_data_t"
   ]
  },
  {
   "cell_type": "code",
   "execution_count": 15,
   "id": "f8c207db-a51a-43a8-b4fc-6c15785feaac",
   "metadata": {},
   "outputs": [
    {
     "ename": "TypeError",
     "evalue": "'tuple' object does not support item assignment",
     "output_type": "error",
     "traceback": [
      "\u001b[1;31m---------------------------------------------------------------------------\u001b[0m",
      "\u001b[1;31mTypeError\u001b[0m                                 Traceback (most recent call last)",
      "Cell \u001b[1;32mIn[15], line 1\u001b[0m\n\u001b[1;32m----> 1\u001b[0m bio_data_t[\u001b[38;5;241m3\u001b[39m] \u001b[38;5;241m=\u001b[39m \u001b[38;5;124m'\u001b[39m\u001b[38;5;124m1234556677\u001b[39m\u001b[38;5;124m'\u001b[39m\n",
      "\u001b[1;31mTypeError\u001b[0m: 'tuple' object does not support item assignment"
     ]
    }
   ],
   "source": [
    "bio_data_t[3] = '1234556677'"
   ]
  },
  {
   "cell_type": "code",
   "execution_count": 17,
   "id": "528dc1ad-8b5f-48ba-af5e-9f50cf4909ff",
   "metadata": {},
   "outputs": [
    {
     "data": {
      "text/plain": [
       "1"
      ]
     },
     "execution_count": 17,
     "metadata": {},
     "output_type": "execute_result"
    }
   ],
   "source": [
    "bio_data_t.count('Rizwan')"
   ]
  },
  {
   "cell_type": "code",
   "execution_count": 18,
   "id": "bd3a4f1d-c737-496b-89c3-1c812ce7ed85",
   "metadata": {},
   "outputs": [
    {
     "data": {
      "text/plain": [
       "2"
      ]
     },
     "execution_count": 18,
     "metadata": {},
     "output_type": "execute_result"
    }
   ],
   "source": [
    "bio_data_t.index(21.5)"
   ]
  },
  {
   "cell_type": "code",
   "execution_count": 26,
   "id": "eab1e59d-ddd4-4637-9142-ff6b925242c4",
   "metadata": {},
   "outputs": [],
   "source": [
    "bio_data = list(bio_data_t)"
   ]
  },
  {
   "cell_type": "code",
   "execution_count": 27,
   "id": "ed05c271-01af-483d-bf03-d6a023412a5a",
   "metadata": {},
   "outputs": [
    {
     "data": {
      "text/plain": [
       "['Rizwan', 21, 21.5, True]"
      ]
     },
     "execution_count": 27,
     "metadata": {},
     "output_type": "execute_result"
    }
   ],
   "source": [
    "bio_data"
   ]
  },
  {
   "cell_type": "markdown",
   "id": "7e7df8e4-de89-425c-9224-56aaf5df19fc",
   "metadata": {},
   "source": [
    "### SET"
   ]
  },
  {
   "cell_type": "code",
   "execution_count": 28,
   "id": "39b064da-50d1-42a6-a359-f6cc2e183495",
   "metadata": {},
   "outputs": [],
   "source": [
    "name_list = [\"Rizwan\",\"Rizwan\",\"aiwithrizwan\"]"
   ]
  },
  {
   "cell_type": "code",
   "execution_count": 29,
   "id": "043705d2-9d5a-4d36-961f-1c1ccdb636df",
   "metadata": {},
   "outputs": [
    {
     "data": {
      "text/plain": [
       "['Rizwan', 'Rizwan', 'aiwithrizwan']"
      ]
     },
     "execution_count": 29,
     "metadata": {},
     "output_type": "execute_result"
    }
   ],
   "source": [
    "name_list"
   ]
  },
  {
   "cell_type": "code",
   "execution_count": 30,
   "id": "0b9c235a-cefc-4709-bcb4-85038bf291f4",
   "metadata": {},
   "outputs": [],
   "source": [
    "name_set = set(name_list)"
   ]
  },
  {
   "cell_type": "code",
   "execution_count": 31,
   "id": "ba7493c0-1c32-47fa-9e0b-0217e28ec3e4",
   "metadata": {},
   "outputs": [
    {
     "data": {
      "text/plain": [
       "{'Rizwan', 'aiwithrizwan'}"
      ]
     },
     "execution_count": 31,
     "metadata": {},
     "output_type": "execute_result"
    }
   ],
   "source": [
    "name_set"
   ]
  },
  {
   "cell_type": "code",
   "execution_count": 60,
   "id": "42163575-e328-436e-9ee3-df189b430d70",
   "metadata": {},
   "outputs": [],
   "source": [
    "set_a = {'a','b'}\n",
    "set_b = {'c','d'}\n",
    "universal_set = {'a','b','c','d'}\n"
   ]
  },
  {
   "cell_type": "code",
   "execution_count": 61,
   "id": "7ce276f6-20d1-4824-a8cb-454f2f6d2525",
   "metadata": {},
   "outputs": [
    {
     "data": {
      "text/plain": [
       "{'a', 'b'}"
      ]
     },
     "execution_count": 61,
     "metadata": {},
     "output_type": "execute_result"
    }
   ],
   "source": [
    "universal_set.intersection(set_a)"
   ]
  },
  {
   "cell_type": "code",
   "execution_count": 62,
   "id": "471d868c-b8b1-4d05-9c9e-49a14c340b13",
   "metadata": {},
   "outputs": [
    {
     "data": {
      "text/plain": [
       "{'a', 'b', 'c', 'd'}"
      ]
     },
     "execution_count": 62,
     "metadata": {},
     "output_type": "execute_result"
    }
   ],
   "source": [
    "universal_set.union(set_a)"
   ]
  },
  {
   "cell_type": "code",
   "execution_count": 63,
   "id": "2d7f9d07-badb-4572-9b78-0b965b2d8d03",
   "metadata": {},
   "outputs": [],
   "source": [
    "universal_set.add('a') # NOTE support different datatype"
   ]
  },
  {
   "cell_type": "code",
   "execution_count": 64,
   "id": "622cb0ec-d898-42bb-900d-987b733e3f00",
   "metadata": {},
   "outputs": [],
   "source": [
    "universal_set.remove('d')"
   ]
  },
  {
   "cell_type": "code",
   "execution_count": 65,
   "id": "7c247367-318f-48a1-bf1d-f7a5cdfd0c6a",
   "metadata": {},
   "outputs": [
    {
     "data": {
      "text/plain": [
       "{'a', 'b', 'c'}"
      ]
     },
     "execution_count": 65,
     "metadata": {},
     "output_type": "execute_result"
    }
   ],
   "source": [
    "universal_set"
   ]
  },
  {
   "cell_type": "code",
   "execution_count": 66,
   "id": "51cef305-ef3a-4816-b889-e6cb42c64a13",
   "metadata": {},
   "outputs": [
    {
     "data": {
      "text/plain": [
       "'a'"
      ]
     },
     "execution_count": 66,
     "metadata": {},
     "output_type": "execute_result"
    }
   ],
   "source": [
    "universal_set.pop()\n"
   ]
  },
  {
   "cell_type": "code",
   "execution_count": 67,
   "id": "d320e2a1-c093-4dd4-bf9f-3dafac8b88f8",
   "metadata": {},
   "outputs": [],
   "source": [
    "universal_set.update('e') # NOTE doesn't support different data type"
   ]
  },
  {
   "cell_type": "code",
   "execution_count": 68,
   "id": "34308d7a-522e-4c35-a205-e8a77fc10a6c",
   "metadata": {},
   "outputs": [
    {
     "data": {
      "text/plain": [
       "{'b', 'c', 'e'}"
      ]
     },
     "execution_count": 68,
     "metadata": {},
     "output_type": "execute_result"
    }
   ],
   "source": [
    "universal_set"
   ]
  },
  {
   "cell_type": "code",
   "execution_count": 69,
   "id": "c5faba57-38fe-444f-ab50-751426870544",
   "metadata": {},
   "outputs": [
    {
     "data": {
      "text/plain": [
       "{'c', 'e'}"
      ]
     },
     "execution_count": 69,
     "metadata": {},
     "output_type": "execute_result"
    }
   ],
   "source": [
    "universal_set.difference(set_a)"
   ]
  },
  {
   "cell_type": "code",
   "execution_count": 70,
   "id": "7685dbe6-657c-40bd-9794-b790b94cb341",
   "metadata": {},
   "outputs": [],
   "source": [
    "universal_set.discard('e')"
   ]
  },
  {
   "cell_type": "code",
   "execution_count": 71,
   "id": "c8395b69-f41a-4543-aff0-c607adae1fe6",
   "metadata": {},
   "outputs": [
    {
     "data": {
      "text/plain": [
       "{'b', 'c'}"
      ]
     },
     "execution_count": 71,
     "metadata": {},
     "output_type": "execute_result"
    }
   ],
   "source": [
    "universal_set"
   ]
  },
  {
   "cell_type": "code",
   "execution_count": 74,
   "id": "2f281909-d457-418c-8cae-3c1372fa6a37",
   "metadata": {},
   "outputs": [],
   "source": [
    "universal_set.update([21]) # update ka method iterable input leta hai jesy list k andr extend ka method leta hai"
   ]
  },
  {
   "cell_type": "code",
   "execution_count": 75,
   "id": "a5f236e5-f2e1-4c61-99f8-7e01da519898",
   "metadata": {},
   "outputs": [
    {
     "data": {
      "text/plain": [
       "{21, 'b', 'c'}"
      ]
     },
     "execution_count": 75,
     "metadata": {},
     "output_type": "execute_result"
    }
   ],
   "source": [
    "universal_set"
   ]
  },
  {
   "cell_type": "code",
   "execution_count": 77,
   "id": "cd2d0e34-7019-4ee3-8785-dd4ea552bd3f",
   "metadata": {},
   "outputs": [],
   "source": [
    "universal_set.clear()"
   ]
  },
  {
   "cell_type": "code",
   "execution_count": 78,
   "id": "9ff191cb-a89c-4f3e-9edf-a7a9dc60bb35",
   "metadata": {},
   "outputs": [
    {
     "data": {
      "text/plain": [
       "set()"
      ]
     },
     "execution_count": 78,
     "metadata": {},
     "output_type": "execute_result"
    }
   ],
   "source": [
    "universal_set"
   ]
  },
  {
   "cell_type": "code",
   "execution_count": null,
   "id": "1db7bd00-29b0-465e-861b-504c3dcc536c",
   "metadata": {},
   "outputs": [],
   "source": []
  }
 ],
 "metadata": {
  "kernelspec": {
   "display_name": "Python 3 (ipykernel)",
   "language": "python",
   "name": "python3"
  },
  "language_info": {
   "codemirror_mode": {
    "name": "ipython",
    "version": 3
   },
   "file_extension": ".py",
   "mimetype": "text/x-python",
   "name": "python",
   "nbconvert_exporter": "python",
   "pygments_lexer": "ipython3",
   "version": "3.13.5"
  }
 },
 "nbformat": 4,
 "nbformat_minor": 5
}
