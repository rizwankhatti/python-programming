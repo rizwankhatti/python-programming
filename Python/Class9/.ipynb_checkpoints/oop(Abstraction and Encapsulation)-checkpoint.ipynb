{
 "cells": [
  {
   "cell_type": "markdown",
   "id": "da6e6437-18b1-4d59-b244-b858db4786a4",
   "metadata": {},
   "source": [
    "## Abstraction\n",
    "\n",
    "- The concept of hiding the complex reality while exposing only the necessary parts. It helps to reduce programming complexity and effort.\n",
    "- A class that consists of one or more abstract method is called the abstract clas.-\n",
    "\n",
    "Abstract methods do not contain their implementato- n.\n",
    "\n",
    "Abstract class can be inherited by the subclass and abstract method gets its definition in the subl- ass.\n",
    "\n",
    "Abstraction classes are meant to be the blueprint of the othe - class.\n",
    "\n",
    "An abstract class can be useful when we are designing large u- nctions.\n",
    "\n",
    "An abstract class is also helpful to provide the standard interface for different implementations of c`omponents.\n",
    "\n",
    "NOTE: Python provides the abc module to use the abstraction in the `ython program.\n",
    "\n",
    "Let's see the fllowing syntax.`"
   ]
  },
  {
   "cell_type": "code",
   "execution_count": null,
   "id": "ccdc25ad-8b0e-47fe-bf91-74fba60d8e4b",
   "metadata": {},
   "outputs": [],
   "source": []
  }
 ],
 "metadata": {
  "kernelspec": {
   "display_name": "Python 3 (ipykernel)",
   "language": "python",
   "name": "python3"
  },
  "language_info": {
   "codemirror_mode": {
    "name": "ipython",
    "version": 3
   },
   "file_extension": ".py",
   "mimetype": "text/x-python",
   "name": "python",
   "nbconvert_exporter": "python",
   "pygments_lexer": "ipython3",
   "version": "3.13.5"
  }
 },
 "nbformat": 4,
 "nbformat_minor": 5
}
