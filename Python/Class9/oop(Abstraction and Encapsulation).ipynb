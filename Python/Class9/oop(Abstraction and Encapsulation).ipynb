{
 "cells": [
  {
   "cell_type": "markdown",
   "id": "da6e6437-18b1-4d59-b244-b858db4786a4",
   "metadata": {},
   "source": [
    "## Abstraction\n",
    "  \n",
    "- The concept of hiding the complex reality while exposing only the necessary parts. It helps to reduce programming complexity and effort.\n",
    "\n",
    "- A class that consists of one or more abstract method is called the abstract clas.-\n",
    "\n",
    "Abstract methods do not contain their implementato- n.\n",
    "\n",
    "Abstract class can be inherited by the subclass and abstract method gets its definition in the subl- ass.\n",
    "\n",
    "Abstraction classes are meant to be the blueprint of the othe - class.\n",
    "\n",
    "An abstract class can be useful when we are designing large u- nctions.\n",
    "\n",
    "An abstract class is also helpful to provide the standard interface for different implementations of c`omponents.\n",
    "\n",
    "NOTE: Python provides the abc module to use the abstraction in the `ython program.\n",
    "\n",
    "Let's see the fllowing syntax.`"
   ]
  },
  {
   "cell_type": "code",
   "execution_count": 1,
   "id": "ccdc25ad-8b0e-47fe-bf91-74fba60d8e4b",
   "metadata": {},
   "outputs": [],
   "source": [
    "# Abstract class\n",
    "class shapes():\n",
    "\n",
    "    # Abstract method\n",
    "    def sides(self):\n",
    "        pass"
   ]
  },
  {
   "cell_type": "code",
   "execution_count": 2,
   "id": "95ca7e05-7544-4d8b-9366-81cc7e7b9478",
   "metadata": {},
   "outputs": [],
   "source": [
    "class square(shapes): \n",
    "\n",
    "    # functionality here\n",
    "    def sides(self):\n",
    "        print(\"square has 4 sides\")"
   ]
  },
  {
   "cell_type": "code",
   "execution_count": 13,
   "id": "2d3aaf1b-f189-402e-a7bb-9563edf2d487",
   "metadata": {},
   "outputs": [
    {
     "name": "stdout",
     "output_type": "stream",
     "text": [
      "square has 4 sides\n"
     ]
    }
   ],
   "source": [
    "sq_obj = square()\n",
    "sq_obj.sides()"
   ]
  },
  {
   "cell_type": "code",
   "execution_count": 11,
   "id": "e32a6bd7-9f80-427d-b308-8890a9b51aff",
   "metadata": {},
   "outputs": [],
   "source": [
    "class circle(shapes):\n",
    "\n",
    "    # functionality here\n",
    "    def sides(self):\n",
    "        print(\"circle has no side\")"
   ]
  },
  {
   "cell_type": "code",
   "execution_count": 12,
   "id": "4067e453-33a9-4825-8b64-f2dfc6211270",
   "metadata": {},
   "outputs": [
    {
     "name": "stdout",
     "output_type": "stream",
     "text": [
      "circle has no side\n"
     ]
    }
   ],
   "source": [
    "ci_obj = circle()\n",
    "ci_obj.sides()"
   ]
  },
  {
   "cell_type": "markdown",
   "id": "185ad642-8442-4966-9214-4a097e1fee89",
   "metadata": {},
   "source": [
    "## Apna college"
   ]
  },
  {
   "cell_type": "markdown",
   "id": "a4e6f8c7-0312-4acc-96c3-fc679a5dfec1",
   "metadata": {},
   "source": [
    "### Abstarction\n",
    "- Hiding the implementation details of a class and only showing the essential features to the user."
   ]
  },
  {
   "cell_type": "code",
   "execution_count": 1,
   "id": "47441a9c-4acf-4213-8392-27ef6810602f",
   "metadata": {},
   "outputs": [
    {
     "name": "stdout",
     "output_type": "stream",
     "text": [
      "car started..\n"
     ]
    }
   ],
   "source": [
    "class Car:\n",
    "    def __init__(self):\n",
    "        self.acc = False # unnessary step/detail hide\n",
    "        self.brk = False\n",
    "        self.clutch = False\n",
    "    def start(self):\n",
    "        self.clutch = True # unnessary step/detail hide\n",
    "        self.acc = True\n",
    "        print(\"car started..\")\n",
    "\n",
    "car1 = Car()\n",
    "car1.start()"
   ]
  },
  {
   "cell_type": "markdown",
   "id": "302b9a0a-cb8a-4763-9e45-536c268d99cd",
   "metadata": {},
   "source": [
    "### Encapsulation\n",
    "-  Wrapping data and functions into a single unit (object)."
   ]
  },
  {
   "cell_type": "code",
   "execution_count": 2,
   "id": "3b35cae0-d7f8-4e14-af4c-1df5bdc852a2",
   "metadata": {},
   "outputs": [],
   "source": [
    "class saylani():\n",
    "    def __init__(self):\n",
    "        self.helpline = \"786\" #public\n",
    "        self._batch = \"Python\" # protected\n",
    "        self.__result = \"70%\" #private"
   ]
  },
  {
   "cell_type": "code",
   "execution_count": 3,
   "id": "ff5759a6-09a3-4bbe-92e1-24a8a2226596",
   "metadata": {},
   "outputs": [
    {
     "data": {
      "text/plain": [
       "'786'"
      ]
     },
     "execution_count": 3,
     "metadata": {},
     "output_type": "execute_result"
    }
   ],
   "source": [
    "sa_obj = saylani()\n",
    "sa_obj.helpline"
   ]
  },
  {
   "cell_type": "code",
   "execution_count": 4,
   "id": "8a101257-86f8-419f-8b73-61ff77347dcc",
   "metadata": {},
   "outputs": [
    {
     "data": {
      "text/plain": [
       "'Python'"
      ]
     },
     "execution_count": 4,
     "metadata": {},
     "output_type": "execute_result"
    }
   ],
   "source": [
    "sa_obj._batch"
   ]
  },
  {
   "cell_type": "code",
   "execution_count": 5,
   "id": "dd5e265f-b957-4fb5-96cc-ae12f335379d",
   "metadata": {},
   "outputs": [
    {
     "data": {
      "text/plain": [
       "'70%'"
      ]
     },
     "execution_count": 5,
     "metadata": {},
     "output_type": "execute_result"
    }
   ],
   "source": [
    "sa_obj._saylani__result"
   ]
  },
  {
   "cell_type": "markdown",
   "id": "1ba8cd30-f3c6-458b-8932-e1d09f38a408",
   "metadata": {},
   "source": [
    "### TASK1:\n",
    "- create three public, protected and private methods like we did for attributes"
   ]
  },
  {
   "cell_type": "code",
   "execution_count": 6,
   "id": "aee1f065-9da2-4cc4-b19c-09415281df7b",
   "metadata": {},
   "outputs": [],
   "source": [
    "class Account():\n",
    "    # init\n",
    "    def __init__(self):\n",
    "        pass\n",
    "\n",
    "        # public method\n",
    "    def fetch_account_title(self):\n",
    "        return \"Arsalan\"\n",
    "\n",
    "        # protected method\n",
    "    def _fetch_account_no(self):\n",
    "        return \"82347959834759\"\n",
    "\n",
    "        # private method\n",
    "    def __fetch_account_balance(self):\n",
    "        return \"600\"\n",
    "\n",
    "# object initialize\n",
    "account_obj = Account()"
   ]
  },
  {
   "cell_type": "code",
   "execution_count": 7,
   "id": "3972dffb-bd45-4392-9ea8-78bb8df9ca5f",
   "metadata": {},
   "outputs": [
    {
     "data": {
      "text/plain": [
       "'Arsalan'"
      ]
     },
     "execution_count": 7,
     "metadata": {},
     "output_type": "execute_result"
    }
   ],
   "source": [
    "account_obj.fetch_account_title()"
   ]
  },
  {
   "cell_type": "code",
   "execution_count": 8,
   "id": "5dd880e5-1ca7-4fa5-97f9-fbbd18285bca",
   "metadata": {},
   "outputs": [
    {
     "data": {
      "text/plain": [
       "'82347959834759'"
      ]
     },
     "execution_count": 8,
     "metadata": {},
     "output_type": "execute_result"
    }
   ],
   "source": [
    "account_obj._fetch_account_no()"
   ]
  },
  {
   "cell_type": "code",
   "execution_count": 10,
   "id": "cfe761e3-6337-4046-8c41-d4847d7d8ef9",
   "metadata": {},
   "outputs": [
    {
     "data": {
      "text/plain": [
       "'600'"
      ]
     },
     "execution_count": 10,
     "metadata": {},
     "output_type": "execute_result"
    }
   ],
   "source": [
    "account_obj._Account__fetch_account_balance()"
   ]
  },
  {
   "cell_type": "markdown",
   "id": "329f4019-5cd6-4f65-9f5c-7e4390ea0894",
   "metadata": {},
   "source": [
    "### TASK2:\n",
    "- use encapsulation for class i:e., StudentLogin():\n",
    "- initialize two static but private attributes i:e., __user_name, __password\n",
    "- create one private methods i:e., name __dbconectivity() that will validate you username & password. if both are valid then should print \"valid user\" otherwise \"not valid\"\n",
    "- create one public methods i:e., update password & it should update your private password"
   ]
  },
  {
   "cell_type": "code",
   "execution_count": 12,
   "id": "783ba4a0-ebd9-4b68-9436-b9290afb80c1",
   "metadata": {},
   "outputs": [],
   "source": [
    "class StudentLogin():\n",
    "\n",
    "    # initializer\n",
    "    def __init__(self):\n",
    "        self.__user_name = \"Arsalan\"\n",
    "        self.__password = \"123456\"\n",
    "\n",
    "    # private method\n",
    "    def __dbconnectivity(self, username, password):\n",
    "        if (self.__user_name == username and self.__password == password):\n",
    "            print('valid user')\n",
    "        else:\n",
    "            print('not valid')\n",
    "\n",
    "        # public method: use to abstract db connection\n",
    "    def login(self, username, password):\n",
    "        self.__dbconnectivity(username, password)\n",
    "\n",
    "        # public method\n",
    "    def update_password(self, password):\n",
    "        self.__password = password\n",
    "        print('password update successfully!')"
   ]
  },
  {
   "cell_type": "code",
   "execution_count": 13,
   "id": "892545c0-7db9-45db-b595-70d64a460a02",
   "metadata": {},
   "outputs": [],
   "source": [
    "student_obj = StudentLogin()"
   ]
  },
  {
   "cell_type": "code",
   "execution_count": 14,
   "id": "85b825b4-146a-426e-913e-706a398c06e6",
   "metadata": {},
   "outputs": [
    {
     "name": "stdout",
     "output_type": "stream",
     "text": [
      "not valid\n"
     ]
    }
   ],
   "source": [
    "student_obj.login(\"ali\", \"3458346\")"
   ]
  },
  {
   "cell_type": "code",
   "execution_count": 15,
   "id": "7b674af3-8a42-43e2-9dbb-06c555b2896a",
   "metadata": {},
   "outputs": [
    {
     "name": "stdout",
     "output_type": "stream",
     "text": [
      "valid user\n"
     ]
    }
   ],
   "source": [
    "student_obj.login(\"Arsalan\", \"123456\")"
   ]
  },
  {
   "cell_type": "code",
   "execution_count": 16,
   "id": "e7d58c79-3e40-41a4-bd02-07d6e300c99f",
   "metadata": {},
   "outputs": [
    {
     "name": "stdout",
     "output_type": "stream",
     "text": [
      "password update successfully!\n"
     ]
    }
   ],
   "source": [
    "student_obj.update_password(\"98765\")"
   ]
  },
  {
   "cell_type": "code",
   "execution_count": null,
   "id": "6bc82329-a488-4426-84fa-897bf6a06ad6",
   "metadata": {},
   "outputs": [],
   "source": [
    "student_obj.login(\"Arsalan\", \"123456\")"
   ]
  },
  {
   "cell_type": "code",
   "execution_count": null,
   "id": "25bdbffa-9d92-4874-82a1-aae2929b8c0b",
   "metadata": {},
   "outputs": [],
   "source": []
  },
  {
   "cell_type": "markdown",
   "id": "ba9e4e6b-feca-4f22-819c-ef121a5b4d9b",
   "metadata": {},
   "source": [
    "## Let‘s Practice\n",
    "- Create Account class with 2 attributes - balance & account no. \n",
    "Create methods for debit, credit & printing the balance."
   ]
  },
  {
   "cell_type": "code",
   "execution_count": 67,
   "id": "b8055fd7-bd6e-42e4-9e2e-df279c0874e5",
   "metadata": {},
   "outputs": [],
   "source": [
    "class Account:\n",
    "    def __init__(self, bal, acc):\n",
    "        self.balance = bal\n",
    "        self.account_no = acc\n",
    "\n",
    "    def debit(self, amount):\n",
    "        self.balance -= amount\n",
    "        print(\"Rs.\", amount, \"was debitted\")\n",
    "        print(\"total balance = \", self.get_balance()) # hamara jo internally method {get_balance} tha ussi ko call kr k jub bhi amount debit ya credit hogi tw hum apna final balance print krwa lyn g\n",
    "\n",
    "    def credit(self, amount):\n",
    "        self.balance += amount\n",
    "        print(\"Rs.\", amount, \"was creditted\")\n",
    "        print(\"total balance = \", self.get_balance())\n",
    "\n",
    "    def get_balance(self):\n",
    "        return self.balance\n"
   ]
  },
  {
   "cell_type": "code",
   "execution_count": 68,
   "id": "a6430055-a73f-47b7-809c-8b51de330711",
   "metadata": {},
   "outputs": [
    {
     "name": "stdout",
     "output_type": "stream",
     "text": [
      "10000\n",
      "12345\n"
     ]
    }
   ],
   "source": [
    "acc1 = Account(10000,12345)\n",
    "print(acc1.balance)\n",
    "print(acc1.account_no)"
   ]
  },
  {
   "cell_type": "code",
   "execution_count": 69,
   "id": "d7011909-a7bf-4cbe-b27d-03d5ebccf6b5",
   "metadata": {},
   "outputs": [
    {
     "name": "stdout",
     "output_type": "stream",
     "text": [
      "Rs. 1000 was debitted\n",
      "total balance =  9000\n",
      "Rs. 500 was creditted\n",
      "total balance =  9500\n",
      "Rs. 40000 was creditted\n",
      "total balance =  49500\n",
      "Rs. 10000 was debitted\n",
      "total balance =  39500\n"
     ]
    }
   ],
   "source": [
    "\n",
    "acc1.debit(1000)\n",
    "acc1.credit(500)\n",
    "acc1.credit(40000) # salary credit at the end of the month\n",
    "acc1.debit(10000) # pay the house rent\n"
   ]
  },
  {
   "cell_type": "markdown",
   "id": "697fc58a-f64e-467d-850a-f94d6dd5c257",
   "metadata": {},
   "source": [
    "## Del keyword\n",
    "- used to delete object properties or object itself"
   ]
  },
  {
   "cell_type": "code",
   "execution_count": 3,
   "id": "df631c71-b01b-4847-b251-04d65c242365",
   "metadata": {},
   "outputs": [
    {
     "name": "stdout",
     "output_type": "stream",
     "text": [
      "Rizwan\n"
     ]
    },
    {
     "ename": "AttributeError",
     "evalue": "'Student' object has no attribute 'name'",
     "output_type": "error",
     "traceback": [
      "\u001b[1;31m---------------------------------------------------------------------------\u001b[0m",
      "\u001b[1;31mAttributeError\u001b[0m                            Traceback (most recent call last)",
      "Cell \u001b[1;32mIn[3], line 9\u001b[0m\n\u001b[0;32m      7\u001b[0m \u001b[38;5;28mprint\u001b[39m(s1\u001b[38;5;241m.\u001b[39mname)\n\u001b[0;32m      8\u001b[0m \u001b[38;5;28;01mdel\u001b[39;00m s1\u001b[38;5;241m.\u001b[39mname\n\u001b[1;32m----> 9\u001b[0m \u001b[38;5;28mprint\u001b[39m(s1\u001b[38;5;241m.\u001b[39mname)\n",
      "\u001b[1;31mAttributeError\u001b[0m: 'Student' object has no attribute 'name'"
     ]
    }
   ],
   "source": [
    "class Student:\n",
    "    def __init__(self, name):\n",
    "        self.name = name\n",
    "\n",
    "s1 = Student(\"Rizwan\")\n",
    "\n",
    "print(s1.name)\n",
    "del s1.name\n",
    "print(s1.name)"
   ]
  },
  {
   "cell_type": "markdown",
   "id": "0ae67c91-13dd-4e10-8259-196963d05750",
   "metadata": {},
   "source": [
    "## Private(like) attributes and methods\n",
    "### Conceptual inplementation in python\n",
    "- private attributes and methods are meant to be used only within the class and are not accessible from outside the class\n",
    "- kisi bhi attribute ko private banany k liye hum usky agy do underscore laga dety hain tw wo attribute private ho jata hai ab ussy hum class k bhr access nahi kr sakty"
   ]
  },
  {
   "cell_type": "code",
   "execution_count": 8,
   "id": "8ec3c583-ffe5-49ed-bba6-b6eefe66b1f9",
   "metadata": {},
   "outputs": [
    {
     "name": "stdout",
     "output_type": "stream",
     "text": [
      "12345\n",
      "abcde\n"
     ]
    }
   ],
   "source": [
    "class Acount:\n",
    "    \n",
    "    def __init__(self, acc_no, acc_pass):\n",
    "        self.acc_no = acc_no\n",
    "        self.acc_pass = acc_pass\n",
    "\n",
    "acc1 = Acount(\"12345\", \"abcde\")\n",
    "\n",
    "print(acc1.acc_no)\n",
    "print(acc1.acc_pass)\n",
    "\n",
    "# ye ik bed practice hai qk acc_passward ik aysi chiz hai jis ko is Acoount class k bhr nahi pass krna chaiyai qk jo bhi chiz publically available hoti haiusky andr galti sy changes krny k chances bhr jaty hain security decrese ho jati hai"
   ]
  },
  {
   "cell_type": "code",
   "execution_count": 9,
   "id": "f898c945-21bf-47a6-bb65-b30b4bf761a7",
   "metadata": {},
   "outputs": [
    {
     "name": "stdout",
     "output_type": "stream",
     "text": [
      "12345\n"
     ]
    },
    {
     "ename": "AttributeError",
     "evalue": "'Acount' object has no attribute '__acc_pass'",
     "output_type": "error",
     "traceback": [
      "\u001b[1;31m---------------------------------------------------------------------------\u001b[0m",
      "\u001b[1;31mAttributeError\u001b[0m                            Traceback (most recent call last)",
      "Cell \u001b[1;32mIn[9], line 10\u001b[0m\n\u001b[0;32m      7\u001b[0m acc1 \u001b[38;5;241m=\u001b[39m Acount(\u001b[38;5;124m\"\u001b[39m\u001b[38;5;124m12345\u001b[39m\u001b[38;5;124m\"\u001b[39m, \u001b[38;5;124m\"\u001b[39m\u001b[38;5;124mabcde\u001b[39m\u001b[38;5;124m\"\u001b[39m)\n\u001b[0;32m      9\u001b[0m \u001b[38;5;28mprint\u001b[39m(acc1\u001b[38;5;241m.\u001b[39macc_no)\n\u001b[1;32m---> 10\u001b[0m \u001b[38;5;28mprint\u001b[39m(acc1\u001b[38;5;241m.\u001b[39m__acc_pass)\n",
      "\u001b[1;31mAttributeError\u001b[0m: 'Acount' object has no attribute '__acc_pass'"
     ]
    }
   ],
   "source": [
    "class Acount:\n",
    "    \n",
    "    def __init__(self, acc_no, acc_pass):\n",
    "        self.acc_no = acc_no\n",
    "        self.__acc_pass = acc_pass # now this attribute is private \n",
    "\n",
    "acc1 = Acount(\"12345\", \"abcde\")\n",
    "\n",
    "print(acc1.acc_no)\n",
    "print(acc1.__acc_pass) \n"
   ]
  },
  {
   "cell_type": "code",
   "execution_count": 10,
   "id": "a27ea45d-3520-4820-a706-84df442a939c",
   "metadata": {},
   "outputs": [
    {
     "name": "stdout",
     "output_type": "stream",
     "text": [
      "12345\n"
     ]
    },
    {
     "ename": "AttributeError",
     "evalue": "'Acount' object has no attribute '__acc_pass'",
     "output_type": "error",
     "traceback": [
      "\u001b[1;31m---------------------------------------------------------------------------\u001b[0m",
      "\u001b[1;31mAttributeError\u001b[0m                            Traceback (most recent call last)",
      "Cell \u001b[1;32mIn[10], line 13\u001b[0m\n\u001b[0;32m     10\u001b[0m acc1 \u001b[38;5;241m=\u001b[39m Acount(\u001b[38;5;124m\"\u001b[39m\u001b[38;5;124m12345\u001b[39m\u001b[38;5;124m\"\u001b[39m, \u001b[38;5;124m\"\u001b[39m\u001b[38;5;124mabcde\u001b[39m\u001b[38;5;124m\"\u001b[39m)\n\u001b[0;32m     12\u001b[0m \u001b[38;5;28mprint\u001b[39m(acc1\u001b[38;5;241m.\u001b[39macc_no)\n\u001b[1;32m---> 13\u001b[0m \u001b[38;5;28mprint\u001b[39m(acc1\u001b[38;5;241m.\u001b[39m__acc_pass)\n",
      "\u001b[1;31mAttributeError\u001b[0m: 'Acount' object has no attribute '__acc_pass'"
     ]
    }
   ],
   "source": [
    "class Acount:\n",
    "    \n",
    "    def __init__(self, acc_no, acc_pass):\n",
    "        self.acc_no = acc_no\n",
    "        self.__acc_pass = acc_pass # now this attribute is private \n",
    "\n",
    "    def reset_pass(self):\n",
    "        print(self.__acc_pass)\n",
    "\n",
    "acc1 = Acount(\"12345\", \"abcde\")\n",
    "\n",
    "print(acc1.acc_no)\n",
    "print(acc1.__acc_pass) "
   ]
  },
  {
   "cell_type": "code",
   "execution_count": 13,
   "id": "b6f72f61-6ab4-44d7-a6dc-9deca6b42394",
   "metadata": {},
   "outputs": [
    {
     "name": "stdout",
     "output_type": "stream",
     "text": [
      "12345\n",
      "abcde\n",
      "None\n"
     ]
    }
   ],
   "source": [
    "class Acount:\n",
    "    \n",
    "    def __init__(self, acc_no, acc_pass):\n",
    "        self.acc_no = acc_no\n",
    "        self.__acc_pass = acc_pass # now this attribute is private \n",
    "\n",
    "    def reset_pass(self):\n",
    "        print(self.__acc_pass)\n",
    "\n",
    "acc1 = Acount(\"12345\", \"abcde\")\n",
    "\n",
    "print(acc1.acc_no)\n",
    "print(acc1.reset_pass()) "
   ]
  },
  {
   "cell_type": "code",
   "execution_count": 14,
   "id": "b9734c87-12a1-43ae-b79d-bd566deff5f7",
   "metadata": {},
   "outputs": [
    {
     "name": "stdout",
     "output_type": "stream",
     "text": [
      "12345\n",
      "abcde\n"
     ]
    }
   ],
   "source": [
    "class Acount:\n",
    "    \n",
    "    def __init__(self, acc_no, acc_pass):\n",
    "        self.acc_no = acc_no\n",
    "        self.__acc_pass = acc_pass # now this attribute is private \n",
    "\n",
    "    def reset_pass(self):\n",
    "        return (self.__acc_pass)\n",
    "\n",
    "acc1 = Acount(\"12345\", \"abcde\")\n",
    "\n",
    "print(acc1.acc_no)\n",
    "print(acc1.reset_pass()) "
   ]
  },
  {
   "cell_type": "code",
   "execution_count": 15,
   "id": "c0d07348-ffd3-459c-8baa-c3c7ec185a34",
   "metadata": {},
   "outputs": [
    {
     "name": "stdout",
     "output_type": "stream",
     "text": [
      "hello person!\n",
      "None\n"
     ]
    }
   ],
   "source": [
    "# agr hum ny class k andr kisi attribute ko double underscore laga k private krdiya hai tw ussy srf class k internal methods hain wahi access kr paegy bhr ussy koi access nahi kr pae ga\n",
    "\n",
    "class Person:\n",
    "    __name = \"Anonymous\"\n",
    "\n",
    "    def __hello(self):\n",
    "        print(\"hello person!\")\n",
    "\n",
    "    def welcome(self):\n",
    "        self.__hello()\n",
    "        \n",
    "p1 = Person()\n",
    "print(p1.welcome())"
   ]
  },
  {
   "cell_type": "code",
   "execution_count": null,
   "id": "5dde43c9-3178-4b38-b6a2-b8379c1e7309",
   "metadata": {},
   "outputs": [],
   "source": []
  }
 ],
 "metadata": {
  "kernelspec": {
   "display_name": "Python 3 (ipykernel)",
   "language": "python",
   "name": "python3"
  },
  "language_info": {
   "codemirror_mode": {
    "name": "ipython",
    "version": 3
   },
   "file_extension": ".py",
   "mimetype": "text/x-python",
   "name": "python",
   "nbconvert_exporter": "python",
   "pygments_lexer": "ipython3",
   "version": "3.13.5"
  }
 },
 "nbformat": 4,
 "nbformat_minor": 5
}
