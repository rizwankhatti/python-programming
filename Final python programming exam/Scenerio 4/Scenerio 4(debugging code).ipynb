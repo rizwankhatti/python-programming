{
 "cells": [
  {
   "cell_type": "code",
   "execution_count": 1,
   "id": "2ced1849-03ad-4750-93ac-950441ca6bb1",
   "metadata": {},
   "outputs": [
    {
     "name": "stdout",
     "output_type": "stream",
     "text": [
      "Total: 15\n",
      "Product: 120\n",
      "Average: 3.0\n"
     ]
    }
   ],
   "source": [
    "def perform_operations(numbers):\n",
    "    total = 0\n",
    "    product = 1\n",
    "    \n",
    "    for num in numbers:\n",
    "        total += num           \n",
    "        product *= num         \n",
    "        \n",
    "    average = total / len(numbers)  \n",
    "    return total, product, average\n",
    "\n",
    "numbers = [1, 2, 3, 4, 5]\n",
    "total, product, average = perform_operations(numbers)\n",
    "\n",
    "print(f\"Total: {total}\")\n",
    "print(f\"Product: {product}\")\n",
    "print(f\"Average: {average}\")"
   ]
  },
  {
   "cell_type": "code",
   "execution_count": null,
   "id": "e2a3553f-6ac4-4251-8203-afdd6019a8df",
   "metadata": {},
   "outputs": [],
   "source": []
  }
 ],
 "metadata": {
  "kernelspec": {
   "display_name": "Python 3 (ipykernel)",
   "language": "python",
   "name": "python3"
  },
  "language_info": {
   "codemirror_mode": {
    "name": "ipython",
    "version": 3
   },
   "file_extension": ".py",
   "mimetype": "text/x-python",
   "name": "python",
   "nbconvert_exporter": "python",
   "pygments_lexer": "ipython3",
   "version": "3.13.5"
  }
 },
 "nbformat": 4,
 "nbformat_minor": 5
}
