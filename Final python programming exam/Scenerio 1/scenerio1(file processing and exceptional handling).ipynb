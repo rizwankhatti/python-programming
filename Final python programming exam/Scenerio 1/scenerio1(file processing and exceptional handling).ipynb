{
 "cells": [
  {
   "cell_type": "code",
   "execution_count": 6,
   "id": "fe11b9cd-5d27-4520-a026-4080d96d2f5e",
   "metadata": {},
   "outputs": [
    {
     "name": "stdout",
     "output_type": "stream",
     "text": [
      "Invalid record format: \n",
      "\n",
      "Average Grade of Valid Students: 84.17\n"
     ]
    }
   ],
   "source": [
    "\n",
    "class InvalidGradeError(Exception):\n",
    "    def __init__(self, student_name, grade):\n",
    "        super().__init__(f\"Invalid grade '{grade}' for student {student_name}.\")\n",
    "\n",
    "\n",
    "def read_student_records(filename):\n",
    "    students = []\n",
    "    try:\n",
    "        with open(filename, \"r\") as file:\n",
    "            for line in file:\n",
    "                try:\n",
    "                    name, grade = line.strip().split(\",\")\n",
    "                    grade = grade.strip()\n",
    "                    \n",
    "                    # check if grade is a valid integer\n",
    "                    if not grade.isdigit():\n",
    "                        raise InvalidGradeError(name.strip(), grade)\n",
    "                    \n",
    "                    students.append(int(grade))\n",
    "                except InvalidGradeError as e:\n",
    "                    print(\"Error:\", e)\n",
    "                except ValueError:\n",
    "                    print(f\"Invalid record format: {line.strip()}\")\n",
    "    except FileNotFoundError:\n",
    "        print(f\"Error: File '{filename}' not found.\")\n",
    "    return students\n",
    "\n",
    "\n",
    "def calculate_average(grades):\n",
    "    if len(grades) == 0:\n",
    "        return 0\n",
    "    return sum(grades) / len(grades)\n",
    "\n",
    "if __name__ == \"__main__\":\n",
    "    filename = \"student_records.txt\"   # file name\n",
    "    grades = read_student_records(filename)\n",
    "\n",
    "    if grades:\n",
    "        average = calculate_average(grades)\n",
    "        print(f\"\\nAverage Grade of Valid Students: {average:.2f}\")\n",
    "    else:\n",
    "        print(\"No valid grades to calculate average.\")\n"
   ]
  },
  {
   "cell_type": "code",
   "execution_count": null,
   "id": "e3377899-7172-4c38-be22-ca13b7a12a27",
   "metadata": {},
   "outputs": [],
   "source": []
  },
  {
   "cell_type": "code",
   "execution_count": null,
   "id": "a1be422b-e385-415e-839c-6a4ce8bb1516",
   "metadata": {},
   "outputs": [],
   "source": []
  }
 ],
 "metadata": {
  "kernelspec": {
   "display_name": "Python 3 (ipykernel)",
   "language": "python",
   "name": "python3"
  },
  "language_info": {
   "codemirror_mode": {
    "name": "ipython",
    "version": 3
   },
   "file_extension": ".py",
   "mimetype": "text/x-python",
   "name": "python",
   "nbconvert_exporter": "python",
   "pygments_lexer": "ipython3",
   "version": "3.13.5"
  }
 },
 "nbformat": 4,
 "nbformat_minor": 5
}
